{
 "cells": [
  {
   "cell_type": "markdown",
   "metadata": {},
   "source": [
    "# J2_VOP benchmark "
   ]
  },
  {
   "cell_type": "markdown",
   "metadata": {},
   "source": [
    "<ul id=\"top\">\n",
    "<li><a href=\"#Loading-packages\"> \n",
    "             Loading Packages</a></li>\n",
    "    \n",
    "<li><a href=\"#Initial-value-problem:-J2-problem-(in-physical-time)\">\n",
    "              Initial value problem: J2-problem (in physical time)</a></li>\n",
    "    \n",
    "<li><a href=\"#Initial-value-problem:-VOP-formulation-of-$J_2$-KS-equation\">\n",
    "              Initial value problem: VOP formulation of $J_2$-KS equation</a></li>\n",
    "\n",
    "<li><a href=\"#Work-precision-diagrams\">\n",
    "             Work-precision diagrams</a></li>\n",
    "\n",
    "<li><a href=\"#Work-precision-diagrams-II-(DiffEqDevTools)\">\n",
    "             Work-precision diagrams-II (DiffEqDevTools) </a></li>\n",
    "\n",
    "</ul>  "
   ]
  },
  {
   "cell_type": "markdown",
   "metadata": {},
   "source": [
    "## Loading packages and functions"
   ]
  },
  {
   "cell_type": "code",
   "execution_count": 1,
   "metadata": {},
   "outputs": [],
   "source": [
    "using LinearAlgebra\n",
    "using Plots\n",
    "using DiffEqDevTools,BenchmarkTools\n",
    "using OrdinaryDiffEq\n",
    "using JLD2, FileIO\n",
    "using Parameters,NBInclude\n",
    "using IRKGaussLegendre"
   ]
  },
  {
   "cell_type": "code",
   "execution_count": 2,
   "metadata": {},
   "outputs": [
    {
     "data": {
      "text/plain": [
       "launch_method_tests (generic function with 1 method)"
      ]
     },
     "execution_count": 2,
     "metadata": {},
     "output_type": "execute_result"
    }
   ],
   "source": [
    "PATH_SRC=\"../../src_simd/\"\n",
    "include(string(PATH_SRC,\"IRKGL_SIMD.jl\"))\n",
    "using .IRKGL_SIMD   \n",
    "\n",
    "\n",
    "PATH_SRC=\"../../src_seq/\"\n",
    "include(string(PATH_SRC,\"IRKGL_SEQ.jl\"))\n",
    "using .IRKGL_SEQ  \n",
    "\n",
    "\n",
    "PATH_SRC=\"../../src/\"\n",
    "include(string(PATH_SRC,\"MyBenchmarksTools.jl\"))"
   ]
  },
  {
   "cell_type": "code",
   "execution_count": 3,
   "metadata": {},
   "outputs": [
    {
     "data": {
      "text/plain": [
       "false"
      ]
     },
     "execution_count": 3,
     "metadata": {},
     "output_type": "execute_result"
    }
   ],
   "source": [
    "run=false"
   ]
  },
  {
   "cell_type": "markdown",
   "metadata": {},
   "source": [
    "##### <a href=\"#top\">Hasierara</a>\n",
    "\n",
    "## Initial value problem: J2-problem (in physical time)"
   ]
  },
  {
   "cell_type": "code",
   "execution_count": 9,
   "metadata": {},
   "outputs": [
    {
     "data": {
      "text/plain": [
       "J2ODE! (generic function with 1 method)"
      ]
     },
     "execution_count": 9,
     "metadata": {},
     "output_type": "execute_result"
    }
   ],
   "source": [
    "#PATH_ODES=\"../../ODEProblems/\"\n",
    "#@nbinclude(string(PATH_ODES,\"J2_Problem.ipynb\"));\n",
    "\n",
    "function Energy(u,p)\n",
    "    μ = p[1]\n",
    "    R = p[2]\n",
    "    ϵ = p[3]\n",
    "    q = u[1:3]\n",
    "    v = u[4:6]\n",
    "    r = norm(q)\n",
    "    v2 = dot(v,v)\n",
    "    sinth2 = (u[3]/r)^2\n",
    "    aux = (R/r)^2\n",
    "    return 0.5*v2 - μ/r * (1 + 0.5*ϵ*aux * (1 - 3*sinth2))\n",
    "end\n",
    "\n",
    "function J2ODE!(du,u,p,t)\n",
    "    μ = p[1]\n",
    "    R = p[2]\n",
    "    ϵ = p[3]\n",
    "    x = u[1]\n",
    "    y = u[2]\n",
    "    z = u[3]\n",
    "    du[1] = u[4]\n",
    "    du[2] = u[5]\n",
    "    du[3] = u[6]\n",
    "    r2 = x^2+y^2+z^2\n",
    "    r = sqrt(r2)\n",
    "    aux1 = -μ/(r*r2)\n",
    "    F = 1.5 - 7.5*(z/r)^2\n",
    "    G =  3 + F\n",
    "    aux2 = ϵ*(R/r)^2\n",
    "    aux3 = aux1*(1+aux2*F)\n",
    "    aux4 = aux1*(1+aux2*G)\n",
    "    du[4]=aux3*x\n",
    "    du[5]=aux3*y\n",
    "    du[6]=aux4*z\n",
    "    return nothing\n",
    "end"
   ]
  },
  {
   "cell_type": "code",
   "execution_count": 10,
   "metadata": {},
   "outputs": [
    {
     "data": {
      "text/plain": [
       "-18.91737400006957"
      ]
     },
     "execution_count": 10,
     "metadata": {},
     "output_type": "execute_result"
    }
   ],
   "source": [
    "#q0 = [0., 37947.73745727695, 0.]\n",
    "#v0 = [3.297676220718193,0., 0.8244190551795483]\n",
    "\n",
    "q0 = [0., 9486.934364319237, 0.]\n",
    "v0 = [6.595352441436386, 0., 1.6488381103590966]\n",
    "\n",
    "u0 = vcat(q0,v0)\n",
    "dim=length(size(u0))\n",
    "\n",
    "μ = 398600.8\n",
    "Re = 6378.135\n",
    "ϵ = 0.0010826157\n",
    "p =  [μ, Re, ϵ]\n",
    "E0 = Energy(u0,p)"
   ]
  },
  {
   "cell_type": "code",
   "execution_count": 11,
   "metadata": {},
   "outputs": [
    {
     "name": "stdout",
     "output_type": "stream",
     "text": [
      "dt = 1077.05, n=1000, m=100\n"
     ]
    },
    {
     "ename": "LoadError",
     "evalue": "\"No matching function wrapper was found!\"",
     "output_type": "error",
     "traceback": [
      "\"No matching function wrapper was found!\"",
      "",
      "Stacktrace:",
      "  [1] _call(#unused#::Tuple{}, arg::Tuple{VecArray{8, Float64, 2}, VecArray{8, Float64, 2}, Vector{Float64}, SIMD.Vec{8, Float64}}, fww::FunctionWrappersWrappers.FunctionWrappersWrapper{Tuple{FunctionWrappers.FunctionWrapper{Nothing, Tuple{Vector{Float64}, Vector{Float64}, Vector{Float64}, Float64}}, FunctionWrappers.FunctionWrapper{Nothing, Tuple{Vector{ForwardDiff.Dual{ForwardDiff.Tag{DiffEqBase.OrdinaryDiffEqTag, Float64}, Float64, 1}}, Vector{ForwardDiff.Dual{ForwardDiff.Tag{DiffEqBase.OrdinaryDiffEqTag, Float64}, Float64, 1}}, Vector{Float64}, Float64}}, FunctionWrappers.FunctionWrapper{Nothing, Tuple{Vector{ForwardDiff.Dual{ForwardDiff.Tag{DiffEqBase.OrdinaryDiffEqTag, Float64}, Float64, 1}}, Vector{Float64}, Vector{Float64}, ForwardDiff.Dual{ForwardDiff.Tag{DiffEqBase.OrdinaryDiffEqTag, Float64}, Float64, 1}}}, FunctionWrappers.FunctionWrapper{Nothing, Tuple{Vector{ForwardDiff.Dual{ForwardDiff.Tag{DiffEqBase.OrdinaryDiffEqTag, Float64}, Float64, 1}}, Vector{ForwardDiff.Dual{ForwardDiff.Tag{DiffEqBase.OrdinaryDiffEqTag, Float64}, Float64, 1}}, Vector{Float64}, ForwardDiff.Dual{ForwardDiff.Tag{DiffEqBase.OrdinaryDiffEqTag, Float64}, Float64, 1}}}}, false})",
      "    @ FunctionWrappersWrappers ~/.julia/packages/FunctionWrappersWrappers/YyXoO/src/FunctionWrappersWrappers.jl:14",
      "  [2] _call(fw::Tuple{FunctionWrappers.FunctionWrapper{Nothing, Tuple{Vector{ForwardDiff.Dual{ForwardDiff.Tag{DiffEqBase.OrdinaryDiffEqTag, Float64}, Float64, 1}}, Vector{ForwardDiff.Dual{ForwardDiff.Tag{DiffEqBase.OrdinaryDiffEqTag, Float64}, Float64, 1}}, Vector{Float64}, ForwardDiff.Dual{ForwardDiff.Tag{DiffEqBase.OrdinaryDiffEqTag, Float64}, Float64, 1}}}}, arg::Tuple{VecArray{8, Float64, 2}, VecArray{8, Float64, 2}, Vector{Float64}, SIMD.Vec{8, Float64}}, fww::FunctionWrappersWrappers.FunctionWrappersWrapper{Tuple{FunctionWrappers.FunctionWrapper{Nothing, Tuple{Vector{Float64}, Vector{Float64}, Vector{Float64}, Float64}}, FunctionWrappers.FunctionWrapper{Nothing, Tuple{Vector{ForwardDiff.Dual{ForwardDiff.Tag{DiffEqBase.OrdinaryDiffEqTag, Float64}, Float64, 1}}, Vector{ForwardDiff.Dual{ForwardDiff.Tag{DiffEqBase.OrdinaryDiffEqTag, Float64}, Float64, 1}}, Vector{Float64}, Float64}}, FunctionWrappers.FunctionWrapper{Nothing, Tuple{Vector{ForwardDiff.Dual{ForwardDiff.Tag{DiffEqBase.OrdinaryDiffEqTag, Float64}, Float64, 1}}, Vector{Float64}, Vector{Float64}, ForwardDiff.Dual{ForwardDiff.Tag{DiffEqBase.OrdinaryDiffEqTag, Float64}, Float64, 1}}}, FunctionWrappers.FunctionWrapper{Nothing, Tuple{Vector{ForwardDiff.Dual{ForwardDiff.Tag{DiffEqBase.OrdinaryDiffEqTag, Float64}, Float64, 1}}, Vector{ForwardDiff.Dual{ForwardDiff.Tag{DiffEqBase.OrdinaryDiffEqTag, Float64}, Float64, 1}}, Vector{Float64}, ForwardDiff.Dual{ForwardDiff.Tag{DiffEqBase.OrdinaryDiffEqTag, Float64}, Float64, 1}}}}, false}) (repeats 4 times)",
      "    @ FunctionWrappersWrappers ~/.julia/packages/FunctionWrappersWrappers/YyXoO/src/FunctionWrappersWrappers.jl:13",
      "  [3] (::FunctionWrappersWrappers.FunctionWrappersWrapper{Tuple{FunctionWrappers.FunctionWrapper{Nothing, Tuple{Vector{Float64}, Vector{Float64}, Vector{Float64}, Float64}}, FunctionWrappers.FunctionWrapper{Nothing, Tuple{Vector{ForwardDiff.Dual{ForwardDiff.Tag{DiffEqBase.OrdinaryDiffEqTag, Float64}, Float64, 1}}, Vector{ForwardDiff.Dual{ForwardDiff.Tag{DiffEqBase.OrdinaryDiffEqTag, Float64}, Float64, 1}}, Vector{Float64}, Float64}}, FunctionWrappers.FunctionWrapper{Nothing, Tuple{Vector{ForwardDiff.Dual{ForwardDiff.Tag{DiffEqBase.OrdinaryDiffEqTag, Float64}, Float64, 1}}, Vector{Float64}, Vector{Float64}, ForwardDiff.Dual{ForwardDiff.Tag{DiffEqBase.OrdinaryDiffEqTag, Float64}, Float64, 1}}}, FunctionWrappers.FunctionWrapper{Nothing, Tuple{Vector{ForwardDiff.Dual{ForwardDiff.Tag{DiffEqBase.OrdinaryDiffEqTag, Float64}, Float64, 1}}, Vector{ForwardDiff.Dual{ForwardDiff.Tag{DiffEqBase.OrdinaryDiffEqTag, Float64}, Float64, 1}}, Vector{Float64}, ForwardDiff.Dual{ForwardDiff.Tag{DiffEqBase.OrdinaryDiffEqTag, Float64}, Float64, 1}}}}, false})(::VecArray{8, Float64, 2}, ::VecArray{8, Float64, 2}, ::Vector{Float64}, ::SIMD.Vec{8, Float64})",
      "    @ FunctionWrappersWrappers ~/.julia/packages/FunctionWrappersWrappers/YyXoO/src/FunctionWrappersWrappers.jl:10",
      "  [4] (::ODEFunction{true, SciMLBase.AutoSpecialize, FunctionWrappersWrappers.FunctionWrappersWrapper{Tuple{FunctionWrappers.FunctionWrapper{Nothing, Tuple{Vector{Float64}, Vector{Float64}, Vector{Float64}, Float64}}, FunctionWrappers.FunctionWrapper{Nothing, Tuple{Vector{ForwardDiff.Dual{ForwardDiff.Tag{DiffEqBase.OrdinaryDiffEqTag, Float64}, Float64, 1}}, Vector{ForwardDiff.Dual{ForwardDiff.Tag{DiffEqBase.OrdinaryDiffEqTag, Float64}, Float64, 1}}, Vector{Float64}, Float64}}, FunctionWrappers.FunctionWrapper{Nothing, Tuple{Vector{ForwardDiff.Dual{ForwardDiff.Tag{DiffEqBase.OrdinaryDiffEqTag, Float64}, Float64, 1}}, Vector{Float64}, Vector{Float64}, ForwardDiff.Dual{ForwardDiff.Tag{DiffEqBase.OrdinaryDiffEqTag, Float64}, Float64, 1}}}, FunctionWrappers.FunctionWrapper{Nothing, Tuple{Vector{ForwardDiff.Dual{ForwardDiff.Tag{DiffEqBase.OrdinaryDiffEqTag, Float64}, Float64, 1}}, Vector{ForwardDiff.Dual{ForwardDiff.Tag{DiffEqBase.OrdinaryDiffEqTag, Float64}, Float64, 1}}, Vector{Float64}, ForwardDiff.Dual{ForwardDiff.Tag{DiffEqBase.OrdinaryDiffEqTag, Float64}, Float64, 1}}}}, false}, UniformScaling{Bool}, Nothing, Nothing, Nothing, Nothing, Nothing, Nothing, Nothing, Nothing, Nothing, Nothing, Nothing, Nothing, Nothing, typeof(SciMLBase.DEFAULT_OBSERVED), Nothing, Nothing})(::VecArray{8, Float64, 2}, ::Vararg{Any})",
      "    @ SciMLBase ~/.julia/packages/SciMLBase/QqtZA/src/scimlfunctions.jl:2096",
      "  [5] IRKGLstep_SIMD_fixed!(ttj::Vector{Float64}, tj1::Float64, uj::Vector{Float64}, ej::Vector{Float64}, prob::ODEProblem{Vector{Float64}, Tuple{Float64, Float64}, true, Vector{Float64}, ODEFunction{true, SciMLBase.AutoSpecialize, FunctionWrappersWrappers.FunctionWrappersWrapper{Tuple{FunctionWrappers.FunctionWrapper{Nothing, Tuple{Vector{Float64}, Vector{Float64}, Vector{Float64}, Float64}}, FunctionWrappers.FunctionWrapper{Nothing, Tuple{Vector{ForwardDiff.Dual{ForwardDiff.Tag{DiffEqBase.OrdinaryDiffEqTag, Float64}, Float64, 1}}, Vector{ForwardDiff.Dual{ForwardDiff.Tag{DiffEqBase.OrdinaryDiffEqTag, Float64}, Float64, 1}}, Vector{Float64}, Float64}}, FunctionWrappers.FunctionWrapper{Nothing, Tuple{Vector{ForwardDiff.Dual{ForwardDiff.Tag{DiffEqBase.OrdinaryDiffEqTag, Float64}, Float64, 1}}, Vector{Float64}, Vector{Float64}, ForwardDiff.Dual{ForwardDiff.Tag{DiffEqBase.OrdinaryDiffEqTag, Float64}, Float64, 1}}}, FunctionWrappers.FunctionWrapper{Nothing, Tuple{Vector{ForwardDiff.Dual{ForwardDiff.Tag{DiffEqBase.OrdinaryDiffEqTag, Float64}, Float64, 1}}, Vector{ForwardDiff.Dual{ForwardDiff.Tag{DiffEqBase.OrdinaryDiffEqTag, Float64}, Float64, 1}}, Vector{Float64}, ForwardDiff.Dual{ForwardDiff.Tag{DiffEqBase.OrdinaryDiffEqTag, Float64}, Float64, 1}}}}, false}, UniformScaling{Bool}, Nothing, Nothing, Nothing, Nothing, Nothing, Nothing, Nothing, Nothing, Nothing, Nothing, Nothing, Nothing, Nothing, typeof(SciMLBase.DEFAULT_OBSERVED), Nothing, Nothing}, Base.Pairs{Symbol, Union{}, Tuple{}, NamedTuple{(), Tuple{}}}, SciMLBase.StandardODEProblem}, dts::Vector{Float64}, irkglcache::Main.IRKGL_SIMD.IRKGL_SIMD_Cache{Float64, ODEFunction{true, SciMLBase.AutoSpecialize, FunctionWrappersWrappers.FunctionWrappersWrapper{Tuple{FunctionWrappers.FunctionWrapper{Nothing, Tuple{Vector{Float64}, Vector{Float64}, Vector{Float64}, Float64}}, FunctionWrappers.FunctionWrapper{Nothing, Tuple{Vector{ForwardDiff.Dual{ForwardDiff.Tag{DiffEqBase.OrdinaryDiffEqTag, Float64}, Float64, 1}}, Vector{ForwardDiff.Dual{ForwardDiff.Tag{DiffEqBase.OrdinaryDiffEqTag, Float64}, Float64, 1}}, Vector{Float64}, Float64}}, FunctionWrappers.FunctionWrapper{Nothing, Tuple{Vector{ForwardDiff.Dual{ForwardDiff.Tag{DiffEqBase.OrdinaryDiffEqTag, Float64}, Float64, 1}}, Vector{Float64}, Vector{Float64}, ForwardDiff.Dual{ForwardDiff.Tag{DiffEqBase.OrdinaryDiffEqTag, Float64}, Float64, 1}}}, FunctionWrappers.FunctionWrapper{Nothing, Tuple{Vector{ForwardDiff.Dual{ForwardDiff.Tag{DiffEqBase.OrdinaryDiffEqTag, Float64}, Float64, 1}}, Vector{ForwardDiff.Dual{ForwardDiff.Tag{DiffEqBase.OrdinaryDiffEqTag, Float64}, Float64, 1}}, Vector{Float64}, ForwardDiff.Dual{ForwardDiff.Tag{DiffEqBase.OrdinaryDiffEqTag, Float64}, Float64, 1}}}}, false}, UniformScaling{Bool}, Nothing, Nothing, Nothing, Nothing, Nothing, Nothing, Nothing, Nothing, Nothing, Nothing, Nothing, Nothing, Nothing, typeof(SciMLBase.DEFAULT_OBSERVED), Nothing, Nothing}, Vector{Float64}, 8, 1, 2})",
      "    @ Main.IRKGL_SIMD ~/Mahaigaina/Work-2021-2022/PIC/PIC-2021-2022/Softwarea/2-IRKGL_Formulazio_Berria/IRKGL_Formulazioa_Zaharra v2/src_simd/IRKGL_SIMD_Step_Functions.jl:77",
      "  [6] __solve(::ODEProblem{Vector{Float64}, Tuple{Float64, Float64}, true, Vector{Float64}, ODEFunction{true, SciMLBase.AutoSpecialize, FunctionWrappersWrappers.FunctionWrappersWrapper{Tuple{FunctionWrappers.FunctionWrapper{Nothing, Tuple{Vector{Float64}, Vector{Float64}, Vector{Float64}, Float64}}, FunctionWrappers.FunctionWrapper{Nothing, Tuple{Vector{ForwardDiff.Dual{ForwardDiff.Tag{DiffEqBase.OrdinaryDiffEqTag, Float64}, Float64, 1}}, Vector{ForwardDiff.Dual{ForwardDiff.Tag{DiffEqBase.OrdinaryDiffEqTag, Float64}, Float64, 1}}, Vector{Float64}, Float64}}, FunctionWrappers.FunctionWrapper{Nothing, Tuple{Vector{ForwardDiff.Dual{ForwardDiff.Tag{DiffEqBase.OrdinaryDiffEqTag, Float64}, Float64, 1}}, Vector{Float64}, Vector{Float64}, ForwardDiff.Dual{ForwardDiff.Tag{DiffEqBase.OrdinaryDiffEqTag, Float64}, Float64, 1}}}, FunctionWrappers.FunctionWrapper{Nothing, Tuple{Vector{ForwardDiff.Dual{ForwardDiff.Tag{DiffEqBase.OrdinaryDiffEqTag, Float64}, Float64, 1}}, Vector{ForwardDiff.Dual{ForwardDiff.Tag{DiffEqBase.OrdinaryDiffEqTag, Float64}, Float64, 1}}, Vector{Float64}, ForwardDiff.Dual{ForwardDiff.Tag{DiffEqBase.OrdinaryDiffEqTag, Float64}, Float64, 1}}}}, false}, UniformScaling{Bool}, Nothing, Nothing, Nothing, Nothing, Nothing, Nothing, Nothing, Nothing, Nothing, Nothing, Nothing, Nothing, Nothing, typeof(SciMLBase.DEFAULT_OBSERVED), Nothing, Nothing}, Base.Pairs{Symbol, Union{}, Tuple{}, NamedTuple{(), Tuple{}}}, SciMLBase.StandardODEProblem}, ::IRKGL_simd{8, 1, 1, Float64, 100, true, 0}; dt::Float64, saveat::Vector{Any}, save_everystep::Bool, adaptive::Bool, maxiters::Int64, reltol::Float64, abstol::Float64, kwargs::Base.Pairs{Symbol, Union{}, Tuple{}, NamedTuple{(), Tuple{}}})",
      "    @ Main.IRKGL_SIMD ~/Mahaigaina/Work-2021-2022/PIC/PIC-2021-2022/Softwarea/2-IRKGL_Formulazio_Berria/IRKGL_Formulazioa_Zaharra v2/src_simd/IRKGL_SIMD_Solver.jl:282",
      "  [7] #solve_call#21",
      "    @ ~/.julia/packages/DiffEqBase/wXM5P/src/solve.jl:494 [inlined]",
      "  [8] solve_up(prob::ODEProblem{Vector{Float64}, Tuple{Float64, Float64}, true, Vector{Float64}, ODEFunction{true, SciMLBase.AutoSpecialize, typeof(J2ODE!), UniformScaling{Bool}, Nothing, Nothing, Nothing, Nothing, Nothing, Nothing, Nothing, Nothing, Nothing, Nothing, Nothing, Nothing, Nothing, typeof(SciMLBase.DEFAULT_OBSERVED), Nothing, Nothing}, Base.Pairs{Symbol, Union{}, Tuple{}, NamedTuple{(), Tuple{}}}, SciMLBase.StandardODEProblem}, sensealg::Nothing, u0::Vector{Float64}, p::Vector{Float64}, args::IRKGL_simd{8, 1, 1, Float64, 100, true, 0}; kwargs::Base.Pairs{Symbol, Real, Tuple{Symbol, Symbol}, NamedTuple{(:dt, :adaptive), Tuple{Float64, Bool}}})",
      "    @ DiffEqBase ~/.julia/packages/DiffEqBase/wXM5P/src/solve.jl:856",
      "  [9] solve(prob::ODEProblem{Vector{Float64}, Tuple{Float64, Float64}, true, Vector{Float64}, ODEFunction{true, SciMLBase.AutoSpecialize, typeof(J2ODE!), UniformScaling{Bool}, Nothing, Nothing, Nothing, Nothing, Nothing, Nothing, Nothing, Nothing, Nothing, Nothing, Nothing, Nothing, Nothing, typeof(SciMLBase.DEFAULT_OBSERVED), Nothing, Nothing}, Base.Pairs{Symbol, Union{}, Tuple{}, NamedTuple{(), Tuple{}}}, SciMLBase.StandardODEProblem}, args::IRKGL_simd{8, 1, 1, Float64, 100, true, 0}; sensealg::Nothing, u0::Nothing, p::Nothing, wrap::Val{true}, kwargs::Base.Pairs{Symbol, Real, Tuple{Symbol, Symbol}, NamedTuple{(:dt, :adaptive), Tuple{Float64, Bool}}})",
      "    @ DiffEqBase ~/.julia/packages/DiffEqBase/wXM5P/src/solve.jl:823",
      " [10] top-level scope",
      "    @ In[11]:20"
     ]
    }
   ],
   "source": [
    "s=8\n",
    "\n",
    "t0 = 0.\n",
    "birak = 10000\n",
    "tF = birak*10770.5\n",
    "dt = (tF-t0)/(10*birak)\n",
    "\n",
    "n = 1000\n",
    "#n = 5\n",
    "\n",
    "m = convert(Int64,ceil(abs(tF-t0)/(n*dt)))\n",
    "m=100\n",
    "n = convert(Int64,ceil(abs(tF-t0)/(m*dt))) # Number of macro-steps (Output is saved for n+1 time values)\n",
    "dt = (tF-t0)/(n*m)\n",
    "println(\"dt = $dt, n=$n, m=$m\")\n",
    "\n",
    "prob = ODEProblem(J2ODE!, u0, (t0,tF), p)\n",
    "\n",
    "alg=IRKGL_simd(s=s, initial_interp=1, dim=dim, floatType=Float64, m=m, myoutputs=true)\n",
    "sol0,iters0=solve(prob, alg, dt=dt, adaptive=false);"
   ]
  },
  {
   "cell_type": "code",
   "execution_count": 7,
   "metadata": {},
   "outputs": [],
   "source": [
    "alg1=IRKGL_Seq(s=s, initial_interp=1,  m=m, myoutputs=true)\n",
    "asol1,iters1=solve(prob, alg1, dt=dt, adaptive=false);"
   ]
  },
  {
   "cell_type": "code",
   "execution_count": null,
   "metadata": {},
   "outputs": [],
   "source": [
    "plot(sol0.t[2:end],  iters0[2:end], title=\"Iteration numbers\", legend=false, size=(800,200))\n",
    "plot!(sol1.t[2:end], iters1[2:end], legend=false)"
   ]
  },
  {
   "cell_type": "code",
   "execution_count": null,
   "metadata": {},
   "outputs": [],
   "source": [
    "E0 = Energy(BigFloat.(u0),p)\n",
    "yrange = (1e-20,1e-10)\n",
    "year = 365.5\n",
    "epsilon = eps(1e-3)\n",
    "tt = sol0.t[2:end]/year\n",
    "energia_erroreak0 = [Float64.(abs(Energy(BigFloat.(u),p)/E0-1)) for u in sol0.u[2:end]]\n",
    "energia_erroreak1 = [Float64.(abs(Energy(BigFloat.(u),p)/E0-1)) for u in sol1.u[2:end]]\n",
    "\n",
    "\n",
    "plot(title=\"Energia errore erlatiboen eboluzioa\",\n",
    "         yscale=:log10, ylims=yrange, legend=:bottomright, size=(800,200))\n",
    "plot!(tt,  energia_erroreak0, label=\"IRK16_SIMD\")\n",
    "plot!(tt, energia_erroreak1, label=\"IRK16_Seq\")\n",
    "\n"
   ]
  },
  {
   "cell_type": "code",
   "execution_count": null,
   "metadata": {},
   "outputs": [],
   "source": [
    "xx = [u[1] for u in sol0.u]\n",
    "yy = [u[2] for u in sol0.u]\n",
    "plot(xx,yy, aspect_ratio=1, title=\"Satellite J2 Problem\", legend=false, xlabel=\"x\", ylabel=\"y\")"
   ]
  },
  {
   "cell_type": "markdown",
   "metadata": {},
   "source": [
    "##### <a href=\"#top\">Back to the top</a>\n",
    "\n",
    "## Initial value problem: VOP formulation of $J_2$-KS equation\n"
   ]
  },
  {
   "cell_type": "code",
   "execution_count": null,
   "metadata": {},
   "outputs": [],
   "source": [
    "PATH_ODES=\"../../ODEProblems/\"\n",
    "\n",
    "@nbinclude(string(PATH_ODES,\"J2_VOP.ipynb\"));"
   ]
  },
  {
   "cell_type": "code",
   "execution_count": null,
   "metadata": {},
   "outputs": [],
   "source": [
    "q0 = [0., 37947.73745727695, 0.]\n",
    "v0 = [3.297676220718193,0., 0.8244190551795483]\n",
    "μ = 398600.8\n",
    "h = μ/norm(q0) - 0.5*dot(v0,v0) -  V(q0) \n",
    "ω = sqrt(h/2)\n",
    "\n",
    "u0 = χ(q0)\n",
    "V0 = vcat(v0,[0.])\n",
    "w0 = 0.5*L(u0)' * V0\n",
    "r0 = norm(q0)\n",
    "\n",
    "dim=length(size(u0))\n",
    "\n",
    "# Konprobazioa:\n",
    "(norm(L(u0)*u0 - vcat(q0,[0.])), norm(r0*V0 - 2* L(u0) * w0))"
   ]
  },
  {
   "cell_type": "code",
   "execution_count": null,
   "metadata": {},
   "outputs": [],
   "source": [
    "Ifcn(u0,w0)"
   ]
  },
  {
   "cell_type": "markdown",
   "metadata": {},
   "source": [
    "### VOP formulation\n",
    "\n",
    "\n"
   ]
  },
  {
   "cell_type": "code",
   "execution_count": null,
   "metadata": {},
   "outputs": [],
   "source": [
    "α0 = u0\n",
    "β0 = w0\n",
    "U0 = vcat(α0, β0)\n",
    "μ = 398600.8\n",
    "h = μ/norm(q0) - 0.5*dot(v0,v0) -  V(q0)\n",
    "ω = sqrt(h/2)\n",
    "C = 1.7554962315534863e10\n",
    "p = [C, ω, μ];"
   ]
  },
  {
   "cell_type": "markdown",
   "metadata": {},
   "source": [
    "### Integration parameters"
   ]
  },
  {
   "cell_type": "code",
   "execution_count": null,
   "metadata": {
    "scrolled": true
   },
   "outputs": [],
   "source": [
    "s=8\n",
    "\n",
    "t0 = 0.\n",
    "sasi_periodo = 2*π/ω\n",
    "sasi_periodo = 6/ω\n",
    "dt = sasi_periodo/5\n",
    "tF = 20000*sasi_periodo\n",
    "tF = 2000*sasi_periodo\n",
    "\n",
    "n = 1000\n",
    "#n = 5\n",
    "\n",
    "m = convert(Int64,ceil(abs(tF-t0)/(n*dt)))\n",
    "m=100\n",
    "n = convert(Int64,ceil(abs(tF-t0)/(m*dt))) # Number of macro-steps (Output is saved for n+1 time values)\n",
    "dt = (tF-t0)/(n*m)\n",
    "println(\"dt = $dt, n=$n, m=$m\")\n",
    "\n",
    "prob = ODEProblem(J2VOPODE!, U0, (t0,tF), p)\n",
    "\n",
    "tspan_B=(BigFloat(t0),BigFloat(tF))\n",
    "U0_B=BigFloat.(U0)\n",
    "p_B=BigFloat.(p)\n",
    "\n",
    "prob_B = ODEProblem(J2VOPODE!, U0_B, tspan_B, p_B);"
   ]
  },
  {
   "cell_type": "markdown",
   "metadata": {},
   "source": [
    "##### <a href=\"#top\">Back to the top</a>\n",
    "\n",
    "## Work-precision diagrams"
   ]
  },
  {
   "cell_type": "markdown",
   "metadata": {},
   "source": [
    "### Test-Solution"
   ]
  },
  {
   "cell_type": "code",
   "execution_count": null,
   "metadata": {},
   "outputs": [],
   "source": [
    "if run==true\n",
    "   sol =solve(prob_B,Vern9(),save_everystep=false, abstol=1e-16,reltol=1e-16)\n",
    "   @save \"./Data/VOP_sol_T2000.jld2\" sol\n",
    "else\n",
    "   @load \"./Data/VOP_sol_T2000.jld2\" sol\n",
    "end\n",
    "   \n",
    "test_sol = TestSolution(sol)\n",
    "final_state=sol.u[end]\n",
    "\n",
    "E0=J2VOPEnergy(sol.u[1],p_B,sol.t[1])\n",
    "(Float32(sol.t[end]),Float32(J2VOPEnergy(sol.u[end],p_B,sol.t[end])/E0-1))"
   ]
  },
  {
   "cell_type": "markdown",
   "metadata": {},
   "source": [
    "### Integrations"
   ]
  },
  {
   "cell_type": "code",
   "execution_count": null,
   "metadata": {},
   "outputs": [],
   "source": [
    "tols=abstols=reltols=[1e-8, 1e-9, 1e-10, 1e-11, 1e-12, 1e-13, 1e-14, 1e-15]\n",
    "\n",
    "dts8= [0.4, 0.45, 0.5, 0.55, 0.6, 0.65, 0.70, 0.75, 0.80, 0.85, 0.90, 0.95, 1., 1.05, 1.1]\n",
    "dtsVern=dts8/2;"
   ]
  },
  {
   "cell_type": "code",
   "execution_count": null,
   "metadata": {},
   "outputs": [],
   "source": [
    "nruns=100\n",
    "\n",
    "s=8\n",
    "\n",
    "wp1=launch_IRKGL16_tests(IRKGL16(),final_state, prob, dts8; adaptive=false, nruns=nruns)\n",
    "wp2=launch_IRKGL_tests(IRKGL_simd, final_state, prob, s, dts8; dim=dim, adaptive=false,\n",
    "                       initial_interp=0, nruns=nruns);\n",
    "\n",
    "wp11=launch_method_tests(Vern9(), final_state, prob, dtsVern, adaptive=false, nruns=nruns)\n",
    "wp12=launch_method_tests(Vern9(), final_state, prob, adaptive=true, tols, nruns=nruns);"
   ]
  },
  {
   "cell_type": "markdown",
   "metadata": {},
   "source": [
    "### Plots: IRKGL16-seq vs IRKGL16-simd"
   ]
  },
  {
   "cell_type": "code",
   "execution_count": null,
   "metadata": {},
   "outputs": [],
   "source": [
    "yrange=(10^(-2.5),10^(-1.))\n",
    "\n",
    "plot(title=\"J2_VOP \",xlabel=\"Error\", ylabel=\"Time (s)\", ylims=yrange,\n",
    "    xticks=[1e-16,1e-15,1e-14,1e-13,1e-12, 1e-11, 1e-10])\n",
    "# \n",
    "plot!(wp1.errors, wp1.times, seriestype=:scatter, scale=:log10, label=\"\",color=\"blue\") #label=\"IRKGL16\"\n",
    "plot!(wp1.errors, wp1.times, scale=:log10, label=\"\", lw=3, color=\"blue\")\n",
    "\n",
    "#\n",
    "plot!(wp2.errors, wp2.times, seriestype=:scatter, scale=:log10, label=\"\",color=\"green\") #label=\"IRKGL16_simd\"\n",
    "plot!(wp2.errors, wp2.times, scale=:log10, label=\"\", lw=3, color=\"green\")\n",
    "#\n",
    "#"
   ]
  },
  {
   "cell_type": "markdown",
   "metadata": {},
   "source": [
    "### Plots: IRKGL16-simd vs Vern9/DPRKN12"
   ]
  },
  {
   "cell_type": "code",
   "execution_count": null,
   "metadata": {},
   "outputs": [],
   "source": [
    "plot(title=\"J2_VOP benchmark\",xlabel=\"Error\", ylabel=\"Time (s)\")\n",
    "# \n",
    "plot!(wp12.errors, wp12.times, seriestype=:scatter, scale=:log10, label=\"Vern9-Adap\",color=\"red\")\n",
    "plot!(wp12.errors, wp12.times, scale=:log10, label=\"\", lw=3, color=\"red\")\n",
    "#\n",
    "plot!(wp11.errors, wp11.times, seriestype=:scatter, scale=:log10, label=\"Vern9-Fix\",color=\"blue\")\n",
    "plot!(wp11.errors, wp11.times, scale=:log10, label=\"\", lw=3, color=\"blue\")\n",
    "\n",
    "#\n",
    "plot!(wp2.errors, wp2.times, seriestype=:scatter, scale=:log10, label=\"IRKGL_simd_s8\",color=\"green\")\n",
    "plot!(wp2.errors, wp2.times, scale=:log10, label=\"\", lw=3, color=\"green\")\n",
    "#\n",
    "#"
   ]
  },
  {
   "cell_type": "code",
   "execution_count": null,
   "metadata": {},
   "outputs": [],
   "source": [
    "yrange=(10^(-2.25),10^(-1.5))\n",
    "\n",
    "plot(title=\"J2_VOP\",xlabel=\"Error\", ylabel=\"Time (s)\", ylims=yrange,\n",
    "     xticks=[1e-16,1e-15,1e-14,1e-13,1e-12,1e-11, 1e-10])\n",
    "# \n",
    "#plot!(wp12.errors, wp12.times, seriestype=:scatter, scale=:log10, label=\"Vern9-Adap\",color=\"red\")\n",
    "#plot!(wp12.errors, wp12.times, scale=:log10, label=\"\", lw=2, color=\"red\")\n",
    "#\n",
    " plot!(wp11.errors, wp11.times, seriestype=:scatter, scale=:log10, label=\"\",color=\"orange\") #label=\"Vern9\"\n",
    " plot!(wp11.errors, wp11.times, scale=:log10, label=\"\", lw=3, color=\"orange\")\n",
    "\n",
    "#\n",
    "plot!(wp2.errors, wp2.times, seriestype=:scatter, scale=:log10, label=\"\",color=\"green\") #label=\"IRKGL16_simd\"\n",
    "plot!(wp2.errors, wp2.times, scale=:log10, label=\"\", lw=3, color=\"green\")\n",
    "#"
   ]
  },
  {
   "cell_type": "markdown",
   "metadata": {},
   "source": [
    "##### <a href=\"#top\">Back to the top</a>\n",
    "\n",
    "## Work-precision diagrams-II (DiffEqDevTools)"
   ]
  },
  {
   "cell_type": "code",
   "execution_count": null,
   "metadata": {},
   "outputs": [],
   "source": [
    "nruns=100\n",
    "s=8\n",
    "\n",
    "setups = [\n",
    "           Dict(:alg=>Vern9(),:adaptive=>false,:dts=>dtsVern)\n",
    "           Dict(:alg=>IRKGL_simd(s=s, dim=dim,initial_interp=0),:adaptive=>false,:dts=>dts8)\n",
    "]\n",
    "solnames = [\"Vern9\",\"IRKGL16-simd\"]\n",
    "wp = WorkPrecisionSet(prob,abstols,reltols,setups;appxsol=test_sol,save_everystep=false,numruns=nruns,names=solnames);"
   ]
  },
  {
   "cell_type": "markdown",
   "metadata": {},
   "source": [
    "### plot(wp)"
   ]
  },
  {
   "cell_type": "code",
   "execution_count": null,
   "metadata": {},
   "outputs": [],
   "source": [
    "plot(wp)"
   ]
  },
  {
   "cell_type": "code",
   "execution_count": null,
   "metadata": {},
   "outputs": [],
   "source": []
  }
 ],
 "metadata": {
  "@webio": {
   "lastCommId": null,
   "lastKernelId": null
  },
  "kernelspec": {
   "display_name": "Julia 1.8.4",
   "language": "julia",
   "name": "julia-1.8"
  },
  "language_info": {
   "file_extension": ".jl",
   "mimetype": "application/julia",
   "name": "julia",
   "version": "1.8.4"
  }
 },
 "nbformat": 4,
 "nbformat_minor": 2
}
