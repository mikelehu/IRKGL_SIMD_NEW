{
 "cells": [
  {
   "cell_type": "markdown",
   "metadata": {},
   "source": [
    "# Outer Solar System IRNKGL-seq-BigFloat"
   ]
  },
  {
   "cell_type": "markdown",
   "metadata": {},
   "source": [
    "## Loading packages and functions"
   ]
  },
  {
   "cell_type": "code",
   "execution_count": 6,
   "metadata": {},
   "outputs": [],
   "source": [
    "using LinearAlgebra\n",
    "using Plots\n",
    "using JLD2\n",
    "#FileIO\n",
    "using Dates"
   ]
  },
  {
   "cell_type": "code",
   "execution_count": 2,
   "metadata": {},
   "outputs": [],
   "source": [
    "PATH_SRC=\"../../src_seq/\"\n",
    "\n",
    "include(string(PATH_SRC,\"IRKGL_SEQ.jl\"))\n",
    "using .IRKGL_SEQ    "
   ]
  },
  {
   "cell_type": "code",
   "execution_count": 7,
   "metadata": {},
   "outputs": [
    {
     "data": {
      "text/plain": [
       "256"
      ]
     },
     "execution_count": 7,
     "metadata": {},
     "output_type": "execute_result"
    }
   ],
   "source": [
    "setprecision(BigFloat, 256)"
   ]
  },
  {
   "cell_type": "code",
   "execution_count": 8,
   "metadata": {},
   "outputs": [
    {
     "data": {
      "text/plain": [
       "false"
      ]
     },
     "execution_count": 8,
     "metadata": {},
     "output_type": "execute_result"
    }
   ],
   "source": [
    "run=false"
   ]
  },
  {
   "cell_type": "markdown",
   "metadata": {},
   "source": [
    "\n",
    "\n",
    "## Definition of the N-body problem\n",
    "\n",
    "In Nbody.jl below, the following functions are defined: NbodyEnergy(u,Gm), NbodyODE!(du,u,Gm,t), and NbodyODE1!(du,u,Gm,t), where\n",
    "\n",
    "\\begin{equation*}\n",
    "u = \n",
    "\\left(\\begin{matrix}\n",
    "q_1  & v_1\\\\\n",
    "\\vdots & \\vdots \\\\\n",
    "q_N  & v_N\n",
    "\\end{matrix}\n",
    "\\right) \\in \\mathbb{R}^{2 \\times 3\\times N}, \\quad\n",
    "Gm = (G\\,  m_1, \\ldots,G\\,  m_N) \\in \\mathbb{R}^N.\n",
    "\\end{equation*}"
   ]
  },
  {
   "cell_type": "markdown",
   "metadata": {},
   "source": [
    "The energy, as a function of the positions $q_1,\\ldots,q_N \\in \\mathbb{R}^3$ and the velocities $v_1,\\ldots,v_N \\in \\mathbb{R}^3$ of the $N$ bodies is:\n",
    "\\begin{equation*}\n",
    "\\begin{split}\n",
    "\\mathrm{Energy}(q_1,\\ldots,q_N,v_1,\\ldots,v_N) = \n",
    "\\frac12 \\sum_{i=1}^{N} m_i \\, \\|v_i\\|^2\n",
    "- G \\sum_{1\\leq i < j \\leq N} \\frac{m_i m_j}{\\|q_i-q_j\\|}.\n",
    "\\end{split}\n",
    "\\end{equation*}\n",
    "\n",
    "\n",
    "The ODE system of the N-body problem,\n",
    "as a function of the positions $q_1,\\ldots,q_N \\in \\mathbb{R}^3$ and the velocities $v_1,\\ldots,v_N \\in \\mathbb{R}^3$ of the $N$ bodies is:\n",
    "\\begin{equation*}\n",
    "\\begin{split}\n",
    "\\frac{d}{dt} q_i &= v_i, \\\\\n",
    "\\frac{d}{dt} v_i &= G\\, \n",
    "\\sum_{j \\neq i} \\frac{m_j}{\\|q_j-q_i\\|^3}\\,\n",
    "(q_j-q_i).\n",
    "\\end{split}\n",
    "\\end{equation*}\n",
    "This system of ODEs can be writen in compact form as\n",
    "\\begin{equation*}\n",
    "\\frac{d u}{dt} = f(t,u,Gm)\n",
    "\\end{equation*}\n",
    "\n",
    "\n"
   ]
  },
  {
   "cell_type": "code",
   "execution_count": 5,
   "metadata": {},
   "outputs": [
    {
     "data": {
      "text/plain": [
       "NbodyODE! (generic function with 2 methods)"
      ]
     },
     "execution_count": 5,
     "metadata": {},
     "output_type": "execute_result"
    }
   ],
   "source": [
    "PATH_ODES=\"../../ODEProblems/\"\n",
    "\n",
    "include(string(PATH_ODES,\"Initial15Body.jl\"))\n",
    "include(string(PATH_ODES,\"Nbody.jl\"))\n",
    "#include(string(PATH_ODES,\"Nbody2nd.jl\"))"
   ]
  },
  {
   "cell_type": "markdown",
   "metadata": {},
   "source": [
    "##### <a href=\"#top\">Back to the top</a>\n",
    "\n",
    "## Initial value problem: 15-body problem (main asteroids)\n",
    "\n"
   ]
  },
  {
   "cell_type": "code",
   "execution_count": 6,
   "metadata": {},
   "outputs": [
    {
     "name": "stdout",
     "output_type": "stream",
     "text": [
      "[\"Sun\" \"Mercury\" \"Venus\" \"EMB\" \"Mars\" \"Jupiter\" \"Saturn\" \"Uranus\" \"Neptune\" \"Pluto\" \"Ceres\" \"Pallas\" \"Vesta\" \"Iris\" \"Bamberga\"]"
     ]
    },
    {
     "data": {
      "text/plain": [
       "-9.831963632201247640647653709231152913256225158160386072963487864447472627831885e-12"
      ]
     },
     "execution_count": 6,
     "metadata": {},
     "output_type": "execute_result"
    }
   ],
   "source": [
    "u0, Gm, bodylist = Initial15Body(BigFloat)\n",
    "q0=u0[:,:,1]\n",
    "v0=u0[:,:,2]\n",
    "dim=length(size(u0))\n",
    "\n",
    "N = length(Gm)\n",
    "\n",
    "show(bodylist)\n",
    "E0=NbodyEnergy(u0,Gm)"
   ]
  },
  {
   "cell_type": "markdown",
   "metadata": {},
   "source": [
    "### IRKNGL  integrazioa"
   ]
  },
  {
   "cell_type": "code",
   "execution_count": 7,
   "metadata": {},
   "outputs": [
    {
     "data": {
      "text/plain": [
       "2022-12-17T16:48:00.141"
      ]
     },
     "execution_count": 7,
     "metadata": {},
     "output_type": "execute_result"
    }
   ],
   "source": [
    "now()"
   ]
  },
  {
   "cell_type": "code",
   "execution_count": 8,
   "metadata": {},
   "outputs": [
    {
     "name": "stdout",
     "output_type": "stream",
     "text": [
      "dt = 0.50, m=30\n"
     ]
    }
   ],
   "source": [
    "t0 = BigFloat(0.)\n",
    "dt = BigFloat(0.5)  \n",
    "tF=  BigFloat(1e6)\n",
    "tF = BigFloat(100*dt)\n",
    "tF=BigFloat(15000.)\n",
    "\n",
    "\n",
    "prob0 = ODEProblem(NbodyODE!, u0, (t0,tF), Gm)\n",
    "\n",
    "nout=1000\n",
    "m = Int64(ceil((tF-t0)/(nout*dt)))\n",
    "println(\"dt = $dt, m=$m\")"
   ]
  },
  {
   "cell_type": "code",
   "execution_count": 9,
   "metadata": {},
   "outputs": [
    {
     "ename": "LoadError",
     "evalue": "KeyError: key \"sol0\" not found",
     "output_type": "error",
     "traceback": [
      "KeyError: key \"sol0\" not found",
      "",
      "Stacktrace:",
      " [1] getindex(g::JLD2.Group{JLD2.JLDFile{JLD2.MmapIO}}, name::String)",
      "   @ JLD2 ~/.julia/packages/JLD2/k9Gt0/src/groups.jl:101",
      " [2] read",
      "   @ ~/.julia/packages/JLD2/k9Gt0/src/JLD2.jl:389 [inlined]",
      " [3] (::var\"#1#3\")(f::JLD2.JLDFile{JLD2.MmapIO})",
      "   @ Main ~/.julia/packages/JLD2/k9Gt0/src/loadsave.jl:146",
      " [4] jldopen(f::Function, args::String; kws::Base.Iterators.Pairs{Union{}, Union{}, Tuple{}, NamedTuple{(), Tuple{}}})",
      "   @ JLD2 ~/.julia/packages/JLD2/k9Gt0/src/loadsave.jl:4",
      " [5] jldopen(f::Function, args::String)",
      "   @ JLD2 ~/.julia/packages/JLD2/k9Gt0/src/loadsave.jl:2",
      " [6] macro expansion",
      "   @ ~/.julia/packages/JLD2/k9Gt0/src/loadsave.jl:145 [inlined]",
      " [7] top-level scope",
      "   @ In[9]:7",
      " [8] eval",
      "   @ ./boot.jl:360 [inlined]",
      " [9] include_string(mapexpr::typeof(REPL.softscope), mod::Module, code::String, filename::String)",
      "   @ Base ./loading.jl:1116"
     ]
    }
   ],
   "source": [
    "if run ==true\n",
    "   alg=IRKNGL_Seq(s=8, initial_interp=0, m=m,myoutputs=true)\n",
    "   sol0,iters0=solve(prob0,alg,dt=dt, adaptive=false)\n",
    "   @save \"./Data/sol_15body_QT1.jld2\" sol0\n",
    "   @save \"./Data/prob_15body_QT1.jld2\" prob0\n",
    "else\n",
    "   JLD2.@load \"./Data/sol_15body_QT1.jld2\" sol0\n",
    "   JLD2.@load \"./Data/prob_15body_QT1.jld2\" prob0\n",
    "end"
   ]
  },
  {
   "cell_type": "code",
   "execution_count": 10,
   "metadata": {},
   "outputs": [
    {
     "data": {
      "text/plain": [
       "2022-12-17T17:03:29.821"
      ]
     },
     "execution_count": 10,
     "metadata": {},
     "output_type": "execute_result"
    }
   ],
   "source": [
    "now()"
   ]
  },
  {
   "cell_type": "markdown",
   "metadata": {},
   "source": [
    "### Energy erroreak"
   ]
  },
  {
   "cell_type": "code",
   "execution_count": 11,
   "metadata": {},
   "outputs": [
    {
     "data": {
      "text/plain": [
       "1.1479437019748901e-41"
      ]
     },
     "execution_count": 11,
     "metadata": {},
     "output_type": "execute_result"
    }
   ],
   "source": [
    "eps(1e-25) "
   ]
  },
  {
   "cell_type": "code",
   "execution_count": 12,
   "metadata": {},
   "outputs": [
    {
     "data": {
      "text/plain": [
       "energy_plot (generic function with 1 method)"
      ]
     },
     "execution_count": 12,
     "metadata": {},
     "output_type": "execute_result"
    }
   ],
   "source": [
    "yrange = (1e-45,1e-25)\n",
    "year = 365.5\n",
    "\n",
    "function energy_plot(sol; title=\"\")\n",
    "    energies = [NbodyEnergy(BigFloat.(u),Gm) for u in sol.u]\n",
    "    E0 = energies[1]\n",
    "    epsilon =eps(1e-25)                  #eps(1e-14)        #eps(1e-3)\n",
    "    errors = (abs.(energies[2:end]/E0 .- 1)) .+ epsilon\n",
    "    tt = sol.t[2:end]  #/year\n",
    "    pl = plot(title=title,ylims=yrange,\n",
    "         yscale=:log10, legend=false) #ylims=yrange, \n",
    "    plot!(tt,  errors)\n",
    "    return pl\n",
    "end"
   ]
  },
  {
   "cell_type": "code",
   "execution_count": 13,
   "metadata": {},
   "outputs": [
    {
     "ename": "LoadError",
     "evalue": "UndefVarError: sol0 not defined",
     "output_type": "error",
     "traceback": [
      "UndefVarError: sol0 not defined",
      "",
      "Stacktrace:",
      " [1] top-level scope",
      "   @ In[13]:1",
      " [2] eval",
      "   @ ./boot.jl:360 [inlined]",
      " [3] include_string(mapexpr::typeof(REPL.softscope), mod::Module, code::String, filename::String)",
      "   @ Base ./loading.jl:1116"
     ]
    }
   ],
   "source": [
    "pl1 = energy_plot(sol0,  title=\"Energy error: 15-body problem\")\n",
    "plot(pl1)\n"
   ]
  },
  {
   "cell_type": "code",
   "execution_count": null,
   "metadata": {},
   "outputs": [],
   "source": []
  }
 ],
 "metadata": {
  "@webio": {
   "lastCommId": null,
   "lastKernelId": null
  },
  "kernelspec": {
   "display_name": "Julia 1.6.6",
   "language": "julia",
   "name": "julia-1.6"
  },
  "language_info": {
   "file_extension": ".jl",
   "mimetype": "application/julia",
   "name": "julia",
   "version": "1.6.6"
  }
 },
 "nbformat": 4,
 "nbformat_minor": 2
}
