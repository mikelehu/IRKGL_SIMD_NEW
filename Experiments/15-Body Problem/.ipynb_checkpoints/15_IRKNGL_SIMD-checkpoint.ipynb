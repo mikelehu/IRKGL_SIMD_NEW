{
 "cells": [
  {
   "cell_type": "markdown",
   "metadata": {},
   "source": [
    "# Outer Solar System IRNKGL-SIMD"
   ]
  },
  {
   "cell_type": "markdown",
   "metadata": {},
   "source": [
    "## Loading packages and functions"
   ]
  },
  {
   "cell_type": "code",
   "execution_count": 1,
   "metadata": {},
   "outputs": [],
   "source": [
    "using LinearAlgebra\n",
    "using Plots\n",
    "using JLD2\n",
    "using Dates"
   ]
  },
  {
   "cell_type": "code",
   "execution_count": 2,
   "metadata": {},
   "outputs": [],
   "source": [
    "PATH_SRC=\"../../src_seq/\"\n",
    "\n",
    "include(string(PATH_SRC,\"IRKGL_SEQ.jl\"))\n",
    "using .IRKGL_SEQ \n",
    "\n",
    "\n",
    "PATH_SRC=\"../../src_simd/\"\n",
    "\n",
    "include(string(PATH_SRC,\"IRKGL_SIMD.jl\"))\n",
    "using .IRKGL_SIMD   "
   ]
  },
  {
   "cell_type": "code",
   "execution_count": 3,
   "metadata": {},
   "outputs": [
    {
     "data": {
      "text/plain": [
       "false"
      ]
     },
     "execution_count": 3,
     "metadata": {},
     "output_type": "execute_result"
    }
   ],
   "source": [
    "run=false"
   ]
  },
  {
   "cell_type": "markdown",
   "metadata": {},
   "source": [
    "\n",
    "\n",
    "## Definition of the N-body problem\n",
    "\n",
    "In Nbody.jl below, the following functions are defined: NbodyEnergy(u,Gm), NbodyODE!(du,u,Gm,t), and NbodyODE1!(du,u,Gm,t), where\n",
    "\n",
    "\\begin{equation*}\n",
    "u = \n",
    "\\left(\\begin{matrix}\n",
    "q_1  & v_1\\\\\n",
    "\\vdots & \\vdots \\\\\n",
    "q_N  & v_N\n",
    "\\end{matrix}\n",
    "\\right) \\in \\mathbb{R}^{2 \\times 3\\times N}, \\quad\n",
    "Gm = (G\\,  m_1, \\ldots,G\\,  m_N) \\in \\mathbb{R}^N.\n",
    "\\end{equation*}"
   ]
  },
  {
   "cell_type": "markdown",
   "metadata": {},
   "source": [
    "The energy, as a function of the positions $q_1,\\ldots,q_N \\in \\mathbb{R}^3$ and the velocities $v_1,\\ldots,v_N \\in \\mathbb{R}^3$ of the $N$ bodies is:\n",
    "\\begin{equation*}\n",
    "\\begin{split}\n",
    "\\mathrm{Energy}(q_1,\\ldots,q_N,v_1,\\ldots,v_N) = \n",
    "\\frac12 \\sum_{i=1}^{N} m_i \\, \\|v_i\\|^2\n",
    "- G \\sum_{1\\leq i < j \\leq N} \\frac{m_i m_j}{\\|q_i-q_j\\|}.\n",
    "\\end{split}\n",
    "\\end{equation*}\n",
    "\n",
    "\n",
    "The ODE system of the N-body problem,\n",
    "as a function of the positions $q_1,\\ldots,q_N \\in \\mathbb{R}^3$ and the velocities $v_1,\\ldots,v_N \\in \\mathbb{R}^3$ of the $N$ bodies is:\n",
    "\\begin{equation*}\n",
    "\\begin{split}\n",
    "\\frac{d}{dt} q_i &= v_i, \\\\\n",
    "\\frac{d}{dt} v_i &= G\\, \n",
    "\\sum_{j \\neq i} \\frac{m_j}{\\|q_j-q_i\\|^3}\\,\n",
    "(q_j-q_i).\n",
    "\\end{split}\n",
    "\\end{equation*}\n",
    "This system of ODEs can be writen in compact form as\n",
    "\\begin{equation*}\n",
    "\\frac{d u}{dt} = f(t,u,Gm)\n",
    "\\end{equation*}\n",
    "\n",
    "\n"
   ]
  },
  {
   "cell_type": "code",
   "execution_count": 4,
   "metadata": {},
   "outputs": [
    {
     "data": {
      "text/plain": [
       "NbodyODE! (generic function with 2 methods)"
      ]
     },
     "execution_count": 4,
     "metadata": {},
     "output_type": "execute_result"
    }
   ],
   "source": [
    "PATH_ODES=\"../../ODEProblems/\"\n",
    "\n",
    "include(string(PATH_ODES,\"Initial15Body.jl\"))\n",
    "include(string(PATH_ODES,\"Nbody.jl\"))\n"
   ]
  },
  {
   "cell_type": "markdown",
   "metadata": {},
   "source": [
    "##### <a href=\"#top\">Back to the top</a>\n",
    "\n",
    "## Initial value problem: 15-body problem (main asteroids)\n",
    "\n"
   ]
  },
  {
   "cell_type": "code",
   "execution_count": 5,
   "metadata": {},
   "outputs": [
    {
     "name": "stdout",
     "output_type": "stream",
     "text": [
      "[\"Sun\" \"Mercury\" \"Venus\" \"EMB\" \"Mars\" \"Jupiter\" \"Saturn\" \"Uranus\" \"Neptune\" \"Pluto\" \"Ceres\" \"Pallas\" \"Vesta\" \"Iris\" \"Bamberga\"]"
     ]
    },
    {
     "data": {
      "text/plain": [
       "-9.831963632201247e-12"
      ]
     },
     "execution_count": 5,
     "metadata": {},
     "output_type": "execute_result"
    }
   ],
   "source": [
    "u0, Gm, bodylist = Initial15Body(Float64)\n",
    "q0=u0[:,:,1]\n",
    "v0=u0[:,:,2]\n",
    "dim=length(size(u0))\n",
    "\n",
    "N = length(Gm)\n",
    "\n",
    "show(bodylist)\n",
    "E0=NbodyEnergy(u0,Gm)"
   ]
  },
  {
   "cell_type": "code",
   "execution_count": 6,
   "metadata": {},
   "outputs": [
    {
     "data": {
      "text/plain": [
       "1-element Vector{Symbol}:\n",
       " :prob"
      ]
     },
     "execution_count": 6,
     "metadata": {},
     "output_type": "execute_result"
    }
   ],
   "source": [
    "t0 = 0.\n",
    "tF=15000.\n",
    "\n",
    "prob = ODEProblem(NbodyODE!, u0, (t0,tF), Gm)\n",
    "\n",
    "if run==true\n",
    "   @save \"./Data/prob_15body_FT1.jld2\" prob\n",
    "else\n",
    "   JLD2.@load \"./Data/prob_15body_FT1.jld2\" prob\n",
    "end\n",
    "    "
   ]
  },
  {
   "cell_type": "markdown",
   "metadata": {},
   "source": [
    "### IRKNGL  integrazioa-1"
   ]
  },
  {
   "cell_type": "code",
   "execution_count": 7,
   "metadata": {},
   "outputs": [
    {
     "data": {
      "text/plain": [
       "2022-12-29T21:50:13.122"
      ]
     },
     "execution_count": 7,
     "metadata": {},
     "output_type": "execute_result"
    }
   ],
   "source": [
    "now()"
   ]
  },
  {
   "cell_type": "code",
   "execution_count": 8,
   "metadata": {},
   "outputs": [
    {
     "name": "stdout",
     "output_type": "stream",
     "text": [
      "dt = 3.0, m=5\n"
     ]
    },
    {
     "data": {
      "text/plain": [
       "5.0"
      ]
     },
     "execution_count": 8,
     "metadata": {},
     "output_type": "execute_result"
    }
   ],
   "source": [
    "dt = 3. \n",
    "\n",
    "nout=1000\n",
    "m = Int64(ceil((tF-t0)/(nout*dt)))\n",
    "println(\"dt = $dt, m=$m\")\n",
    "(tF-t0)/(nout*dt)"
   ]
  },
  {
   "cell_type": "code",
   "execution_count": 16,
   "metadata": {},
   "outputs": [],
   "source": [
    "if run ==false\n",
    "   alg=IRKNGL_simd(s=8, initial_interp=1, m=m,myoutputs=true)\n",
    "   sol1,iters1=solve(prob,alg,dt=dt, adaptive=false)\n",
    "   @save \"./Data/sol1_15body_FT1.jld2\" sol1\n",
    "else\n",
    "   JLD2.@load \"./Data/sol1_15body_FT1.jld2\" sol1\n",
    "end"
   ]
  },
  {
   "cell_type": "code",
   "execution_count": 17,
   "metadata": {},
   "outputs": [
    {
     "data": {
      "text/plain": [
       "ReturnCode.Success = 1"
      ]
     },
     "execution_count": 17,
     "metadata": {},
     "output_type": "execute_result"
    }
   ],
   "source": [
    "sol1.retcode"
   ]
  },
  {
   "cell_type": "code",
   "execution_count": 10,
   "metadata": {},
   "outputs": [
    {
     "data": {
      "text/plain": [
       "2022-12-29T21:36:58.002"
      ]
     },
     "execution_count": 10,
     "metadata": {},
     "output_type": "execute_result"
    }
   ],
   "source": [
    "now()"
   ]
  },
  {
   "cell_type": "markdown",
   "metadata": {},
   "source": [
    "### IRKNGL  integrazioa-2"
   ]
  },
  {
   "cell_type": "code",
   "execution_count": 11,
   "metadata": {},
   "outputs": [
    {
     "data": {
      "text/plain": [
       "2022-12-17T17:05:28.524"
      ]
     },
     "execution_count": 11,
     "metadata": {},
     "output_type": "execute_result"
    }
   ],
   "source": [
    "now()"
   ]
  },
  {
   "cell_type": "code",
   "execution_count": 12,
   "metadata": {},
   "outputs": [
    {
     "name": "stdout",
     "output_type": "stream",
     "text": [
      "dt = 1.5, m=10\n"
     ]
    },
    {
     "data": {
      "text/plain": [
       "10.0"
      ]
     },
     "execution_count": 12,
     "metadata": {},
     "output_type": "execute_result"
    }
   ],
   "source": [
    "dt = 1.5 \n",
    "\n",
    "nout=1000\n",
    "m = Int64(ceil((tF-t0)/(nout*dt)))\n",
    "println(\"dt = $dt, m=$m\")\n",
    "(tF-t0)/(nout*dt)"
   ]
  },
  {
   "cell_type": "code",
   "execution_count": 13,
   "metadata": {},
   "outputs": [
    {
     "data": {
      "text/plain": [
       "1-element Vector{Symbol}:\n",
       " :sol2"
      ]
     },
     "execution_count": 13,
     "metadata": {},
     "output_type": "execute_result"
    }
   ],
   "source": [
    "if run ==true\n",
    "   alg=IRKNGL_simd(s=8, initial_interp=1, m=m,myoutputs=true)\n",
    "   sol2,iters2=solve(prob,alg,dt=dt, adaptive=false)\n",
    "   @save \"./Data/sol2_15body_FT1.jld2\" sol2\n",
    "else\n",
    "   JLD2.@load \"./Data/sol2_15body_FT1.jld2\" sol2\n",
    "end"
   ]
  },
  {
   "cell_type": "code",
   "execution_count": 14,
   "metadata": {},
   "outputs": [
    {
     "data": {
      "text/plain": [
       "2022-12-17T17:05:28.607"
      ]
     },
     "execution_count": 14,
     "metadata": {},
     "output_type": "execute_result"
    }
   ],
   "source": [
    "now()"
   ]
  },
  {
   "cell_type": "markdown",
   "metadata": {},
   "source": [
    "### IRKNGL  integrazioa-3 (adaptive=true!!)"
   ]
  },
  {
   "cell_type": "code",
   "execution_count": 15,
   "metadata": {},
   "outputs": [
    {
     "data": {
      "text/plain": [
       "2022-12-17T17:05:28.608"
      ]
     },
     "execution_count": 15,
     "metadata": {},
     "output_type": "execute_result"
    }
   ],
   "source": [
    "now()"
   ]
  },
  {
   "cell_type": "code",
   "execution_count": 16,
   "metadata": {},
   "outputs": [
    {
     "name": "stdout",
     "output_type": "stream",
     "text": [
      "dt = 3.0, m=5\n"
     ]
    },
    {
     "data": {
      "text/plain": [
       "5.0"
      ]
     },
     "execution_count": 16,
     "metadata": {},
     "output_type": "execute_result"
    }
   ],
   "source": [
    "dt = 3. \n",
    "\n",
    "nout=1000\n",
    "m = Int64(ceil((tF-t0)/(nout*dt)))\n",
    "println(\"dt = $dt, m=$m\")\n",
    "(tF-t0)/(nout*dt)"
   ]
  },
  {
   "cell_type": "code",
   "execution_count": 17,
   "metadata": {},
   "outputs": [
    {
     "data": {
      "text/plain": [
       "1-element Vector{Symbol}:\n",
       " :sol3"
      ]
     },
     "execution_count": 17,
     "metadata": {},
     "output_type": "execute_result"
    }
   ],
   "source": [
    "if run ==true\n",
    "   alg=IRKNGL_simd(s=8, initial_interp=1, m=m,myoutputs=true)\n",
    "   sol3,iters3=solve(prob,alg,dt=dt, adaptive=true)\n",
    "   @save \"./Data/sol3_15body_FT1.jld2\" sol3\n",
    "else\n",
    "   JLD2.@load \"./Data/sol3_15body_FT1.jld2\" sol3\n",
    "end"
   ]
  },
  {
   "cell_type": "code",
   "execution_count": 18,
   "metadata": {},
   "outputs": [
    {
     "data": {
      "text/plain": [
       "2022-12-17T17:05:28.619"
      ]
     },
     "execution_count": 18,
     "metadata": {},
     "output_type": "execute_result"
    }
   ],
   "source": [
    "now()"
   ]
  },
  {
   "cell_type": "markdown",
   "metadata": {},
   "source": [
    "### Errors in energy"
   ]
  },
  {
   "cell_type": "code",
   "execution_count": 19,
   "metadata": {},
   "outputs": [
    {
     "data": {
      "text/plain": [
       "1.1479437019748901e-41"
      ]
     },
     "execution_count": 19,
     "metadata": {},
     "output_type": "execute_result"
    }
   ],
   "source": [
    "eps(1e-25) "
   ]
  },
  {
   "cell_type": "code",
   "execution_count": 20,
   "metadata": {},
   "outputs": [
    {
     "data": {
      "text/plain": [
       "\u001b[38;2;86;182;194mODEProblem\u001b[0m with uType \u001b[38;2;86;182;194mArray{Float64, 3}\u001b[0m and tType \u001b[38;2;86;182;194mBigFloat\u001b[0m. In-place: \u001b[38;2;86;182;194mtrue\u001b[0m\n",
       "timespan: (0.0, 15000.0)\n",
       "u0: 3×15×2 Array{Float64, 3}:\n",
       "[:, :, 1] =\n",
       " 0.00450251    0.361763   0.612752  …  0.186874   1.89698    1.40326\n",
       " 0.000767076  -0.090782  -0.348365     2.3874    -0.847648  -1.28671\n",
       " 0.000266058  -0.085715  -0.195278     0.924862  -0.156893  -0.668832\n",
       "\n",
       "[:, :, 2] =\n",
       " -3.51749e-7  0.00336749  0.0109521   …  -0.0101748   0.0027866   0.00716401\n",
       "  5.17763e-6  0.0248945   0.0156177       4.66558e-5  0.0113192   0.00922514\n",
       "  2.2291e-6   0.0129463   0.00633111      0.00134639  0.00497736  0.00686009"
      ]
     },
     "execution_count": 20,
     "metadata": {},
     "output_type": "execute_result"
    }
   ],
   "source": [
    "t0 = BigFloat(0.)\n",
    "dt = BigFloat(0.5)  \n",
    "tF=  BigFloat(1e6)\n",
    "tF = BigFloat(100*dt)\n",
    "tF=BigFloat(15000.)\n",
    "\n",
    "\n",
    "prob0 = ODEProblem(NbodyODE!, u0, (t0,tF), Gm)"
   ]
  },
  {
   "cell_type": "code",
   "execution_count": 21,
   "metadata": {},
   "outputs": [
    {
     "data": {
      "text/plain": [
       "energy_plot (generic function with 1 method)"
      ]
     },
     "execution_count": 21,
     "metadata": {},
     "output_type": "execute_result"
    }
   ],
   "source": [
    "year = 365.5\n",
    "\n",
    "function energy_plot(sol, yrange; label=\"\")\n",
    "    energies = [NbodyEnergy(BigFloat.(u),Gm) for u in sol.u]\n",
    "    E0 = energies[1]\n",
    "    epsilon =eps(1e-25)                 \n",
    "    errors = (abs.(energies[2:end]/E0 .- 1)) .+ epsilon\n",
    "    tt = sol.t[2:end]  #/year\n",
    "    pl=plot!(tt,  errors, label=label, legend=:topright) #bottomright\n",
    "    return pl\n",
    "end"
   ]
  },
  {
   "cell_type": "code",
   "execution_count": 22,
   "metadata": {},
   "outputs": [
    {
     "data": {
      "image/svg+xml": [
       "<?xml version=\"1.0\" encoding=\"utf-8\"?>\n",
       "<svg xmlns=\"http://www.w3.org/2000/svg\" xmlns:xlink=\"http://www.w3.org/1999/xlink\" width=\"600\" height=\"400\" viewBox=\"0 0 2400 1600\">\n",
       "<defs>\n",
       "  <clipPath id=\"clip540\">\n",
       "    <rect x=\"0\" y=\"0\" width=\"2400\" height=\"1600\"/>\n",
       "  </clipPath>\n",
       "</defs>\n",
       "<path clip-path=\"url(#clip540)\" d=\"\n",
       "M0 1600 L2400 1600 L2400 0 L0 0  Z\n",
       "  \" fill=\"#ffffff\" fill-rule=\"evenodd\" fill-opacity=\"1\"/>\n",
       "<defs>\n",
       "  <clipPath id=\"clip541\">\n",
       "    <rect x=\"480\" y=\"0\" width=\"1681\" height=\"1600\"/>\n",
       "  </clipPath>\n",
       "</defs>\n",
       "<path clip-path=\"url(#clip540)\" d=\"\n",
       "M214.002 1474.16 L2352.76 1474.16 L2352.76 123.472 L214.002 123.472  Z\n",
       "  \" fill=\"#ffffff\" fill-rule=\"evenodd\" fill-opacity=\"1\"/>\n",
       "<defs>\n",
       "  <clipPath id=\"clip542\">\n",
       "    <rect x=\"214\" y=\"123\" width=\"2140\" height=\"1352\"/>\n",
       "  </clipPath>\n",
       "</defs>\n",
       "<polyline clip-path=\"url(#clip542)\" style=\"stroke:#000000; stroke-linecap:round; stroke-linejoin:round; stroke-width:2; stroke-opacity:0.1; fill:none\" points=\"\n",
       "  272.777,1474.16 272.777,123.472 \n",
       "  \"/>\n",
       "<polyline clip-path=\"url(#clip542)\" style=\"stroke:#000000; stroke-linecap:round; stroke-linejoin:round; stroke-width:2; stroke-opacity:0.1; fill:none\" points=\"\n",
       "  945.926,1474.16 945.926,123.472 \n",
       "  \"/>\n",
       "<polyline clip-path=\"url(#clip542)\" style=\"stroke:#000000; stroke-linecap:round; stroke-linejoin:round; stroke-width:2; stroke-opacity:0.1; fill:none\" points=\"\n",
       "  1619.08,1474.16 1619.08,123.472 \n",
       "  \"/>\n",
       "<polyline clip-path=\"url(#clip542)\" style=\"stroke:#000000; stroke-linecap:round; stroke-linejoin:round; stroke-width:2; stroke-opacity:0.1; fill:none\" points=\"\n",
       "  2292.23,1474.16 2292.23,123.472 \n",
       "  \"/>\n",
       "<polyline clip-path=\"url(#clip540)\" style=\"stroke:#000000; stroke-linecap:round; stroke-linejoin:round; stroke-width:4; stroke-opacity:1; fill:none\" points=\"\n",
       "  214.002,1474.16 2352.76,1474.16 \n",
       "  \"/>\n",
       "<polyline clip-path=\"url(#clip540)\" style=\"stroke:#000000; stroke-linecap:round; stroke-linejoin:round; stroke-width:4; stroke-opacity:1; fill:none\" points=\"\n",
       "  272.777,1474.16 272.777,1455.27 \n",
       "  \"/>\n",
       "<polyline clip-path=\"url(#clip540)\" style=\"stroke:#000000; stroke-linecap:round; stroke-linejoin:round; stroke-width:4; stroke-opacity:1; fill:none\" points=\"\n",
       "  945.926,1474.16 945.926,1455.27 \n",
       "  \"/>\n",
       "<polyline clip-path=\"url(#clip540)\" style=\"stroke:#000000; stroke-linecap:round; stroke-linejoin:round; stroke-width:4; stroke-opacity:1; fill:none\" points=\"\n",
       "  1619.08,1474.16 1619.08,1455.27 \n",
       "  \"/>\n",
       "<polyline clip-path=\"url(#clip540)\" style=\"stroke:#000000; stroke-linecap:round; stroke-linejoin:round; stroke-width:4; stroke-opacity:1; fill:none\" points=\"\n",
       "  2292.23,1474.16 2292.23,1455.27 \n",
       "  \"/>\n",
       "<path clip-path=\"url(#clip540)\" d=\"M272.777 1505.08 Q269.166 1505.08 267.337 1508.65 Q265.532 1512.19 265.532 1519.32 Q265.532 1526.43 267.337 1529.99 Q269.166 1533.53 272.777 1533.53 Q276.411 1533.53 278.217 1529.99 Q280.046 1526.43 280.046 1519.32 Q280.046 1512.19 278.217 1508.65 Q276.411 1505.08 272.777 1505.08 M272.777 1501.38 Q278.587 1501.38 281.643 1505.99 Q284.721 1510.57 284.721 1519.32 Q284.721 1528.05 281.643 1532.65 Q278.587 1537.24 272.777 1537.24 Q266.967 1537.24 263.888 1532.65 Q260.833 1528.05 260.833 1519.32 Q260.833 1510.57 263.888 1505.99 Q266.967 1501.38 272.777 1501.38 Z\" fill=\"#000000\" fill-rule=\"evenodd\" fill-opacity=\"1\" /><path clip-path=\"url(#clip540)\" d=\"M838.743 1517.66 L857.099 1517.66 L857.099 1521.6 L843.025 1521.6 L843.025 1530.07 Q844.044 1529.72 845.063 1529.56 Q846.081 1529.38 847.1 1529.38 Q852.887 1529.38 856.266 1532.55 Q859.646 1535.72 859.646 1541.14 Q859.646 1546.72 856.174 1549.82 Q852.701 1552.9 846.382 1552.9 Q844.206 1552.9 841.938 1552.53 Q839.692 1552.16 837.285 1551.41 L837.285 1546.72 Q839.368 1547.85 841.59 1548.41 Q843.813 1548.96 846.289 1548.96 Q850.294 1548.96 852.632 1546.85 Q854.97 1544.75 854.97 1541.14 Q854.97 1537.53 852.632 1535.42 Q850.294 1533.31 846.289 1533.31 Q844.414 1533.31 842.539 1533.73 Q840.688 1534.15 838.743 1535.03 L838.743 1517.66 Z\" fill=\"#000000\" fill-rule=\"evenodd\" fill-opacity=\"1\" /><path clip-path=\"url(#clip540)\" d=\"M868.859 1546.35 L873.743 1546.35 L873.743 1552.22 L868.859 1552.22 L868.859 1546.35 Z\" fill=\"#000000\" fill-rule=\"evenodd\" fill-opacity=\"1\" /><path clip-path=\"url(#clip540)\" d=\"M893.928 1520.74 Q890.317 1520.74 888.488 1524.31 Q886.683 1527.85 886.683 1534.98 Q886.683 1542.09 888.488 1545.65 Q890.317 1549.19 893.928 1549.19 Q897.562 1549.19 899.368 1545.65 Q901.196 1542.09 901.196 1534.98 Q901.196 1527.85 899.368 1524.31 Q897.562 1520.74 893.928 1520.74 M893.928 1517.04 Q899.738 1517.04 902.794 1521.65 Q905.872 1526.23 905.872 1534.98 Q905.872 1543.71 902.794 1548.31 Q899.738 1552.9 893.928 1552.9 Q888.118 1552.9 885.039 1548.31 Q881.984 1543.71 881.984 1534.98 Q881.984 1526.23 885.039 1521.65 Q888.118 1517.04 893.928 1517.04 Z\" fill=\"#000000\" fill-rule=\"evenodd\" fill-opacity=\"1\" /><path clip-path=\"url(#clip540)\" d=\"M924.09 1520.74 Q920.479 1520.74 918.65 1524.31 Q916.845 1527.85 916.845 1534.98 Q916.845 1542.09 918.65 1545.65 Q920.479 1549.19 924.09 1549.19 Q927.724 1549.19 929.53 1545.65 Q931.358 1542.09 931.358 1534.98 Q931.358 1527.85 929.53 1524.31 Q927.724 1520.74 924.09 1520.74 M924.09 1517.04 Q929.9 1517.04 932.956 1521.65 Q936.034 1526.23 936.034 1534.98 Q936.034 1543.71 932.956 1548.31 Q929.9 1552.9 924.09 1552.9 Q918.28 1552.9 915.201 1548.31 Q912.145 1543.71 912.145 1534.98 Q912.145 1526.23 915.201 1521.65 Q918.28 1517.04 924.09 1517.04 Z\" fill=\"#000000\" fill-rule=\"evenodd\" fill-opacity=\"1\" /><path clip-path=\"url(#clip540)\" d=\"M972.423 1526.76 L961.844 1537.39 L972.423 1547.97 L969.668 1550.77 L959.043 1540.14 L948.418 1550.77 L945.687 1547.97 L956.242 1537.39 L945.687 1526.76 L948.418 1523.96 L959.043 1534.59 L969.668 1523.96 L972.423 1526.76 Z\" fill=\"#000000\" fill-rule=\"evenodd\" fill-opacity=\"1\" /><path clip-path=\"url(#clip540)\" d=\"M984.784 1548.29 L992.423 1548.29 L992.423 1521.92 L984.113 1523.59 L984.113 1519.33 L992.377 1517.66 L997.052 1517.66 L997.052 1548.29 L1004.69 1548.29 L1004.69 1552.22 L984.784 1552.22 L984.784 1548.29 Z\" fill=\"#000000\" fill-rule=\"evenodd\" fill-opacity=\"1\" /><path clip-path=\"url(#clip540)\" d=\"M1024.14 1520.74 Q1020.52 1520.74 1018.7 1524.31 Q1016.89 1527.85 1016.89 1534.98 Q1016.89 1542.09 1018.7 1545.65 Q1020.52 1549.19 1024.14 1549.19 Q1027.77 1549.19 1029.58 1545.65 Q1031.4 1542.09 1031.4 1534.98 Q1031.4 1527.85 1029.58 1524.31 Q1027.77 1520.74 1024.14 1520.74 M1024.14 1517.04 Q1029.95 1517.04 1033 1521.65 Q1036.08 1526.23 1036.08 1534.98 Q1036.08 1543.71 1033 1548.31 Q1029.95 1552.9 1024.14 1552.9 Q1018.33 1552.9 1015.25 1548.31 Q1012.19 1543.71 1012.19 1534.98 Q1012.19 1526.23 1015.25 1521.65 Q1018.33 1517.04 1024.14 1517.04 Z\" fill=\"#000000\" fill-rule=\"evenodd\" fill-opacity=\"1\" /><path clip-path=\"url(#clip540)\" d=\"M1048.78 1509.67 Q1051.5 1510.26 1053.03 1512.1 Q1054.57 1513.94 1054.57 1516.65 Q1054.57 1520.81 1051.71 1523.08 Q1048.85 1525.36 1043.58 1525.36 Q1041.82 1525.36 1039.94 1525 Q1038.07 1524.66 1036.08 1523.97 L1036.08 1520.3 Q1037.66 1521.22 1039.54 1521.69 Q1041.42 1522.16 1043.47 1522.16 Q1047.04 1522.16 1048.91 1520.75 Q1050.79 1519.34 1050.79 1516.65 Q1050.79 1514.17 1049.04 1512.78 Q1047.31 1511.37 1044.2 1511.37 L1040.93 1511.37 L1040.93 1508.24 L1044.36 1508.24 Q1047.16 1508.24 1048.64 1507.13 Q1050.13 1506.01 1050.13 1503.9 Q1050.13 1501.74 1048.59 1500.59 Q1047.06 1499.42 1044.2 1499.42 Q1042.64 1499.42 1040.86 1499.76 Q1039.07 1500.1 1036.93 1500.82 L1036.93 1497.43 Q1039.09 1496.83 1040.97 1496.53 Q1042.87 1496.23 1044.54 1496.23 Q1048.87 1496.23 1051.39 1498.2 Q1053.91 1500.16 1053.91 1503.51 Q1053.91 1505.84 1052.57 1507.45 Q1051.24 1509.05 1048.78 1509.67 Z\" fill=\"#000000\" fill-rule=\"evenodd\" fill-opacity=\"1\" /><path clip-path=\"url(#clip540)\" d=\"M1510.89 1548.29 L1518.53 1548.29 L1518.53 1521.92 L1510.22 1523.59 L1510.22 1519.33 L1518.49 1517.66 L1523.16 1517.66 L1523.16 1548.29 L1530.8 1548.29 L1530.8 1552.22 L1510.89 1552.22 L1510.89 1548.29 Z\" fill=\"#000000\" fill-rule=\"evenodd\" fill-opacity=\"1\" /><path clip-path=\"url(#clip540)\" d=\"M1540.25 1546.35 L1545.13 1546.35 L1545.13 1552.22 L1540.25 1552.22 L1540.25 1546.35 Z\" fill=\"#000000\" fill-rule=\"evenodd\" fill-opacity=\"1\" /><path clip-path=\"url(#clip540)\" d=\"M1565.31 1520.74 Q1561.7 1520.74 1559.87 1524.31 Q1558.07 1527.85 1558.07 1534.98 Q1558.07 1542.09 1559.87 1545.65 Q1561.7 1549.19 1565.31 1549.19 Q1568.95 1549.19 1570.75 1545.65 Q1572.58 1542.09 1572.58 1534.98 Q1572.58 1527.85 1570.75 1524.31 Q1568.95 1520.74 1565.31 1520.74 M1565.31 1517.04 Q1571.12 1517.04 1574.18 1521.65 Q1577.26 1526.23 1577.26 1534.98 Q1577.26 1543.71 1574.18 1548.31 Q1571.12 1552.9 1565.31 1552.9 Q1559.5 1552.9 1556.43 1548.31 Q1553.37 1543.71 1553.37 1534.98 Q1553.37 1526.23 1556.43 1521.65 Q1559.5 1517.04 1565.31 1517.04 Z\" fill=\"#000000\" fill-rule=\"evenodd\" fill-opacity=\"1\" /><path clip-path=\"url(#clip540)\" d=\"M1595.48 1520.74 Q1591.87 1520.74 1590.04 1524.31 Q1588.23 1527.85 1588.23 1534.98 Q1588.23 1542.09 1590.04 1545.65 Q1591.87 1549.19 1595.48 1549.19 Q1599.11 1549.19 1600.92 1545.65 Q1602.74 1542.09 1602.74 1534.98 Q1602.74 1527.85 1600.92 1524.31 Q1599.11 1520.74 1595.48 1520.74 M1595.48 1517.04 Q1601.29 1517.04 1604.34 1521.65 Q1607.42 1526.23 1607.42 1534.98 Q1607.42 1543.71 1604.34 1548.31 Q1601.29 1552.9 1595.48 1552.9 Q1589.67 1552.9 1586.59 1548.31 Q1583.53 1543.71 1583.53 1534.98 Q1583.53 1526.23 1586.59 1521.65 Q1589.67 1517.04 1595.48 1517.04 Z\" fill=\"#000000\" fill-rule=\"evenodd\" fill-opacity=\"1\" /><path clip-path=\"url(#clip540)\" d=\"M1643.81 1526.76 L1633.23 1537.39 L1643.81 1547.97 L1641.05 1550.77 L1630.43 1540.14 L1619.8 1550.77 L1617.07 1547.97 L1627.63 1537.39 L1617.07 1526.76 L1619.8 1523.96 L1630.43 1534.59 L1641.05 1523.96 L1643.81 1526.76 Z\" fill=\"#000000\" fill-rule=\"evenodd\" fill-opacity=\"1\" /><path clip-path=\"url(#clip540)\" d=\"M1656.17 1548.29 L1663.81 1548.29 L1663.81 1521.92 L1655.5 1523.59 L1655.5 1519.33 L1663.76 1517.66 L1668.44 1517.66 L1668.44 1548.29 L1676.08 1548.29 L1676.08 1552.22 L1656.17 1552.22 L1656.17 1548.29 Z\" fill=\"#000000\" fill-rule=\"evenodd\" fill-opacity=\"1\" /><path clip-path=\"url(#clip540)\" d=\"M1695.52 1520.74 Q1691.91 1520.74 1690.08 1524.31 Q1688.28 1527.85 1688.28 1534.98 Q1688.28 1542.09 1690.08 1545.65 Q1691.91 1549.19 1695.52 1549.19 Q1699.16 1549.19 1700.96 1545.65 Q1702.79 1542.09 1702.79 1534.98 Q1702.79 1527.85 1700.96 1524.31 Q1699.16 1520.74 1695.52 1520.74 M1695.52 1517.04 Q1701.33 1517.04 1704.39 1521.65 Q1707.47 1526.23 1707.47 1534.98 Q1707.47 1543.71 1704.39 1548.31 Q1701.33 1552.9 1695.52 1552.9 Q1689.71 1552.9 1686.63 1548.31 Q1683.58 1543.71 1683.58 1534.98 Q1683.58 1526.23 1686.63 1521.65 Q1689.71 1517.04 1695.52 1517.04 Z\" fill=\"#000000\" fill-rule=\"evenodd\" fill-opacity=\"1\" /><path clip-path=\"url(#clip540)\" d=\"M1720.14 1500.04 L1710.55 1515.03 L1720.14 1515.03 L1720.14 1500.04 M1719.15 1496.73 L1723.92 1496.73 L1723.92 1515.03 L1727.93 1515.03 L1727.93 1518.19 L1723.92 1518.19 L1723.92 1524.81 L1720.14 1524.81 L1720.14 1518.19 L1707.47 1518.19 L1707.47 1514.53 L1719.15 1496.73 Z\" fill=\"#000000\" fill-rule=\"evenodd\" fill-opacity=\"1\" /><path clip-path=\"url(#clip540)\" d=\"M2184.04 1548.29 L2191.68 1548.29 L2191.68 1521.92 L2183.37 1523.59 L2183.37 1519.33 L2191.64 1517.66 L2196.31 1517.66 L2196.31 1548.29 L2203.95 1548.29 L2203.95 1552.22 L2184.04 1552.22 L2184.04 1548.29 Z\" fill=\"#000000\" fill-rule=\"evenodd\" fill-opacity=\"1\" /><path clip-path=\"url(#clip540)\" d=\"M2213.39 1546.35 L2218.28 1546.35 L2218.28 1552.22 L2213.39 1552.22 L2213.39 1546.35 Z\" fill=\"#000000\" fill-rule=\"evenodd\" fill-opacity=\"1\" /><path clip-path=\"url(#clip540)\" d=\"M2228.51 1517.66 L2246.87 1517.66 L2246.87 1521.6 L2232.79 1521.6 L2232.79 1530.07 Q2233.81 1529.72 2234.83 1529.56 Q2235.85 1529.38 2236.87 1529.38 Q2242.65 1529.38 2246.03 1532.55 Q2249.41 1535.72 2249.41 1541.14 Q2249.41 1546.72 2245.94 1549.82 Q2242.47 1552.9 2236.15 1552.9 Q2233.97 1552.9 2231.7 1552.53 Q2229.46 1552.16 2227.05 1551.41 L2227.05 1546.72 Q2229.14 1547.85 2231.36 1548.41 Q2233.58 1548.96 2236.06 1548.96 Q2240.06 1548.96 2242.4 1546.85 Q2244.74 1544.75 2244.74 1541.14 Q2244.74 1537.53 2242.4 1535.42 Q2240.06 1533.31 2236.06 1533.31 Q2234.18 1533.31 2232.31 1533.73 Q2230.45 1534.15 2228.51 1535.03 L2228.51 1517.66 Z\" fill=\"#000000\" fill-rule=\"evenodd\" fill-opacity=\"1\" /><path clip-path=\"url(#clip540)\" d=\"M2268.63 1520.74 Q2265.01 1520.74 2263.19 1524.31 Q2261.38 1527.85 2261.38 1534.98 Q2261.38 1542.09 2263.19 1545.65 Q2265.01 1549.19 2268.63 1549.19 Q2272.26 1549.19 2274.07 1545.65 Q2275.89 1542.09 2275.89 1534.98 Q2275.89 1527.85 2274.07 1524.31 Q2272.26 1520.74 2268.63 1520.74 M2268.63 1517.04 Q2274.44 1517.04 2277.49 1521.65 Q2280.57 1526.23 2280.57 1534.98 Q2280.57 1543.71 2277.49 1548.31 Q2274.44 1552.9 2268.63 1552.9 Q2262.82 1552.9 2259.74 1548.31 Q2256.68 1543.71 2256.68 1534.98 Q2256.68 1526.23 2259.74 1521.65 Q2262.82 1517.04 2268.63 1517.04 Z\" fill=\"#000000\" fill-rule=\"evenodd\" fill-opacity=\"1\" /><path clip-path=\"url(#clip540)\" d=\"M2316.96 1526.76 L2306.38 1537.39 L2316.96 1547.97 L2314.2 1550.77 L2303.58 1540.14 L2292.95 1550.77 L2290.22 1547.97 L2300.78 1537.39 L2290.22 1526.76 L2292.95 1523.96 L2303.58 1534.59 L2314.2 1523.96 L2316.96 1526.76 Z\" fill=\"#000000\" fill-rule=\"evenodd\" fill-opacity=\"1\" /><path clip-path=\"url(#clip540)\" d=\"M2329.32 1548.29 L2336.96 1548.29 L2336.96 1521.92 L2328.65 1523.59 L2328.65 1519.33 L2336.91 1517.66 L2341.59 1517.66 L2341.59 1548.29 L2349.23 1548.29 L2349.23 1552.22 L2329.32 1552.22 L2329.32 1548.29 Z\" fill=\"#000000\" fill-rule=\"evenodd\" fill-opacity=\"1\" /><path clip-path=\"url(#clip540)\" d=\"M2368.67 1520.74 Q2365.06 1520.74 2363.23 1524.31 Q2361.43 1527.85 2361.43 1534.98 Q2361.43 1542.09 2363.23 1545.65 Q2365.06 1549.19 2368.67 1549.19 Q2372.31 1549.19 2374.11 1545.65 Q2375.94 1542.09 2375.94 1534.98 Q2375.94 1527.85 2374.11 1524.31 Q2372.31 1520.74 2368.67 1520.74 M2368.67 1517.04 Q2374.48 1517.04 2377.54 1521.65 Q2380.62 1526.23 2380.62 1534.98 Q2380.62 1543.71 2377.54 1548.31 Q2374.48 1552.9 2368.67 1552.9 Q2362.86 1552.9 2359.78 1548.31 Q2356.73 1543.71 2356.73 1534.98 Q2356.73 1526.23 2359.78 1521.65 Q2362.86 1517.04 2368.67 1517.04 Z\" fill=\"#000000\" fill-rule=\"evenodd\" fill-opacity=\"1\" /><path clip-path=\"url(#clip540)\" d=\"M2393.29 1500.04 L2383.7 1515.03 L2393.29 1515.03 L2393.29 1500.04 M2392.3 1496.73 L2397.07 1496.73 L2397.07 1515.03 L2401.08 1515.03 L2401.08 1518.19 L2397.07 1518.19 L2397.07 1524.81 L2393.29 1524.81 L2393.29 1518.19 L2380.62 1518.19 L2380.62 1514.53 L2392.3 1496.73 Z\" fill=\"#000000\" fill-rule=\"evenodd\" fill-opacity=\"1\" /><polyline clip-path=\"url(#clip542)\" style=\"stroke:#000000; stroke-linecap:round; stroke-linejoin:round; stroke-width:2; stroke-opacity:0.1; fill:none\" points=\"\n",
       "  214.002,1474.16 2352.76,1474.16 \n",
       "  \"/>\n",
       "<polyline clip-path=\"url(#clip542)\" style=\"stroke:#000000; stroke-linecap:round; stroke-linejoin:round; stroke-width:2; stroke-opacity:0.1; fill:none\" points=\"\n",
       "  214.002,1136.49 2352.76,1136.49 \n",
       "  \"/>\n",
       "<polyline clip-path=\"url(#clip542)\" style=\"stroke:#000000; stroke-linecap:round; stroke-linejoin:round; stroke-width:2; stroke-opacity:0.1; fill:none\" points=\"\n",
       "  214.002,798.818 2352.76,798.818 \n",
       "  \"/>\n",
       "<polyline clip-path=\"url(#clip542)\" style=\"stroke:#000000; stroke-linecap:round; stroke-linejoin:round; stroke-width:2; stroke-opacity:0.1; fill:none\" points=\"\n",
       "  214.002,461.145 2352.76,461.145 \n",
       "  \"/>\n",
       "<polyline clip-path=\"url(#clip542)\" style=\"stroke:#000000; stroke-linecap:round; stroke-linejoin:round; stroke-width:2; stroke-opacity:0.1; fill:none\" points=\"\n",
       "  214.002,123.472 2352.76,123.472 \n",
       "  \"/>\n",
       "<polyline clip-path=\"url(#clip540)\" style=\"stroke:#000000; stroke-linecap:round; stroke-linejoin:round; stroke-width:4; stroke-opacity:1; fill:none\" points=\"\n",
       "  214.002,1474.16 214.002,123.472 \n",
       "  \"/>\n",
       "<polyline clip-path=\"url(#clip540)\" style=\"stroke:#000000; stroke-linecap:round; stroke-linejoin:round; stroke-width:4; stroke-opacity:1; fill:none\" points=\"\n",
       "  214.002,1474.16 232.9,1474.16 \n",
       "  \"/>\n",
       "<polyline clip-path=\"url(#clip540)\" style=\"stroke:#000000; stroke-linecap:round; stroke-linejoin:round; stroke-width:4; stroke-opacity:1; fill:none\" points=\"\n",
       "  214.002,1136.49 232.9,1136.49 \n",
       "  \"/>\n",
       "<polyline clip-path=\"url(#clip540)\" style=\"stroke:#000000; stroke-linecap:round; stroke-linejoin:round; stroke-width:4; stroke-opacity:1; fill:none\" points=\"\n",
       "  214.002,798.818 232.9,798.818 \n",
       "  \"/>\n",
       "<polyline clip-path=\"url(#clip540)\" style=\"stroke:#000000; stroke-linecap:round; stroke-linejoin:round; stroke-width:4; stroke-opacity:1; fill:none\" points=\"\n",
       "  214.002,461.145 232.9,461.145 \n",
       "  \"/>\n",
       "<polyline clip-path=\"url(#clip540)\" style=\"stroke:#000000; stroke-linecap:round; stroke-linejoin:round; stroke-width:4; stroke-opacity:1; fill:none\" points=\"\n",
       "  214.002,123.472 232.9,123.472 \n",
       "  \"/>\n",
       "<path clip-path=\"url(#clip540)\" d=\"M52.0584 1493.96 L59.6972 1493.96 L59.6972 1467.59 L51.3871 1469.26 L51.3871 1465 L59.6509 1463.33 L64.3268 1463.33 L64.3268 1493.96 L71.9657 1493.96 L71.9657 1497.89 L52.0584 1497.89 L52.0584 1493.96 Z\" fill=\"#000000\" fill-rule=\"evenodd\" fill-opacity=\"1\" /><path clip-path=\"url(#clip540)\" d=\"M91.41 1466.41 Q87.7989 1466.41 85.9702 1469.98 Q84.1647 1473.52 84.1647 1480.65 Q84.1647 1487.75 85.9702 1491.32 Q87.7989 1494.86 91.41 1494.86 Q95.0443 1494.86 96.8498 1491.32 Q98.6785 1487.75 98.6785 1480.65 Q98.6785 1473.52 96.8498 1469.98 Q95.0443 1466.41 91.41 1466.41 M91.41 1462.71 Q97.2202 1462.71 100.276 1467.31 Q103.354 1471.9 103.354 1480.65 Q103.354 1489.37 100.276 1493.98 Q97.2202 1498.56 91.41 1498.56 Q85.5999 1498.56 82.5212 1493.98 Q79.4656 1489.37 79.4656 1480.65 Q79.4656 1471.9 82.5212 1467.31 Q85.5999 1462.71 91.41 1462.71 Z\" fill=\"#000000\" fill-rule=\"evenodd\" fill-opacity=\"1\" /><path clip-path=\"url(#clip540)\" d=\"M103.354 1456.81 L127.466 1456.81 L127.466 1460.01 L103.354 1460.01 L103.354 1456.81 Z\" fill=\"#000000\" fill-rule=\"evenodd\" fill-opacity=\"1\" /><path clip-path=\"url(#clip540)\" d=\"M138.939 1467.28 L152.198 1467.28 L152.198 1470.48 L134.368 1470.48 L134.368 1467.28 Q136.531 1465.05 140.255 1461.28 Q143.998 1457.5 144.957 1456.41 Q146.782 1454.36 147.496 1452.95 Q148.23 1451.52 148.23 1450.15 Q148.23 1447.91 146.65 1446.5 Q145.089 1445.09 142.569 1445.09 Q140.782 1445.09 138.788 1445.71 Q136.813 1446.33 134.556 1447.59 L134.556 1443.76 Q136.851 1442.83 138.845 1442.36 Q140.838 1441.89 142.493 1441.89 Q146.857 1441.89 149.452 1444.08 Q152.048 1446.26 152.048 1449.91 Q152.048 1451.64 151.389 1453.2 Q150.75 1454.74 149.038 1456.85 Q148.568 1457.39 146.048 1460.01 Q143.528 1462.6 138.939 1467.28 Z\" fill=\"#000000\" fill-rule=\"evenodd\" fill-opacity=\"1\" /><path clip-path=\"url(#clip540)\" d=\"M168.298 1444.9 Q165.364 1444.9 163.878 1447.8 Q162.411 1450.68 162.411 1456.47 Q162.411 1462.24 163.878 1465.14 Q165.364 1468.02 168.298 1468.02 Q171.25 1468.02 172.717 1465.14 Q174.203 1462.24 174.203 1456.47 Q174.203 1450.68 172.717 1447.8 Q171.25 1444.9 168.298 1444.9 M168.298 1441.89 Q173.018 1441.89 175.501 1445.64 Q178.002 1449.36 178.002 1456.47 Q178.002 1463.56 175.501 1467.3 Q173.018 1471.03 168.298 1471.03 Q163.577 1471.03 161.075 1467.3 Q158.593 1463.56 158.593 1456.47 Q158.593 1449.36 161.075 1445.64 Q163.577 1441.89 168.298 1441.89 Z\" fill=\"#000000\" fill-rule=\"evenodd\" fill-opacity=\"1\" /><path clip-path=\"url(#clip540)\" d=\"M52.1336 1156.28 L59.7725 1156.28 L59.7725 1129.92 L51.4623 1131.59 L51.4623 1127.33 L59.7262 1125.66 L64.4021 1125.66 L64.4021 1156.28 L72.0409 1156.28 L72.0409 1160.22 L52.1336 1160.22 L52.1336 1156.28 Z\" fill=\"#000000\" fill-rule=\"evenodd\" fill-opacity=\"1\" /><path clip-path=\"url(#clip540)\" d=\"M91.4853 1128.74 Q87.8742 1128.74 86.0455 1132.3 Q84.2399 1135.84 84.2399 1142.97 Q84.2399 1150.08 86.0455 1153.65 Q87.8742 1157.19 91.4853 1157.19 Q95.1195 1157.19 96.925 1153.65 Q98.7537 1150.08 98.7537 1142.97 Q98.7537 1135.84 96.925 1132.3 Q95.1195 1128.74 91.4853 1128.74 M91.4853 1125.03 Q97.2954 1125.03 100.351 1129.64 Q103.43 1134.22 103.43 1142.97 Q103.43 1151.7 100.351 1156.31 Q97.2954 1160.89 91.4853 1160.89 Q85.6751 1160.89 82.5964 1156.31 Q79.5409 1151.7 79.5409 1142.97 Q79.5409 1134.22 82.5964 1129.64 Q85.6751 1125.03 91.4853 1125.03 Z\" fill=\"#000000\" fill-rule=\"evenodd\" fill-opacity=\"1\" /><path clip-path=\"url(#clip540)\" d=\"M103.43 1119.14 L127.541 1119.14 L127.541 1122.33 L103.43 1122.33 L103.43 1119.14 Z\" fill=\"#000000\" fill-rule=\"evenodd\" fill-opacity=\"1\" /><path clip-path=\"url(#clip540)\" d=\"M136.4 1129.61 L142.606 1129.61 L142.606 1108.19 L135.854 1109.54 L135.854 1106.08 L142.569 1104.73 L146.368 1104.73 L146.368 1129.61 L152.574 1129.61 L152.574 1132.81 L136.4 1132.81 L136.4 1129.61 Z\" fill=\"#000000\" fill-rule=\"evenodd\" fill-opacity=\"1\" /><path clip-path=\"url(#clip540)\" d=\"M168.373 1119.47 Q165.665 1119.47 164.103 1120.92 Q162.561 1122.37 162.561 1124.91 Q162.561 1127.45 164.103 1128.9 Q165.665 1130.34 168.373 1130.34 Q171.081 1130.34 172.642 1128.9 Q174.203 1127.43 174.203 1124.91 Q174.203 1122.37 172.642 1120.92 Q171.1 1119.47 168.373 1119.47 M164.574 1117.86 Q162.129 1117.25 160.756 1115.58 Q159.402 1113.91 159.402 1111.5 Q159.402 1108.13 161.79 1106.18 Q164.198 1104.22 168.373 1104.22 Q172.567 1104.22 174.956 1106.18 Q177.344 1108.13 177.344 1111.5 Q177.344 1113.91 175.971 1115.58 Q174.617 1117.25 172.191 1117.86 Q174.937 1118.5 176.46 1120.36 Q178.002 1122.22 178.002 1124.91 Q178.002 1128.99 175.501 1131.17 Q173.018 1133.35 168.373 1133.35 Q163.727 1133.35 161.226 1131.17 Q158.743 1128.99 158.743 1124.91 Q158.743 1122.22 160.286 1120.36 Q161.828 1118.5 164.574 1117.86 M163.182 1111.86 Q163.182 1114.04 164.536 1115.26 Q165.909 1116.48 168.373 1116.48 Q170.818 1116.48 172.191 1115.26 Q173.583 1114.04 173.583 1111.86 Q173.583 1109.68 172.191 1108.45 Q170.818 1107.23 168.373 1107.23 Q165.909 1107.23 164.536 1108.45 Q163.182 1109.68 163.182 1111.86 Z\" fill=\"#000000\" fill-rule=\"evenodd\" fill-opacity=\"1\" /><path clip-path=\"url(#clip540)\" d=\"M51.9267 818.611 L59.5656 818.611 L59.5656 792.245 L51.2554 793.912 L51.2554 789.653 L59.5193 787.986 L64.1952 787.986 L64.1952 818.611 L71.834 818.611 L71.834 822.546 L51.9267 822.546 L51.9267 818.611 Z\" fill=\"#000000\" fill-rule=\"evenodd\" fill-opacity=\"1\" /><path clip-path=\"url(#clip540)\" d=\"M91.2784 791.065 Q87.6673 791.065 85.8386 794.629 Q84.033 798.171 84.033 805.301 Q84.033 812.407 85.8386 815.972 Q87.6673 819.514 91.2784 819.514 Q94.9126 819.514 96.7182 815.972 Q98.5468 812.407 98.5468 805.301 Q98.5468 798.171 96.7182 794.629 Q94.9126 791.065 91.2784 791.065 M91.2784 787.361 Q97.0885 787.361 100.144 791.967 Q103.223 796.551 103.223 805.301 Q103.223 814.028 100.144 818.634 Q97.0885 823.217 91.2784 823.217 Q85.4682 823.217 82.3895 818.634 Q79.334 814.028 79.334 805.301 Q79.334 796.551 82.3895 791.967 Q85.4682 787.361 91.2784 787.361 Z\" fill=\"#000000\" fill-rule=\"evenodd\" fill-opacity=\"1\" /><path clip-path=\"url(#clip540)\" d=\"M103.223 781.462 L127.334 781.462 L127.334 784.66 L103.223 784.66 L103.223 781.462 Z\" fill=\"#000000\" fill-rule=\"evenodd\" fill-opacity=\"1\" /><path clip-path=\"url(#clip540)\" d=\"M136.193 791.938 L142.399 791.938 L142.399 770.516 L135.647 771.87 L135.647 768.41 L142.362 767.056 L146.161 767.056 L146.161 791.938 L152.367 791.938 L152.367 795.136 L136.193 795.136 L136.193 791.938 Z\" fill=\"#000000\" fill-rule=\"evenodd\" fill-opacity=\"1\" /><path clip-path=\"url(#clip540)\" d=\"M168.636 779.582 Q166.078 779.582 164.574 781.331 Q163.088 783.08 163.088 786.127 Q163.088 789.155 164.574 790.923 Q166.078 792.672 168.636 792.672 Q171.194 792.672 172.68 790.923 Q174.184 789.155 174.184 786.127 Q174.184 783.08 172.68 781.331 Q171.194 779.582 168.636 779.582 M176.178 767.676 L176.178 771.137 Q174.749 770.46 173.282 770.102 Q171.833 769.745 170.404 769.745 Q166.643 769.745 164.649 772.284 Q162.674 774.823 162.392 779.958 Q163.502 778.321 165.176 777.456 Q166.849 776.572 168.862 776.572 Q173.094 776.572 175.539 779.149 Q178.002 781.707 178.002 786.127 Q178.002 790.452 175.445 793.067 Q172.887 795.681 168.636 795.681 Q163.765 795.681 161.188 791.957 Q158.612 788.214 158.612 781.124 Q158.612 774.466 161.771 770.516 Q164.931 766.548 170.254 766.548 Q171.683 766.548 173.131 766.83 Q174.598 767.112 176.178 767.676 Z\" fill=\"#000000\" fill-rule=\"evenodd\" fill-opacity=\"1\" /><path clip-path=\"url(#clip540)\" d=\"M51.6634 480.938 L59.3023 480.938 L59.3023 454.572 L50.9921 456.239 L50.9921 451.98 L59.256 450.313 L63.9319 450.313 L63.9319 480.938 L71.5707 480.938 L71.5707 484.873 L51.6634 484.873 L51.6634 480.938 Z\" fill=\"#000000\" fill-rule=\"evenodd\" fill-opacity=\"1\" /><path clip-path=\"url(#clip540)\" d=\"M91.0151 453.392 Q87.404 453.392 85.5753 456.956 Q83.7697 460.498 83.7697 467.628 Q83.7697 474.734 85.5753 478.299 Q87.404 481.84 91.0151 481.84 Q94.6493 481.84 96.4548 478.299 Q98.2835 474.734 98.2835 467.628 Q98.2835 460.498 96.4548 456.956 Q94.6493 453.392 91.0151 453.392 M91.0151 449.688 Q96.8252 449.688 99.8808 454.294 Q102.959 458.878 102.959 467.628 Q102.959 476.354 99.8808 480.961 Q96.8252 485.544 91.0151 485.544 Q85.2049 485.544 82.1262 480.961 Q79.0707 476.354 79.0707 467.628 Q79.0707 458.878 82.1262 454.294 Q85.2049 449.688 91.0151 449.688 Z\" fill=\"#000000\" fill-rule=\"evenodd\" fill-opacity=\"1\" /><path clip-path=\"url(#clip540)\" d=\"M102.959 443.789 L127.071 443.789 L127.071 446.987 L102.959 446.987 L102.959 443.789 Z\" fill=\"#000000\" fill-rule=\"evenodd\" fill-opacity=\"1\" /><path clip-path=\"url(#clip540)\" d=\"M135.929 454.265 L142.136 454.265 L142.136 432.843 L135.384 434.197 L135.384 430.737 L142.098 429.382 L145.898 429.382 L145.898 454.265 L152.104 454.265 L152.104 457.462 L135.929 457.462 L135.929 454.265 Z\" fill=\"#000000\" fill-rule=\"evenodd\" fill-opacity=\"1\" /><path clip-path=\"url(#clip540)\" d=\"M170.216 432.693 L160.624 447.682 L170.216 447.682 L170.216 432.693 M169.219 429.382 L173.996 429.382 L173.996 447.682 L178.002 447.682 L178.002 450.842 L173.996 450.842 L173.996 457.462 L170.216 457.462 L170.216 450.842 L157.54 450.842 L157.54 447.175 L169.219 429.382 Z\" fill=\"#000000\" fill-rule=\"evenodd\" fill-opacity=\"1\" /><path clip-path=\"url(#clip540)\" d=\"M53.3561 143.265 L60.995 143.265 L60.995 116.899 L52.6848 118.566 L52.6848 114.306 L60.9487 112.64 L65.6246 112.64 L65.6246 143.265 L73.2634 143.265 L73.2634 147.2 L53.3561 147.2 L53.3561 143.265 Z\" fill=\"#000000\" fill-rule=\"evenodd\" fill-opacity=\"1\" /><path clip-path=\"url(#clip540)\" d=\"M92.7078 115.718 Q89.0967 115.718 87.268 119.283 Q85.4624 122.825 85.4624 129.954 Q85.4624 137.061 87.268 140.626 Q89.0967 144.167 92.7078 144.167 Q96.342 144.167 98.1475 140.626 Q99.9762 137.061 99.9762 129.954 Q99.9762 122.825 98.1475 119.283 Q96.342 115.718 92.7078 115.718 M92.7078 112.015 Q98.5179 112.015 101.573 116.621 Q104.652 121.204 104.652 129.954 Q104.652 138.681 101.573 143.288 Q98.5179 147.871 92.7078 147.871 Q86.8976 147.871 83.8189 143.288 Q80.7634 138.681 80.7634 129.954 Q80.7634 121.204 83.8189 116.621 Q86.8976 112.015 92.7078 112.015 Z\" fill=\"#000000\" fill-rule=\"evenodd\" fill-opacity=\"1\" /><path clip-path=\"url(#clip540)\" d=\"M104.652 106.116 L128.764 106.116 L128.764 109.313 L104.652 109.313 L104.652 106.116 Z\" fill=\"#000000\" fill-rule=\"evenodd\" fill-opacity=\"1\" /><path clip-path=\"url(#clip540)\" d=\"M137.622 116.592 L143.829 116.592 L143.829 95.17 L137.077 96.5241 L137.077 93.0635 L143.791 91.7093 L147.59 91.7093 L147.59 116.592 L153.797 116.592 L153.797 119.789 L137.622 119.789 L137.622 116.592 Z\" fill=\"#000000\" fill-rule=\"evenodd\" fill-opacity=\"1\" /><path clip-path=\"url(#clip540)\" d=\"M164.743 116.592 L178.002 116.592 L178.002 119.789 L160.173 119.789 L160.173 116.592 Q162.336 114.354 166.06 110.592 Q169.802 106.812 170.761 105.721 Q172.586 103.671 173.3 102.26 Q174.034 100.831 174.034 99.4581 Q174.034 97.22 172.454 95.8094 Q170.893 94.3988 168.373 94.3988 Q166.586 94.3988 164.593 95.0195 Q162.618 95.6401 160.361 96.9003 L160.361 93.0635 Q162.655 92.1419 164.649 91.6717 Q166.643 91.2015 168.298 91.2015 Q172.661 91.2015 175.257 93.3832 Q177.852 95.5649 177.852 99.2136 Q177.852 100.944 177.194 102.505 Q176.554 104.047 174.843 106.154 Q174.373 106.699 171.852 109.313 Q169.332 111.909 164.743 116.592 Z\" fill=\"#000000\" fill-rule=\"evenodd\" fill-opacity=\"1\" /><path clip-path=\"url(#clip540)\" d=\"M650.547 12.096 L688.787 12.096 L688.787 18.9825 L658.73 18.9825 L658.73 36.8875 L687.532 36.8875 L687.532 43.7741 L658.73 43.7741 L658.73 65.6895 L689.517 65.6895 L689.517 72.576 L650.547 72.576 L650.547 12.096 Z\" fill=\"#000000\" fill-rule=\"evenodd\" fill-opacity=\"1\" /><path clip-path=\"url(#clip540)\" d=\"M740.355 45.1919 L740.355 72.576 L732.902 72.576 L732.902 45.4349 Q732.902 38.994 730.39 35.7938 Q727.879 32.5936 722.856 32.5936 Q716.82 32.5936 713.336 36.4419 Q709.852 40.2903 709.852 46.9338 L709.852 72.576 L702.358 72.576 L702.358 27.2059 L709.852 27.2059 L709.852 34.2544 Q712.526 30.163 716.131 28.1376 Q719.777 26.1121 724.516 26.1121 Q732.335 26.1121 736.345 30.9732 Q740.355 35.7938 740.355 45.1919 Z\" fill=\"#000000\" fill-rule=\"evenodd\" fill-opacity=\"1\" /><path clip-path=\"url(#clip540)\" d=\"M794.03 48.0275 L794.03 51.6733 L759.759 51.6733 Q760.245 59.3701 764.377 63.421 Q768.55 67.4314 775.963 67.4314 Q780.257 67.4314 784.267 66.3781 Q788.318 65.3249 792.288 63.2184 L792.288 70.267 Q788.278 71.9684 784.065 72.8596 Q779.852 73.7508 775.517 73.7508 Q764.661 73.7508 758.301 67.4314 Q751.982 61.1119 751.982 50.3365 Q751.982 39.1965 757.977 32.6746 Q764.013 26.1121 774.221 26.1121 Q783.376 26.1121 788.683 32.0264 Q794.03 37.9003 794.03 48.0275 M786.576 45.84 Q786.495 39.7232 783.133 36.0774 Q779.811 32.4315 774.302 32.4315 Q768.064 32.4315 764.296 35.9558 Q760.569 39.4801 760.002 45.8805 L786.576 45.84 Z\" fill=\"#000000\" fill-rule=\"evenodd\" fill-opacity=\"1\" /><path clip-path=\"url(#clip540)\" d=\"M832.554 34.1734 Q831.298 33.4443 829.799 33.1202 Q828.341 32.7556 826.559 32.7556 Q820.239 32.7556 816.837 36.8875 Q813.474 40.9789 813.474 48.6757 L813.474 72.576 L805.98 72.576 L805.98 27.2059 L813.474 27.2059 L813.474 34.2544 Q815.824 30.1225 819.591 28.1376 Q823.358 26.1121 828.746 26.1121 Q829.516 26.1121 830.448 26.2337 Q831.379 26.3147 832.514 26.5172 L832.554 34.1734 Z\" fill=\"#000000\" fill-rule=\"evenodd\" fill-opacity=\"1\" /><path clip-path=\"url(#clip540)\" d=\"M868.769 49.3643 Q868.769 41.2625 865.407 36.8065 Q862.085 32.3505 856.049 32.3505 Q850.054 32.3505 846.692 36.8065 Q843.37 41.2625 843.37 49.3643 Q843.37 57.4256 846.692 61.8816 Q850.054 66.3376 856.049 66.3376 Q862.085 66.3376 865.407 61.8816 Q868.769 57.4256 868.769 49.3643 M876.223 66.9452 Q876.223 78.5308 871.078 84.1616 Q865.933 89.8329 855.32 89.8329 Q851.391 89.8329 847.907 89.2252 Q844.423 88.6581 841.142 87.4428 L841.142 80.1917 Q844.423 81.9741 847.623 82.8248 Q850.824 83.6755 854.145 83.6755 Q861.477 83.6755 865.123 79.8271 Q868.769 76.0193 868.769 68.282 L868.769 64.5957 Q866.46 68.6061 862.855 70.5911 Q859.25 72.576 854.226 72.576 Q845.882 72.576 840.777 66.2161 Q835.673 59.8562 835.673 49.3643 Q835.673 38.832 840.777 32.472 Q845.882 26.1121 854.226 26.1121 Q859.25 26.1121 862.855 28.0971 Q866.46 30.082 868.769 34.0924 L868.769 27.2059 L876.223 27.2059 L876.223 66.9452 Z\" fill=\"#000000\" fill-rule=\"evenodd\" fill-opacity=\"1\" /><path clip-path=\"url(#clip540)\" d=\"M910.453 76.7889 Q907.293 84.8907 904.296 87.3618 Q901.298 89.8329 896.275 89.8329 L890.32 89.8329 L890.32 83.5945 L894.695 83.5945 Q897.774 83.5945 899.475 82.1361 Q901.176 80.6778 903.242 75.2496 L904.579 71.8468 L886.229 27.2059 L894.128 27.2059 L908.306 62.6918 L922.484 27.2059 L930.383 27.2059 L910.453 76.7889 Z\" fill=\"#000000\" fill-rule=\"evenodd\" fill-opacity=\"1\" /><path clip-path=\"url(#clip540)\" d=\"M1005.85 48.0275 L1005.85 51.6733 L971.581 51.6733 Q972.067 59.3701 976.199 63.421 Q980.372 67.4314 987.785 67.4314 Q992.079 67.4314 996.089 66.3781 Q1000.14 65.3249 1004.11 63.2184 L1004.11 70.267 Q1000.1 71.9684 995.887 72.8596 Q991.674 73.7508 987.339 73.7508 Q976.483 73.7508 970.123 67.4314 Q963.803 61.1119 963.803 50.3365 Q963.803 39.1965 969.799 32.6746 Q975.835 26.1121 986.043 26.1121 Q995.198 26.1121 1000.5 32.0264 Q1005.85 37.9003 1005.85 48.0275 M998.398 45.84 Q998.317 39.7232 994.955 36.0774 Q991.633 32.4315 986.124 32.4315 Q979.885 32.4315 976.118 35.9558 Q972.391 39.4801 971.824 45.8805 L998.398 45.84 Z\" fill=\"#000000\" fill-rule=\"evenodd\" fill-opacity=\"1\" /><path clip-path=\"url(#clip540)\" d=\"M1044.38 34.1734 Q1043.12 33.4443 1041.62 33.1202 Q1040.16 32.7556 1038.38 32.7556 Q1032.06 32.7556 1028.66 36.8875 Q1025.3 40.9789 1025.3 48.6757 L1025.3 72.576 L1017.8 72.576 L1017.8 27.2059 L1025.3 27.2059 L1025.3 34.2544 Q1027.65 30.1225 1031.41 28.1376 Q1035.18 26.1121 1040.57 26.1121 Q1041.34 26.1121 1042.27 26.2337 Q1043.2 26.3147 1044.34 26.5172 L1044.38 34.1734 Z\" fill=\"#000000\" fill-rule=\"evenodd\" fill-opacity=\"1\" /><path clip-path=\"url(#clip540)\" d=\"M1077.03 34.1734 Q1075.77 33.4443 1074.27 33.1202 Q1072.81 32.7556 1071.03 32.7556 Q1064.71 32.7556 1061.31 36.8875 Q1057.95 40.9789 1057.95 48.6757 L1057.95 72.576 L1050.45 72.576 L1050.45 27.2059 L1057.95 27.2059 L1057.95 34.2544 Q1060.3 30.1225 1064.06 28.1376 Q1067.83 26.1121 1073.22 26.1121 Q1073.99 26.1121 1074.92 26.2337 Q1075.85 26.3147 1076.99 26.5172 L1077.03 34.1734 Z\" fill=\"#000000\" fill-rule=\"evenodd\" fill-opacity=\"1\" /><path clip-path=\"url(#clip540)\" d=\"M1100.6 32.4315 Q1094.61 32.4315 1091.12 37.1306 Q1087.64 41.7891 1087.64 49.9314 Q1087.64 58.0738 1091.08 62.7728 Q1094.57 67.4314 1100.6 67.4314 Q1106.56 67.4314 1110.04 62.7323 Q1113.52 58.0333 1113.52 49.9314 Q1113.52 41.8701 1110.04 37.1711 Q1106.56 32.4315 1100.6 32.4315 M1100.6 26.1121 Q1110.32 26.1121 1115.87 32.4315 Q1121.42 38.7509 1121.42 49.9314 Q1121.42 61.0714 1115.87 67.4314 Q1110.32 73.7508 1100.6 73.7508 Q1090.84 73.7508 1085.29 67.4314 Q1079.78 61.0714 1079.78 49.9314 Q1079.78 38.7509 1085.29 32.4315 Q1090.84 26.1121 1100.6 26.1121 Z\" fill=\"#000000\" fill-rule=\"evenodd\" fill-opacity=\"1\" /><path clip-path=\"url(#clip540)\" d=\"M1160.07 34.1734 Q1158.81 33.4443 1157.32 33.1202 Q1155.86 32.7556 1154.07 32.7556 Q1147.75 32.7556 1144.35 36.8875 Q1140.99 40.9789 1140.99 48.6757 L1140.99 72.576 L1133.5 72.576 L1133.5 27.2059 L1140.99 27.2059 L1140.99 34.2544 Q1143.34 30.1225 1147.11 28.1376 Q1150.87 26.1121 1156.26 26.1121 Q1157.03 26.1121 1157.96 26.2337 Q1158.89 26.3147 1160.03 26.5172 L1160.07 34.1734 Z\" fill=\"#000000\" fill-rule=\"evenodd\" fill-opacity=\"1\" /><path clip-path=\"url(#clip540)\" d=\"M1168.33 62.2867 L1176.88 62.2867 L1176.88 72.576 L1168.33 72.576 L1168.33 62.2867 M1168.33 29.6769 L1176.88 29.6769 L1176.88 39.9662 L1168.33 39.9662 L1168.33 29.6769 Z\" fill=\"#000000\" fill-rule=\"evenodd\" fill-opacity=\"1\" /><path clip-path=\"url(#clip540)\" d=\"M1223.22 65.6895 L1236.59 65.6895 L1236.59 19.5497 L1222.05 22.4663 L1222.05 15.0127 L1236.51 12.096 L1244.69 12.096 L1244.69 65.6895 L1258.06 65.6895 L1258.06 72.576 L1223.22 72.576 L1223.22 65.6895 Z\" fill=\"#000000\" fill-rule=\"evenodd\" fill-opacity=\"1\" /><path clip-path=\"url(#clip540)\" d=\"M1274.67 12.096 L1306.79 12.096 L1306.79 18.9825 L1282.16 18.9825 L1282.16 33.8088 Q1283.95 33.2012 1285.73 32.9176 Q1287.51 32.5936 1289.29 32.5936 Q1299.42 32.5936 1305.34 38.1433 Q1311.25 43.6931 1311.25 53.1722 Q1311.25 62.9348 1305.17 68.3631 Q1299.1 73.7508 1288.04 73.7508 Q1284.23 73.7508 1280.26 73.1026 Q1276.33 72.4545 1272.12 71.1582 L1272.12 62.9348 Q1275.76 64.9198 1279.65 65.892 Q1283.54 66.8642 1287.88 66.8642 Q1294.88 66.8642 1298.98 63.1779 Q1303.07 59.4916 1303.07 53.1722 Q1303.07 46.8528 1298.98 43.1664 Q1294.88 39.4801 1287.88 39.4801 Q1284.59 39.4801 1281.31 40.2093 Q1278.07 40.9384 1274.67 42.4778 L1274.67 12.096 Z\" fill=\"#000000\" fill-rule=\"evenodd\" fill-opacity=\"1\" /><path clip-path=\"url(#clip540)\" d=\"M1322.55 46.5287 L1344.39 46.5287 L1344.39 53.1722 L1322.55 53.1722 L1322.55 46.5287 Z\" fill=\"#000000\" fill-rule=\"evenodd\" fill-opacity=\"1\" /><path clip-path=\"url(#clip540)\" d=\"M1388.82 49.9314 Q1388.82 41.7081 1385.42 37.0496 Q1382.06 32.3505 1376.14 32.3505 Q1370.23 32.3505 1366.83 37.0496 Q1363.47 41.7081 1363.47 49.9314 Q1363.47 58.1548 1366.83 62.8538 Q1370.23 67.5124 1376.14 67.5124 Q1382.06 67.5124 1385.42 62.8538 Q1388.82 58.1548 1388.82 49.9314 M1363.47 34.0924 Q1365.82 30.0415 1369.38 28.0971 Q1372.99 26.1121 1377.97 26.1121 Q1386.23 26.1121 1391.38 32.6746 Q1396.56 39.2371 1396.56 49.9314 Q1396.56 60.6258 1391.38 67.1883 Q1386.23 73.7508 1377.97 73.7508 Q1372.99 73.7508 1369.38 71.8063 Q1365.82 69.8214 1363.47 65.7705 L1363.47 72.576 L1355.97 72.576 L1355.97 9.54393 L1363.47 9.54393 L1363.47 34.0924 Z\" fill=\"#000000\" fill-rule=\"evenodd\" fill-opacity=\"1\" /><path clip-path=\"url(#clip540)\" d=\"M1426.5 32.4315 Q1420.5 32.4315 1417.02 37.1306 Q1413.53 41.7891 1413.53 49.9314 Q1413.53 58.0738 1416.98 62.7728 Q1420.46 67.4314 1426.5 67.4314 Q1432.45 67.4314 1435.94 62.7323 Q1439.42 58.0333 1439.42 49.9314 Q1439.42 41.8701 1435.94 37.1711 Q1432.45 32.4315 1426.5 32.4315 M1426.5 26.1121 Q1436.22 26.1121 1441.77 32.4315 Q1447.32 38.7509 1447.32 49.9314 Q1447.32 61.0714 1441.77 67.4314 Q1436.22 73.7508 1426.5 73.7508 Q1416.73 73.7508 1411.19 67.4314 Q1405.68 61.0714 1405.68 49.9314 Q1405.68 38.7509 1411.19 32.4315 Q1416.73 26.1121 1426.5 26.1121 Z\" fill=\"#000000\" fill-rule=\"evenodd\" fill-opacity=\"1\" /><path clip-path=\"url(#clip540)\" d=\"M1489.53 34.0924 L1489.53 9.54393 L1496.98 9.54393 L1496.98 72.576 L1489.53 72.576 L1489.53 65.7705 Q1487.18 69.8214 1483.57 71.8063 Q1480.01 73.7508 1474.99 73.7508 Q1466.76 73.7508 1461.58 67.1883 Q1456.43 60.6258 1456.43 49.9314 Q1456.43 39.2371 1461.58 32.6746 Q1466.76 26.1121 1474.99 26.1121 Q1480.01 26.1121 1483.57 28.0971 Q1487.18 30.0415 1489.53 34.0924 M1464.13 49.9314 Q1464.13 58.1548 1467.49 62.8538 Q1470.9 67.5124 1476.81 67.5124 Q1482.72 67.5124 1486.13 62.8538 Q1489.53 58.1548 1489.53 49.9314 Q1489.53 41.7081 1486.13 37.0496 Q1482.72 32.3505 1476.81 32.3505 Q1470.9 32.3505 1467.49 37.0496 Q1464.13 41.7081 1464.13 49.9314 Z\" fill=\"#000000\" fill-rule=\"evenodd\" fill-opacity=\"1\" /><path clip-path=\"url(#clip540)\" d=\"M1531.21 76.7889 Q1528.05 84.8907 1525.06 87.3618 Q1522.06 89.8329 1517.04 89.8329 L1511.08 89.8329 L1511.08 83.5945 L1515.46 83.5945 Q1518.53 83.5945 1520.24 82.1361 Q1521.94 80.6778 1524 75.2496 L1525.34 71.8468 L1506.99 27.2059 L1514.89 27.2059 L1529.07 62.6918 L1543.24 27.2059 L1551.14 27.2059 L1531.21 76.7889 Z\" fill=\"#000000\" fill-rule=\"evenodd\" fill-opacity=\"1\" /><path clip-path=\"url(#clip540)\" d=\"M1595.02 65.7705 L1595.02 89.8329 L1587.52 89.8329 L1587.52 27.2059 L1595.02 27.2059 L1595.02 34.0924 Q1597.36 30.0415 1600.93 28.0971 Q1604.53 26.1121 1609.52 26.1121 Q1617.78 26.1121 1622.93 32.6746 Q1628.11 39.2371 1628.11 49.9314 Q1628.11 60.6258 1622.93 67.1883 Q1617.78 73.7508 1609.52 73.7508 Q1604.53 73.7508 1600.93 71.8063 Q1597.36 69.8214 1595.02 65.7705 M1620.37 49.9314 Q1620.37 41.7081 1616.97 37.0496 Q1613.61 32.3505 1607.69 32.3505 Q1601.78 32.3505 1598.38 37.0496 Q1595.02 41.7081 1595.02 49.9314 Q1595.02 58.1548 1598.38 62.8538 Q1601.78 67.5124 1607.69 67.5124 Q1613.61 67.5124 1616.97 62.8538 Q1620.37 58.1548 1620.37 49.9314 Z\" fill=\"#000000\" fill-rule=\"evenodd\" fill-opacity=\"1\" /><path clip-path=\"url(#clip540)\" d=\"M1666.76 34.1734 Q1665.5 33.4443 1664 33.1202 Q1662.54 32.7556 1660.76 32.7556 Q1654.44 32.7556 1651.04 36.8875 Q1647.68 40.9789 1647.68 48.6757 L1647.68 72.576 L1640.18 72.576 L1640.18 27.2059 L1647.68 27.2059 L1647.68 34.2544 Q1650.03 30.1225 1653.79 28.1376 Q1657.56 26.1121 1662.95 26.1121 Q1663.72 26.1121 1664.65 26.2337 Q1665.58 26.3147 1666.72 26.5172 L1666.76 34.1734 Z\" fill=\"#000000\" fill-rule=\"evenodd\" fill-opacity=\"1\" /><path clip-path=\"url(#clip540)\" d=\"M1690.33 32.4315 Q1684.34 32.4315 1680.85 37.1306 Q1677.37 41.7891 1677.37 49.9314 Q1677.37 58.0738 1680.81 62.7728 Q1684.3 67.4314 1690.33 67.4314 Q1696.29 67.4314 1699.77 62.7323 Q1703.26 58.0333 1703.26 49.9314 Q1703.26 41.8701 1699.77 37.1711 Q1696.29 32.4315 1690.33 32.4315 M1690.33 26.1121 Q1700.06 26.1121 1705.6 32.4315 Q1711.15 38.7509 1711.15 49.9314 Q1711.15 61.0714 1705.6 67.4314 Q1700.06 73.7508 1690.33 73.7508 Q1680.57 73.7508 1675.02 67.4314 Q1669.51 61.0714 1669.51 49.9314 Q1669.51 38.7509 1675.02 32.4315 Q1680.57 26.1121 1690.33 26.1121 Z\" fill=\"#000000\" fill-rule=\"evenodd\" fill-opacity=\"1\" /><path clip-path=\"url(#clip540)\" d=\"M1756.08 49.9314 Q1756.08 41.7081 1752.68 37.0496 Q1749.31 32.3505 1743.4 32.3505 Q1737.49 32.3505 1734.08 37.0496 Q1730.72 41.7081 1730.72 49.9314 Q1730.72 58.1548 1734.08 62.8538 Q1737.49 67.5124 1743.4 67.5124 Q1749.31 67.5124 1752.68 62.8538 Q1756.08 58.1548 1756.08 49.9314 M1730.72 34.0924 Q1733.07 30.0415 1736.63 28.0971 Q1740.24 26.1121 1745.22 26.1121 Q1753.49 26.1121 1758.63 32.6746 Q1763.82 39.2371 1763.82 49.9314 Q1763.82 60.6258 1758.63 67.1883 Q1753.49 73.7508 1745.22 73.7508 Q1740.24 73.7508 1736.63 71.8063 Q1733.07 69.8214 1730.72 65.7705 L1730.72 72.576 L1723.23 72.576 L1723.23 9.54393 L1730.72 9.54393 L1730.72 34.0924 Z\" fill=\"#000000\" fill-rule=\"evenodd\" fill-opacity=\"1\" /><path clip-path=\"url(#clip540)\" d=\"M1776.17 9.54393 L1783.63 9.54393 L1783.63 72.576 L1776.17 72.576 L1776.17 9.54393 Z\" fill=\"#000000\" fill-rule=\"evenodd\" fill-opacity=\"1\" /><path clip-path=\"url(#clip540)\" d=\"M1838.03 48.0275 L1838.03 51.6733 L1803.76 51.6733 Q1804.24 59.3701 1808.38 63.421 Q1812.55 67.4314 1819.96 67.4314 Q1824.26 67.4314 1828.27 66.3781 Q1832.32 65.3249 1836.29 63.2184 L1836.29 70.267 Q1832.28 71.9684 1828.06 72.8596 Q1823.85 73.7508 1819.52 73.7508 Q1808.66 73.7508 1802.3 67.4314 Q1795.98 61.1119 1795.98 50.3365 Q1795.98 39.1965 1801.98 32.6746 Q1808.01 26.1121 1818.22 26.1121 Q1827.38 26.1121 1832.68 32.0264 Q1838.03 37.9003 1838.03 48.0275 M1830.58 45.84 Q1830.49 39.7232 1827.13 36.0774 Q1823.81 32.4315 1818.3 32.4315 Q1812.06 32.4315 1808.3 35.9558 Q1804.57 39.4801 1804 45.8805 L1830.58 45.84 Z\" fill=\"#000000\" fill-rule=\"evenodd\" fill-opacity=\"1\" /><path clip-path=\"url(#clip540)\" d=\"M1885.59 35.9153 Q1888.38 30.8922 1892.27 28.5022 Q1896.16 26.1121 1901.43 26.1121 Q1908.51 26.1121 1912.36 31.0947 Q1916.21 36.0368 1916.21 45.1919 L1916.21 72.576 L1908.72 72.576 L1908.72 45.4349 Q1908.72 38.913 1906.41 35.7533 Q1904.1 32.5936 1899.36 32.5936 Q1893.57 32.5936 1890.2 36.4419 Q1886.84 40.2903 1886.84 46.9338 L1886.84 72.576 L1879.35 72.576 L1879.35 45.4349 Q1879.35 38.8725 1877.04 35.7533 Q1874.73 32.5936 1869.91 32.5936 Q1864.2 32.5936 1860.84 36.4824 Q1857.47 40.3308 1857.47 46.9338 L1857.47 72.576 L1849.98 72.576 L1849.98 27.2059 L1857.47 27.2059 L1857.47 34.2544 Q1860.03 30.082 1863.59 28.0971 Q1867.15 26.1121 1872.06 26.1121 Q1877 26.1121 1880.44 28.6237 Q1883.93 31.1352 1885.59 35.9153 Z\" fill=\"#000000\" fill-rule=\"evenodd\" fill-opacity=\"1\" /><polyline clip-path=\"url(#clip542)\" style=\"stroke:#009af9; stroke-linecap:round; stroke-linejoin:round; stroke-width:4; stroke-opacity:1; fill:none\" points=\"\n",
       "  274.796,807.975 276.816,797.007 278.835,1019.34 280.855,772.877 282.874,867.967 284.894,824.682 286.913,840.689 288.933,836.451 290.952,793.613 292.972,781.943 \n",
       "  294.991,766.384 297.01,1076.88 299.03,955.341 301.049,777.124 303.069,787.344 305.088,795.195 307.108,765.257 309.127,811.096 311.147,840.645 313.166,861.162 \n",
       "  315.185,894.121 317.205,799.829 319.224,816.046 321.244,827.529 323.263,877.584 325.283,875.479 327.302,815.424 329.322,932.254 331.341,907.619 333.36,843.585 \n",
       "  335.38,846.69 337.399,845.625 339.419,898.774 341.438,1150.22 343.458,908.123 345.477,948.699 347.497,1027.66 349.516,1010.48 351.536,875.163 353.555,789.552 \n",
       "  355.574,892.378 357.594,830.541 359.613,770.11 361.633,853.841 363.652,859.384 365.672,814.675 367.691,864.775 369.711,848.68 371.73,845.078 373.749,789.932 \n",
       "  375.769,1094.51 377.788,841.562 379.808,765.741 381.827,801.384 383.847,800.924 385.866,821.874 387.886,818.864 389.905,807.258 391.924,883.727 393.944,822.941 \n",
       "  395.963,874.055 397.983,761.388 400.002,813.57 402.022,867.898 404.041,760.891 406.061,851.587 408.08,819.027 410.1,882.144 412.119,808.888 414.138,770.147 \n",
       "  416.158,1273.93 418.177,792.78 420.197,841.613 422.216,748.1 424.236,801.665 426.255,764.959 428.275,832.18 430.294,893.937 432.313,845.438 434.333,981.977 \n",
       "  436.352,794.528 438.372,781.837 440.391,890.519 442.411,838.593 444.43,765.483 446.45,860.291 448.469,774.458 450.488,825.165 452.508,801.094 454.527,803.621 \n",
       "  456.547,895.091 458.566,835.437 460.586,915.638 462.605,802.247 464.625,1001.1 466.644,827.802 468.664,815.949 470.683,852.522 472.702,858.242 474.722,956.289 \n",
       "  476.741,790.713 478.761,854.034 480.78,802.249 482.8,974.244 484.819,849.487 486.839,857.923 488.858,817.133 490.877,816.581 492.897,798.404 494.916,1057.89 \n",
       "  496.936,872.025 498.955,797.113 500.975,853.371 502.994,963.432 505.014,744.443 507.033,833.401 509.052,743.244 511.072,832.03 513.091,951.938 515.111,951.773 \n",
       "  517.13,886.884 519.15,834.509 521.169,932.824 523.189,801.768 525.208,832.187 527.228,765.177 529.247,780.013 531.266,762.428 533.286,815.497 535.305,871.523 \n",
       "  537.325,767.083 539.344,900.803 541.364,859.578 543.383,830.964 545.403,795.454 547.422,757.405 549.441,942.519 551.461,1054.39 553.48,858.781 555.5,869.886 \n",
       "  557.519,931.005 559.539,922.529 561.558,776.417 563.578,825.398 565.597,796.989 567.616,911.02 569.636,783.331 571.655,745.618 573.675,750.84 575.694,899.509 \n",
       "  577.714,824.73 579.733,902.744 581.753,895.937 583.772,791.295 585.792,809.25 587.811,906.53 589.83,764.713 591.85,786.209 593.869,818.608 595.889,824.854 \n",
       "  597.908,803.534 599.928,854.27 601.947,872.55 603.967,1047.93 605.986,922.335 608.005,1118.46 610.025,929.922 612.044,834.167 614.064,859.651 616.083,925.995 \n",
       "  618.103,924.945 620.122,797.385 622.142,1234.54 624.161,875.934 626.18,797.969 628.2,806.072 630.219,915.188 632.239,895.033 634.258,809.215 636.278,849.2 \n",
       "  638.297,848.185 640.317,855.485 642.336,878.241 644.355,812.47 646.375,806.935 648.394,764.336 650.414,888.356 652.433,789.38 654.453,834.267 656.472,832.329 \n",
       "  658.492,816.688 660.511,811.825 662.531,903.515 664.55,1035.57 666.569,786.671 668.589,789.831 670.608,773.444 672.628,818.899 674.647,761.689 676.667,773.615 \n",
       "  678.686,775.113 680.706,853.655 682.725,795.866 684.744,895.751 686.764,900.44 688.783,780.495 690.803,816.837 692.822,806.579 694.842,828.571 696.861,1084.12 \n",
       "  698.881,805.133 700.9,767.082 702.919,883.667 704.939,756.065 706.958,950.77 708.978,848.895 710.997,878.563 713.017,816.895 715.036,846.124 717.056,862.571 \n",
       "  719.075,878.628 721.095,826.014 723.114,961.171 725.133,792.285 727.153,765.428 729.172,814.914 731.192,853.892 733.211,781.088 735.231,799.63 737.25,808.206 \n",
       "  739.27,844.712 741.289,823.46 743.308,776.12 745.328,862.487 747.347,942.149 749.367,813.493 751.386,846.745 753.406,869.856 755.425,842.348 757.445,760.136 \n",
       "  759.464,1020.59 761.483,874.94 763.503,881.965 765.522,753.771 767.542,918.112 769.561,823.259 771.581,836.318 773.6,793.517 775.62,851.219 777.639,868.08 \n",
       "  779.659,812.945 781.678,818.052 783.697,790.118 785.717,894.011 787.736,923.841 789.756,930.919 791.775,909.641 793.795,756.235 795.814,791.215 797.834,763.963 \n",
       "  799.853,755.345 801.872,823.857 803.892,748.793 805.911,1134.96 807.931,898.46 809.95,865.413 811.97,904.251 813.989,846.36 816.009,812.359 818.028,770.989 \n",
       "  820.047,997.829 822.067,802.278 824.086,774.921 826.106,815.775 828.125,972.886 830.145,918.325 832.164,745.369 834.184,828.573 836.203,1152.17 838.223,856.864 \n",
       "  840.242,859.703 842.261,814.215 844.281,840.998 846.3,775.076 848.32,866.555 850.339,781.37 852.359,815.657 854.378,753.898 856.398,783.941 858.417,772.868 \n",
       "  860.436,854.772 862.456,911.962 864.475,869.752 866.495,842.643 868.514,782.403 870.534,925.494 872.553,832.389 874.573,860.312 876.592,781.548 878.611,837.42 \n",
       "  880.631,764.654 882.65,754.482 884.67,794.989 886.689,756.809 888.709,974.192 890.728,970.132 892.748,854.073 894.767,825.2 896.787,820.637 898.806,897.891 \n",
       "  900.825,820.326 902.845,952.965 904.864,819.732 906.884,990.502 908.903,831.841 910.923,846.923 912.942,792.807 914.962,821.421 916.981,799.75 919,965.799 \n",
       "  921.02,851.158 923.039,810.398 925.059,907.336 927.078,778.797 929.098,799.64 931.117,905.182 933.137,797.194 935.156,1050.51 937.175,840.311 939.195,776.595 \n",
       "  941.214,936.589 943.234,755.159 945.253,966.094 947.273,918.966 949.292,778.992 951.312,763.71 953.331,803.911 955.351,742.987 957.37,778.619 959.389,818.365 \n",
       "  961.409,809.67 963.428,801.777 965.448,761.423 967.467,763.887 969.487,869.536 971.506,880.948 973.526,735.525 975.545,887.41 977.564,779.732 979.584,788.054 \n",
       "  981.603,796.958 983.623,791.767 985.642,757.961 987.662,866.136 989.681,741.021 991.701,808.623 993.72,735.274 995.739,958.681 997.759,794.923 999.778,810.034 \n",
       "  1001.8,833.631 1003.82,957.641 1005.84,810.748 1007.86,795.322 1009.88,881.027 1011.9,765.116 1013.91,811.357 1015.93,864.325 1017.95,817.907 1019.97,815.937 \n",
       "  1021.99,785.776 1024.01,813.82 1026.03,940.64 1028.05,812.87 1030.07,988.274 1032.09,985.68 1034.11,794.661 1036.13,918.886 1038.15,1221.05 1040.17,935.806 \n",
       "  1042.19,1149.24 1044.21,768.595 1046.23,909.854 1048.25,933.786 1050.26,898.224 1052.28,897.028 1054.3,782.724 1056.32,868.395 1058.34,863.488 1060.36,847.613 \n",
       "  1062.38,799.851 1064.4,934.468 1066.42,803.017 1068.44,770.427 1070.46,844.16 1072.48,848.991 1074.5,793.596 1076.52,815.92 1078.54,771.421 1080.56,1035.22 \n",
       "  1082.58,763.532 1084.6,862.094 1086.61,820.093 1088.63,892.441 1090.65,794.164 1092.67,932.832 1094.69,893.414 1096.71,1051.16 1098.73,973.547 1100.75,782.672 \n",
       "  1102.77,797.761 1104.79,734.346 1106.81,841.209 1108.83,905.032 1110.85,770.645 1112.87,815.999 1114.89,781.056 1116.91,757.802 1118.93,750.085 1120.95,793.302 \n",
       "  1122.96,959.126 1124.98,783.485 1127,875.585 1129.02,930.169 1131.04,842.291 1133.06,833.682 1135.08,820.432 1137.1,794.95 1139.12,1064.72 1141.14,832.517 \n",
       "  1143.16,914.355 1145.18,781.256 1147.2,791.746 1149.22,921.719 1151.24,733.719 1153.26,785.321 1155.28,728.524 1157.3,999.4 1159.31,798.8 1161.33,764.02 \n",
       "  1163.35,805.513 1165.37,768.074 1167.39,820.009 1169.41,810.429 1171.43,759.984 1173.45,901.291 1175.47,772.056 1177.49,748.783 1179.51,776.241 1181.53,814.095 \n",
       "  1183.55,769.628 1185.57,786.786 1187.59,745.858 1189.61,1124.25 1191.63,897.945 1193.65,1043.19 1195.66,818.114 1197.68,753.379 1199.7,911.896 1201.72,804.204 \n",
       "  1203.74,785.714 1205.76,832.143 1207.78,782.315 1209.8,875.087 1211.82,852.538 1213.84,778.025 1215.86,931.128 1217.88,858.133 1219.9,871.976 1221.92,993.269 \n",
       "  1223.94,817.911 1225.96,905.829 1227.98,845.827 1230,789.282 1232.01,860.238 1234.03,930.157 1236.05,840.507 1238.07,878.467 1240.09,799.119 1242.11,863.872 \n",
       "  1244.13,884.671 1246.15,847.482 1248.17,779.564 1250.19,750.006 1252.21,777.379 1254.23,872.03 1256.25,935.918 1258.27,846.396 1260.29,905.67 1262.31,866.911 \n",
       "  1264.33,835.851 1266.35,882.614 1268.36,779.385 1270.38,895.198 1272.4,932.271 1274.42,796.198 1276.44,802.207 1278.46,767.099 1280.48,824.404 1282.5,827.336 \n",
       "  1284.52,752.029 1286.54,769.998 1288.56,829.189 1290.58,821.967 1292.6,807.506 1294.62,799.688 1296.64,776.731 1298.66,831.836 1300.68,786.894 1302.7,816.481 \n",
       "  1304.72,950.842 1306.73,825.28 1308.75,827.742 1310.77,780.09 1312.79,766.043 1314.81,837.502 1316.83,768.039 1318.85,777.119 1320.87,810.37 1322.89,903.078 \n",
       "  1324.91,878.232 1326.93,907.616 1328.95,771.782 1330.97,840.151 1332.99,835.03 1335.01,1020.81 1337.03,818.453 1339.05,937.683 1341.07,897.165 1343.08,857.305 \n",
       "  1345.1,785.831 1347.12,1217.68 1349.14,799.656 1351.16,803.354 1353.18,805.781 1355.2,878.111 1357.22,899.808 1359.24,771.492 1361.26,807.593 1363.28,961.572 \n",
       "  1365.3,831.708 1367.32,839.382 1369.34,777.077 1371.36,744.118 1373.38,896.9 1375.4,960.77 1377.42,841.033 1379.43,842.134 1381.45,811.142 1383.47,799.883 \n",
       "  1385.49,796.393 1387.51,836.059 1389.53,1006.15 1391.55,825.16 1393.57,875.969 1395.59,820.335 1397.61,778.825 1399.63,863.859 1401.65,828.62 1403.67,826.133 \n",
       "  1405.69,795.584 1407.71,972.851 1409.73,775.305 1411.75,934.103 1413.77,1034.44 1415.78,812.391 1417.8,785.761 1419.82,908.014 1421.84,939.676 1423.86,881.78 \n",
       "  1425.88,863.324 1427.9,764.527 1429.92,996.423 1431.94,772.862 1433.96,1018.89 1435.98,811.603 1438,831.952 1440.02,1000.94 1442.04,796.342 1444.06,788.446 \n",
       "  1446.08,776.883 1448.1,787.061 1450.12,859.871 1452.13,756.428 1454.15,827.735 1456.17,805.304 1458.19,779.023 1460.21,853.484 1462.23,747.097 1464.25,820.28 \n",
       "  1466.27,913.682 1468.29,779.789 1470.31,831.049 1472.33,773.183 1474.35,992.264 1476.37,1079.65 1478.39,867.548 1480.41,820.312 1482.43,865.081 1484.45,861.086 \n",
       "  1486.47,817.216 1488.48,1261.05 1490.5,799.554 1492.52,773.42 1494.54,823.127 1496.56,771.85 1498.58,887.318 1500.6,824.22 1502.62,856.148 1504.64,978.055 \n",
       "  1506.66,853.575 1508.68,846.829 1510.7,887.034 1512.72,864.312 1514.74,861.236 1516.76,818.105 1518.78,802.247 1520.8,927.323 1522.82,1040.8 1524.83,929.926 \n",
       "  1526.85,1043.3 1528.87,836.95 1530.89,774.914 1532.91,795.84 1534.93,777.585 1536.95,848.511 1538.97,914.503 1540.99,839.137 1543.01,863.447 1545.03,972.645 \n",
       "  1547.05,834.137 1549.07,835.063 1551.09,874.633 1553.11,786.565 1555.13,989.831 1557.15,846.162 1559.17,837.296 1561.18,860.144 1563.2,777.474 1565.22,815.581 \n",
       "  1567.24,763.015 1569.26,798.766 1571.28,861.219 1573.3,1042.06 1575.32,757.591 1577.34,767.721 1579.36,742.006 1581.38,935.909 1583.4,775.427 1585.42,877.983 \n",
       "  1587.44,808.613 1589.46,776.347 1591.48,730.301 1593.5,806.372 1595.52,921.74 1597.54,764.674 1599.55,768.335 1601.57,936.544 1603.59,801.103 1605.61,846.699 \n",
       "  1607.63,835.069 1609.65,752.78 1611.67,792.442 1613.69,800.441 1615.71,893.926 1617.73,793.573 1619.75,998.33 1621.77,807.16 1623.79,977.624 1625.81,785.385 \n",
       "  1627.83,814.871 1629.85,876.272 1631.87,783.187 1633.89,861.274 1635.9,850.559 1637.92,818.084 1639.94,819.51 1641.96,882.467 1643.98,810.361 1646,877.368 \n",
       "  1648.02,786.61 1650.04,815.531 1652.06,739.064 1654.08,836.642 1656.1,838.932 1658.12,817.104 1660.14,823.957 1662.16,844.622 1664.18,774.454 1666.2,772.125 \n",
       "  1668.22,825.684 1670.24,731.983 1672.25,760.22 1674.27,966.563 1676.29,770.679 1678.31,805.934 1680.33,880.509 1682.35,910.305 1684.37,840.471 1686.39,925.794 \n",
       "  1688.41,814.103 1690.43,758.249 1692.45,1014.64 1694.47,771.458 1696.49,726.909 1698.51,764.838 1700.53,869.573 1702.55,993.77 1704.57,856.503 1706.59,815.338 \n",
       "  1708.6,768.888 1710.62,826.047 1712.64,809.845 1714.66,821.67 1716.68,831.254 1718.7,923.208 1720.72,799.808 1722.74,773.967 1724.76,789.071 1726.78,789.426 \n",
       "  1728.8,769.784 1730.82,808.427 1732.84,935.588 1734.86,860.553 1736.88,838.977 1738.9,721.295 1740.92,769.887 1742.94,761.878 1744.95,900.213 1746.97,749.569 \n",
       "  1748.99,793.796 1751.01,842.182 1753.03,837.137 1755.05,990.082 1757.07,865.123 1759.09,744.312 1761.11,873.976 1763.13,805.612 1765.15,789.909 1767.17,853.937 \n",
       "  1769.19,830.338 1771.21,805.274 1773.23,789.458 1775.25,995.681 1777.27,774.015 1779.29,781.656 1781.3,1054.79 1783.32,793.12 1785.34,888.426 1787.36,862.544 \n",
       "  1789.38,836.916 1791.4,918.38 1793.42,835.794 1795.44,741.615 1797.46,848.866 1799.48,872.599 1801.5,813.168 1803.52,863.75 1805.54,1103.3 1807.56,788.833 \n",
       "  1809.58,767.21 1811.6,893.307 1813.62,787.619 1815.64,798.36 1817.65,748.805 1819.67,945.738 1821.69,794.44 1823.71,827.149 1825.73,770.36 1827.75,898.833 \n",
       "  1829.77,873.481 1831.79,764.539 1833.81,803.271 1835.83,856.46 1837.85,862.261 1839.87,739.914 1841.89,766.747 1843.91,860.088 1845.93,807.955 1847.95,796.778 \n",
       "  1849.97,1052.09 1851.99,774.417 1854,775.955 1856.02,767.929 1858.04,726.047 1860.06,990.72 1862.08,773.764 1864.1,754.364 1866.12,822.565 1868.14,838.885 \n",
       "  1870.16,775.674 1872.18,873.356 1874.2,770.247 1876.22,841.726 1878.24,848.056 1880.26,810.339 1882.28,863.321 1884.3,764.285 1886.32,828.542 1888.34,785.917 \n",
       "  1890.35,778.049 1892.37,818.234 1894.39,818.023 1896.41,798.537 1898.43,724.299 1900.45,785.884 1902.47,843.136 1904.49,805.504 1906.51,775.986 1908.53,764.629 \n",
       "  1910.55,771.555 1912.57,995.988 1914.59,886.937 1916.61,843.965 1918.63,862.045 1920.65,866.956 1922.67,873.243 1924.69,908.516 1926.71,1054.64 1928.72,841.652 \n",
       "  1930.74,798.552 1932.76,942.806 1934.78,811.099 1936.8,777.905 1938.82,843.548 1940.84,796.377 1942.86,879.44 1944.88,788.267 1946.9,766.299 1948.92,768.424 \n",
       "  1950.94,791.821 1952.96,856.104 1954.98,761.725 1957,797.502 1959.02,814.804 1961.04,801.416 1963.06,995.751 1965.07,1024.77 1967.09,810.944 1969.11,850.397 \n",
       "  1971.13,763.43 1973.15,954.572 1975.17,751.811 1977.19,847.026 1979.21,802.921 1981.23,869.506 1983.25,980.892 1985.27,970.527 1987.29,778.177 1989.31,874.582 \n",
       "  1991.33,788.904 1993.35,802.08 1995.37,910.03 1997.39,802.853 1999.41,760.628 2001.42,871.121 2003.44,746.599 2005.46,957.985 2007.48,854.346 2009.5,803.031 \n",
       "  2011.52,849.691 2013.54,747.245 2015.56,759.461 2017.58,890.766 2019.6,962.008 2021.62,827.5 2023.64,793.523 2025.66,869.551 2027.68,783.732 2029.7,783.337 \n",
       "  2031.72,839.001 2033.74,997.137 2035.76,918.087 2037.77,763.594 2039.79,749.117 2041.81,841.558 2043.83,774.778 2045.85,826.666 2047.87,780.267 2049.89,748.228 \n",
       "  2051.91,762.874 2053.93,976.862 2055.95,913.455 2057.97,933.599 2059.99,759.213 2062.01,827.517 2064.03,816.476 2066.05,921.147 2068.07,755.796 2070.09,827.546 \n",
       "  2072.11,854.867 2074.12,885.891 2076.14,775.961 2078.16,991.573 2080.18,865.414 2082.2,1030.03 2084.22,795.686 2086.24,853.759 2088.26,883.638 2090.28,847.02 \n",
       "  2092.3,803.854 2094.32,858.263 2096.34,847.054 2098.36,1033.17 2100.38,926.158 2102.4,833.189 2104.42,782.529 2106.44,1023.37 2108.46,851.383 2110.47,892.825 \n",
       "  2112.49,829.46 2114.51,775.956 2116.53,843.711 2118.55,857.313 2120.57,753.666 2122.59,767.539 2124.61,891.735 2126.63,866.683 2128.65,765.281 2130.67,859.008 \n",
       "  2132.69,787.32 2134.71,791.617 2136.73,811.821 2138.75,867.36 2140.77,805.646 2142.79,826.834 2144.81,833.204 2146.82,859.946 2148.84,1109.77 2150.86,786.617 \n",
       "  2152.88,852.763 2154.9,798.47 2156.92,966.365 2158.94,789.503 2160.96,848.186 2162.98,867.797 2165,806.947 2167.02,736.954 2169.04,830.094 2171.06,892.635 \n",
       "  2173.08,910.143 2175.1,1109.83 2177.12,1236.88 2179.14,949.999 2181.16,961.777 2183.17,863.624 2185.19,805.814 2187.21,1033.99 2189.23,900.09 2191.25,976.592 \n",
       "  2193.27,774.571 2195.29,857.169 2197.31,982.16 2199.33,838.348 2201.35,835.441 2203.37,858.9 2205.39,882.563 2207.41,824.495 2209.43,857.974 2211.45,838.66 \n",
       "  2213.47,877.67 2215.49,816.557 2217.51,853.331 2219.53,982.377 2221.54,855.135 2223.56,790.761 2225.58,905.355 2227.6,987.636 2229.62,816.355 2231.64,809.938 \n",
       "  2233.66,866.793 2235.68,838.942 2237.7,825.926 2239.72,850.933 2241.74,789.178 2243.76,758.632 2245.78,827.972 2247.8,821.179 2249.82,789.932 2251.84,878.125 \n",
       "  2253.86,814.291 2255.88,762.594 2257.89,801.38 2259.91,781.335 2261.93,791.453 2263.95,766.343 2265.97,921.028 2267.99,755.024 2270.01,817.614 2272.03,899.974 \n",
       "  2274.05,750.371 2276.07,785.633 2278.09,828.946 2280.11,886.947 2282.13,830.64 2284.15,815.92 2286.17,826.445 2288.19,892.893 2290.21,816.535 2292.23,866.272 \n",
       "  \n",
       "  \"/>\n",
       "<polyline clip-path=\"url(#clip542)\" style=\"stroke:#e26f46; stroke-linecap:round; stroke-linejoin:round; stroke-width:4; stroke-opacity:1; fill:none\" points=\"\n",
       "  274.796,807.758 276.816,785.023 278.835,991.34 280.855,774.658 282.874,866.484 284.894,816.719 286.913,837.493 288.933,840.289 290.952,791.733 292.972,785.382 \n",
       "  294.991,765.863 297.01,1069.78 299.03,919.779 301.049,777.515 303.069,784.449 305.088,795.973 307.108,764.242 309.127,813.705 311.147,849.915 313.166,861.356 \n",
       "  315.185,892.741 317.205,828.174 319.224,800.09 321.244,829.275 323.263,876.447 325.283,861.047 327.302,816.446 329.322,949.58 331.341,894.057 333.36,858.357 \n",
       "  335.38,830.727 337.399,854.637 339.419,912.354 341.438,779.867 343.458,976.635 345.477,977.118 347.497,1103.96 349.516,1124.52 351.536,857.82 353.555,788.079 \n",
       "  355.574,878.69 357.594,826.86 359.613,772.823 361.633,851.483 363.652,791.813 365.672,817.218 367.691,871.516 369.711,851.6 371.73,849.839 373.749,791.4 \n",
       "  375.769,1074.24 377.788,843.927 379.808,765.501 381.827,800.442 383.847,804.93 385.866,817.227 387.886,800.926 389.905,813.871 391.924,885.249 393.944,840.908 \n",
       "  395.963,914.741 397.983,754.194 400.002,823.102 402.022,886.191 404.041,763.326 406.061,870.982 408.08,811.421 410.1,880.511 412.119,810.721 414.138,767.444 \n",
       "  416.158,1026.25 418.177,793.384 420.197,839.575 422.216,853.38 424.236,804.295 426.255,762.587 428.275,845.97 430.294,893.038 432.313,840.167 434.333,1163.99 \n",
       "  436.352,796.551 438.372,781.112 440.391,901.024 442.411,809.62 444.43,766.263 446.45,848.364 448.469,791.603 450.488,831.144 452.508,799.712 454.527,803.587 \n",
       "  456.547,905.212 458.566,841.22 460.586,926.369 462.605,799.715 464.625,969.602 466.644,835.532 468.664,817.786 470.683,834.232 472.702,861.864 474.722,962.048 \n",
       "  476.741,990.649 478.761,861.769 480.78,801.307 482.8,971.726 484.819,866.116 486.839,867.182 488.858,852.688 490.877,822.83 492.897,797.16 494.916,913.827 \n",
       "  496.936,869.167 498.955,792.171 500.975,798.108 502.994,1003.37 505.014,832.499 507.033,867.329 509.052,745.156 511.072,838.109 513.091,958.717 515.111,957.72 \n",
       "  517.13,887.562 519.15,824.277 521.169,904.837 523.189,808.409 525.208,839.537 527.228,764.535 529.247,777.948 531.266,766.309 533.286,816.795 535.305,776.065 \n",
       "  537.325,769.463 539.344,905.103 541.364,780.106 543.383,822.736 545.403,802.97 547.422,754.777 549.441,912.707 551.461,1018.21 553.48,844.16 555.5,878.21 \n",
       "  557.519,962.312 559.539,900.608 561.558,779.083 563.578,826.55 565.597,809.396 567.616,921.539 569.636,841.965 571.655,744.954 573.675,746.53 575.694,895.238 \n",
       "  577.714,802.539 579.733,915.26 581.753,912.062 583.772,793.941 585.792,807.939 587.811,904.725 589.83,764.524 591.85,814.525 593.869,804.972 595.889,820.608 \n",
       "  597.908,795.249 599.928,847.87 601.947,866.797 603.967,1016.51 605.986,953.056 608.005,1122.38 610.025,973.136 612.044,835.911 614.064,880.268 616.083,910.504 \n",
       "  618.103,905.138 620.122,799.213 622.142,1091.35 624.161,866.304 626.18,787.229 628.2,805.629 630.219,925.219 632.239,862.081 634.258,785.498 636.278,858.925 \n",
       "  638.297,854.372 640.317,870.043 642.336,905.422 644.355,801.353 646.375,808.423 648.394,765.194 650.414,881.323 652.433,777.099 654.453,827.725 656.472,840.145 \n",
       "  658.492,815.692 660.511,791.18 662.531,913.043 664.55,895.012 666.569,788.937 668.589,794.896 670.608,777.93 672.628,826.697 674.647,764.003 676.667,762.62 \n",
       "  678.686,758.618 680.706,823.716 682.725,797.406 684.744,854.253 686.764,892.858 688.783,792.932 690.803,816.175 692.822,758.387 694.842,822.159 696.861,996.583 \n",
       "  698.881,797.839 700.9,767.342 702.919,882.121 704.939,838.801 706.958,911.85 708.978,802.296 710.997,859.433 713.017,796.274 715.036,833.926 717.056,877.288 \n",
       "  719.075,1002.22 721.095,800.687 723.114,902.228 725.133,802.531 727.153,784.682 729.172,771.878 731.192,874.908 733.211,770.795 735.231,808.048 737.25,855.396 \n",
       "  739.27,929.895 741.289,835.044 743.308,822.266 745.328,916.345 747.347,877.8 749.367,815.076 751.386,851.871 753.406,826.164 755.425,837.608 757.445,834.224 \n",
       "  759.464,804.576 761.483,813.422 763.503,812.353 765.522,926.206 767.542,827.535 769.561,958.371 771.581,866.846 773.6,814.16 775.62,986.842 777.639,761.214 \n",
       "  779.659,1022.78 781.678,948.903 783.697,784.4 785.717,843.812 787.736,797.823 789.756,868.961 791.775,855.657 793.795,912.259 795.814,885.92 797.834,782.898 \n",
       "  799.853,742.761 801.872,915.205 803.892,807.188 805.911,789.786 807.931,848.209 809.95,791.237 811.97,781.506 813.989,892.551 816.009,860.737 818.028,761.101 \n",
       "  820.047,875.67 822.067,862.24 824.086,776.126 826.106,819.392 828.125,1007.93 830.145,782.174 832.164,820.241 834.184,867.817 836.203,905.431 838.223,884.304 \n",
       "  840.242,830.252 842.261,813.721 844.281,796.349 846.3,861.191 848.32,909.12 850.339,798.533 852.359,794.054 854.378,825.887 856.398,827.316 858.417,1025.76 \n",
       "  860.436,831.682 862.456,774.655 864.475,1054.83 866.495,814.711 868.514,957.488 870.534,822.878 872.553,923.068 874.573,821.427 876.592,872.535 878.611,1054.5 \n",
       "  880.631,812.467 882.65,788.504 884.67,859.408 886.689,782.946 888.709,901.349 890.728,779.339 892.748,792.61 894.767,827.433 896.787,763.149 898.806,773.329 \n",
       "  900.825,768.605 902.845,798.66 904.864,851.645 906.884,958.083 908.903,821.624 910.923,861.485 912.942,982.524 914.962,811.959 916.981,886.13 919,848.367 \n",
       "  921.02,1007.98 923.039,756.885 925.059,973.642 927.078,1038.14 929.098,791.242 931.117,914.816 933.137,780.027 935.156,826.345 937.175,775.178 939.195,855.608 \n",
       "  941.214,916.437 943.234,1045.13 945.253,864.389 947.273,858.27 949.292,931.254 951.312,922.357 953.331,937.73 955.351,930.126 957.37,939.251 959.389,744.258 \n",
       "  961.409,734.141 963.428,862.381 965.448,828.729 967.467,859.502 969.487,920.9 971.506,800.327 973.526,854.835 975.545,834.3 977.564,796.182 979.584,781.375 \n",
       "  981.603,846.681 983.623,828.405 985.642,881.418 987.662,760.293 989.681,813.796 991.701,1120.59 993.72,877.16 995.739,772.144 997.759,758.609 999.778,794.852 \n",
       "  1001.8,830.878 1003.82,837.811 1005.84,829.064 1007.86,845.226 1009.88,762.959 1011.9,800.73 1013.91,1021.67 1015.93,1010.75 1017.95,813.697 1019.97,833.745 \n",
       "  1021.99,842.247 1024.01,795.585 1026.03,831.643 1028.05,875.21 1030.07,789.224 1032.09,938.246 1034.11,773.781 1036.13,757.867 1038.15,800.857 1040.17,805.226 \n",
       "  1042.19,769.467 1044.21,776.666 1046.23,757.892 1048.25,850.333 1050.26,776.048 1052.28,951.863 1054.3,840.118 1056.32,912.237 1058.34,872.514 1060.36,849.751 \n",
       "  1062.38,900.931 1064.4,812.745 1066.42,903.628 1068.44,768.714 1070.46,1020.6 1072.48,842.498 1074.5,850.459 1076.52,750.612 1078.54,847.906 1080.56,1119.64 \n",
       "  1082.58,860.239 1084.6,867.808 1086.61,875.121 1088.63,843.288 1090.65,757.99 1092.67,802.604 1094.69,915.655 1096.71,891.573 1098.73,1077.79 1100.75,1189.46 \n",
       "  1102.77,774.213 1104.79,783.169 1106.81,768.489 1108.83,767.051 1110.85,795.827 1112.87,768.182 1114.89,792.655 1116.91,836.199 1118.93,778.102 1120.95,777.037 \n",
       "  1122.96,737.189 1124.98,765.158 1127,781.557 1129.02,770.584 1131.04,791.158 1133.06,801.389 1135.08,790.023 1137.1,768.407 1139.12,799.799 1141.14,823.753 \n",
       "  1143.16,784.94 1145.18,775.672 1147.2,768.493 1149.22,765.879 1151.24,819.444 1153.26,841.282 1155.28,933.142 1157.3,868.648 1159.31,802.25 1161.33,762.3 \n",
       "  1163.35,896.8 1165.37,865.241 1167.39,970.482 1169.41,937.925 1171.43,834.72 1173.45,811.776 1175.47,851.76 1177.49,843.297 1179.51,764.316 1181.53,779.514 \n",
       "  1183.55,912.822 1185.57,756.129 1187.59,799.665 1189.61,827.123 1191.63,866.246 1193.65,787.795 1195.66,802.897 1197.68,809.63 1199.7,786.565 1201.72,976.876 \n",
       "  1203.74,831.303 1205.76,1058.64 1207.78,790.432 1209.8,850.772 1211.82,814.442 1213.84,863.193 1215.86,850.663 1217.88,876.011 1219.9,851.327 1221.92,874.915 \n",
       "  1223.94,1075.61 1225.96,965.238 1227.98,809.396 1230,794.989 1232.01,803.918 1234.03,818.991 1236.05,951.115 1238.07,786.624 1240.09,905.627 1242.11,791.95 \n",
       "  1244.13,920.737 1246.15,788.183 1248.17,770.591 1250.19,855.485 1252.21,919.344 1254.23,853.307 1256.25,799.381 1258.27,975.481 1260.29,862.197 1262.31,840.837 \n",
       "  1264.33,824.97 1266.35,812.583 1268.36,987.477 1270.38,840.234 1272.4,796.834 1274.42,778.643 1276.44,766.465 1278.46,822.021 1280.48,820.03 1282.5,789.626 \n",
       "  1284.52,892.203 1286.54,864.489 1288.56,813.524 1290.58,806.471 1292.6,840.446 1294.62,859.728 1296.64,806.699 1298.66,824.594 1300.68,860.816 1302.7,804.898 \n",
       "  1304.72,816.621 1306.73,773.366 1308.75,819.861 1310.77,764.837 1312.79,797.088 1314.81,820.949 1316.83,993.622 1318.85,742.182 1320.87,886.79 1322.89,855.041 \n",
       "  1324.91,830.662 1326.93,1082.23 1328.95,883.759 1330.97,812.521 1332.99,876.915 1335.01,876.052 1337.03,889.103 1339.05,786.978 1341.07,830.191 1343.08,872.757 \n",
       "  1345.1,836.889 1347.12,838.831 1349.14,889.154 1351.16,836.623 1353.18,847.954 1355.2,944.542 1357.22,919.213 1359.24,823.86 1361.26,776.711 1363.28,777.635 \n",
       "  1365.3,987.414 1367.32,806.121 1369.34,884.527 1371.36,845.029 1373.38,1055.94 1375.4,799.934 1377.42,764.532 1379.43,877.895 1381.45,870.266 1383.47,951.607 \n",
       "  1385.49,771.15 1387.51,875.76 1389.53,790.098 1391.55,837.931 1393.57,1067.71 1395.59,830.687 1397.61,821.917 1399.63,776.509 1401.65,813.569 1403.67,848.963 \n",
       "  1405.69,904.418 1407.71,866.961 1409.73,809.684 1411.75,780.411 1413.77,784.857 1415.78,768.183 1417.8,749.822 1419.82,812.784 1421.84,870.357 1423.86,819.886 \n",
       "  1425.88,910.528 1427.9,819.066 1429.92,813.092 1431.94,896.323 1433.96,770.952 1435.98,962.003 1438,984.073 1440.02,813.099 1442.04,850.987 1444.06,1014.53 \n",
       "  1446.08,1153.65 1448.1,857.516 1450.12,843.031 1452.13,916.713 1454.15,804.596 1456.17,1010.69 1458.19,814.444 1460.21,819.609 1462.23,805.045 1464.25,995.934 \n",
       "  1466.27,776.391 1468.29,850.27 1470.31,763.763 1472.33,837.398 1474.35,806.287 1476.37,820.274 1478.39,796.034 1480.41,764.781 1482.43,988.503 1484.45,742.47 \n",
       "  1486.47,809.433 1488.48,1017.21 1490.5,850.196 1492.52,841.099 1494.54,872.225 1496.56,845.685 1498.58,832.66 1500.6,929.621 1502.62,1045.15 1504.64,895.3 \n",
       "  1506.66,835.574 1508.68,1070.47 1510.7,1007.68 1512.72,857.504 1514.74,882.001 1516.76,955.813 1518.78,924.52 1520.8,804.578 1522.82,771.306 1524.83,848.515 \n",
       "  1526.85,900.406 1528.87,827.422 1530.89,854.098 1532.91,1035.03 1534.93,828.094 1536.95,805.697 1538.97,805.186 1540.99,808.5 1543.01,821.579 1545.03,851.088 \n",
       "  1547.05,787.315 1549.07,766.295 1551.09,805.34 1553.11,878.87 1555.13,867.98 1557.15,792.283 1559.17,772.199 1561.18,764.076 1563.2,878.204 1565.22,948.435 \n",
       "  1567.24,789.742 1569.26,804.923 1571.28,796.084 1573.3,819.52 1575.32,775.642 1577.34,780.649 1579.36,906.643 1581.38,837.584 1583.4,803.357 1585.42,753.648 \n",
       "  1587.44,847.798 1589.46,761.668 1591.48,759.761 1593.5,950.997 1595.52,880.298 1597.54,805.14 1599.55,803.009 1601.57,756.358 1603.59,908.415 1605.61,910.25 \n",
       "  1607.63,914.072 1609.65,894.063 1611.67,765.203 1613.69,1014.31 1615.71,773.42 1617.73,792.942 1619.75,750.272 1621.77,807.021 1623.79,819.356 1625.81,798.517 \n",
       "  1627.83,1016.99 1629.85,833.344 1631.87,874.365 1633.89,810.661 1635.9,984.175 1637.92,889.758 1639.94,888.164 1641.96,865.046 1643.98,796.111 1646,815.879 \n",
       "  1648.02,868.108 1650.04,789.293 1652.06,849.811 1654.08,788.817 1656.1,842.677 1658.12,781.421 1660.14,954.425 1662.16,973.116 1664.18,1033.64 1666.2,949.674 \n",
       "  1668.22,862.871 1670.24,823.934 1672.25,863.292 1674.27,839.979 1676.29,929.129 1678.31,797.444 1680.33,770.736 1682.35,812.104 1684.37,814.069 1686.39,773.37 \n",
       "  1688.41,777.045 1690.43,810.806 1692.45,789.726 1694.47,801.013 1696.49,725.143 1698.51,805.551 1700.53,928.755 1702.55,999.523 1704.57,827.304 1706.59,858.286 \n",
       "  1708.6,906.407 1710.62,777.417 1712.64,806.308 1714.66,773.481 1716.68,908.171 1718.7,827.475 1720.72,789.005 1722.74,927.904 1724.76,792.867 1726.78,747.751 \n",
       "  1728.8,751.63 1730.82,1050.6 1732.84,997.802 1734.86,784.735 1736.88,863.345 1738.9,909.474 1740.92,837.489 1742.94,850.705 1744.95,1043.47 1746.97,882.442 \n",
       "  1748.99,830.976 1751.01,807.328 1753.03,855.612 1755.05,816.778 1757.07,837.584 1759.09,817.037 1761.11,757.384 1763.13,846.796 1765.15,857.395 1767.17,941.39 \n",
       "  1769.19,751.802 1771.21,891.991 1773.23,910.311 1775.25,840.138 1777.27,809.442 1779.29,804.419 1781.3,934.43 1783.32,828.251 1785.34,816.356 1787.36,966.163 \n",
       "  1789.38,963.699 1791.4,814.353 1793.42,847.512 1795.44,856.805 1797.46,937.472 1799.48,763.034 1801.5,936.373 1803.52,1008.16 1805.54,899.113 1807.56,928.432 \n",
       "  1809.58,834.02 1811.6,815.334 1813.62,841.047 1815.64,920.707 1817.65,848.187 1819.67,829.531 1821.69,809.989 1823.71,779.349 1825.73,1034.77 1827.75,768.023 \n",
       "  1829.77,903.4 1831.79,892.62 1833.81,772.813 1835.83,1090.47 1837.85,773.42 1839.87,798.294 1841.89,777.131 1843.91,1013.59 1845.93,903.732 1847.95,810.277 \n",
       "  1849.97,868.382 1851.99,1098.11 1854,890.487 1856.02,760.537 1858.04,766.295 1860.06,769.848 1862.08,770.434 1864.1,885.671 1866.12,826.912 1868.14,910.321 \n",
       "  1870.16,776.313 1872.18,1101.2 1874.2,836.609 1876.22,900.845 1878.24,802.529 1880.26,982.007 1882.28,812.924 1884.3,818.62 1886.32,767.355 1888.34,827.57 \n",
       "  1890.35,888.542 1892.37,792.637 1894.39,764.244 1896.41,942.482 1898.43,943.59 1900.45,790.376 1902.47,794.126 1904.49,828.854 1906.51,794.303 1908.53,756.873 \n",
       "  1910.55,906.721 1912.57,812.77 1914.59,758.544 1916.61,899.251 1918.63,783.285 1920.65,767.039 1922.67,788.237 1924.69,820.125 1926.71,784.931 1928.72,800.057 \n",
       "  1930.74,783.338 1932.76,826.042 1934.78,818.817 1936.8,874.127 1938.82,809.567 1940.84,1016.89 1942.86,809.416 1944.88,768.117 1946.9,1147.59 1948.92,821.116 \n",
       "  1950.94,778.784 1952.96,862.663 1954.98,790.801 1957,814.879 1959.02,767.849 1961.04,944.428 1963.06,974.83 1965.07,807.502 1967.09,954.104 1969.11,786.559 \n",
       "  1971.13,786.375 1973.15,805.503 1975.17,808.834 1977.19,749.022 1979.21,900.185 1981.23,791.019 1983.25,822.861 1985.27,768.754 1987.29,872.622 1989.31,888.024 \n",
       "  1991.33,764.484 1993.35,788.172 1995.37,860.624 1997.39,757.581 1999.41,769.027 2001.42,887.746 2003.44,755.448 2005.46,962.631 2007.48,746.145 2009.5,816.957 \n",
       "  2011.52,778.7 2013.54,827.562 2015.56,1043.39 2017.58,763.532 2019.6,773.297 2021.62,902.658 2023.64,819.42 2025.66,801.639 2027.68,795.851 2029.7,778.612 \n",
       "  2031.72,814.2 2033.74,848.538 2035.76,904.95 2037.77,905.871 2039.79,783.556 2041.81,774.913 2043.83,875.888 2045.85,800.983 2047.87,847.255 2049.89,757.261 \n",
       "  2051.91,848.657 2053.93,805.669 2055.95,997.092 2057.97,749.522 2059.99,823.821 2062.01,1076.52 2064.03,803.822 2066.05,836.335 2068.07,787.892 2070.09,830.697 \n",
       "  2072.11,916.57 2074.12,932.603 2076.14,880.707 2078.16,770.471 2080.18,904.156 2082.2,952.96 2084.22,1216.21 2086.24,1045.78 2088.26,930.629 2090.28,783.391 \n",
       "  2092.3,829.633 2094.32,824.707 2096.34,803.078 2098.36,896.983 2100.38,878.352 2102.4,867.96 2104.42,933.187 2106.44,799.947 2108.46,848.16 2110.47,874.23 \n",
       "  2112.49,832.754 2114.51,807.797 2116.53,787.306 2118.55,772.926 2120.57,875.923 2122.59,792.67 2124.61,794.385 2126.63,825.09 2128.65,808.286 2130.67,852.022 \n",
       "  2132.69,905.565 2134.71,807.357 2136.73,810.933 2138.75,889.929 2140.77,833.553 2142.79,1021.29 2144.81,732.119 2146.82,882.897 2148.84,768.797 2150.86,840.312 \n",
       "  2152.88,932.147 2154.9,789.07 2156.92,948.571 2158.94,811.322 2160.96,866.199 2162.98,741.614 2165,1070.81 2167.02,813.16 2169.04,788.787 2171.06,812.113 \n",
       "  2173.08,904.464 2175.1,774.01 2177.12,832.893 2179.14,796.141 2181.16,863.604 2183.17,832.829 2185.19,800.303 2187.21,764.66 2189.23,784.95 2191.25,963.879 \n",
       "  2193.27,897.52 2195.29,806.55 2197.31,843.913 2199.33,814.787 2201.35,972.273 2203.37,785.978 2205.39,824.816 2207.41,908.138 2209.43,770.218 2211.45,835.981 \n",
       "  2213.47,806.24 2215.49,807.291 2217.51,813.392 2219.53,777.187 2221.54,860.995 2223.56,871.821 2225.58,865.005 2227.6,807.505 2229.62,783.799 2231.64,816.921 \n",
       "  2233.66,913.943 2235.68,1022.03 2237.7,915.154 2239.72,854.84 2241.74,1036.69 2243.76,907.752 2245.78,900.792 2247.8,808.139 2249.82,1005.4 2251.84,776.365 \n",
       "  2253.86,852.103 2255.88,861.564 2257.89,897.5 2259.91,794.477 2261.93,771.42 2263.95,934.198 2265.97,873.977 2267.99,902.129 2270.01,827.002 2272.03,801.73 \n",
       "  2274.05,832.493 2276.07,828.807 2278.09,852.131 2280.11,872.289 2282.13,745.482 2284.15,1008.96 2286.17,784.762 2288.19,776.53 2290.21,790.716 2292.23,869.931 \n",
       "  \n",
       "  \"/>\n",
       "<polyline clip-path=\"url(#clip542)\" style=\"stroke:#3da44d; stroke-linecap:round; stroke-linejoin:round; stroke-width:4; stroke-opacity:1; fill:none\" points=\"\n",
       "  274.533,870.081 276.032,794.553 277.897,835.759 280.945,843.801 284.093,963.051 286.01,807.998 287.513,871.84 289.23,768.516 291.913,771.618 295.342,822.363 \n",
       "  297.464,810.512 299.005,813.136 300.615,1014.29 302.983,761.09 306.506,780.912 308.887,894.291 310.501,832.021 312.04,853.755 314.151,841.505 317.574,804.841 \n",
       "  320.27,834.992 321.993,910.635 323.495,846.658 325.403,945.332 328.539,757.391 331.6,851.45 333.473,862.946 334.973,872.876 336.722,765.954 339.49,895.134 \n",
       "  342.866,764.327 344.934,823.883 346.463,930.314 348.095,874.015 350.534,847.687 354.053,790.856 356.366,774.199 357.959,767.43 359.511,861.055 361.68,815.946 \n",
       "  365.146,941.771 367.759,891.159 369.452,795.028 370.96,798.476 372.913,1018.68 376.132,857.436 379.103,772.726 380.936,950.71 382.433,790.75 384.217,838.184 \n",
       "  387.073,877.471 390.386,874.771 392.402,871.177 393.921,1054.36 395.578,780.01 398.091,760.439 401.656,752.483 403.877,747.279 405.446,985.054 407.02,809.217 \n",
       "  409.271,796.14 412.777,781.336 415.284,799.854 416.941,737.951 418.459,828.462 420.477,865.014 423.796,807.415 426.645,872.688 428.428,831.333 429.925,790.016 \n",
       "  431.759,851.972 434.737,758.209 437.95,807.884 439.901,849.794 441.409,760.099 443.103,895.007 445.722,1032 449.184,789.249 451.351,929.278 452.903,942.833 \n",
       "  454.496,904.111 456.811,840.178 460.333,872.679 462.767,788.691 464.399,855.547 465.928,907.141 467.997,787.123 471.378,802.063 474.182,805.545 475.919,941.972 \n",
       "  477.42,928.593 479.309,828.588 482.407,864.815 485.506,819.062 487.398,810.643 488.898,893.539 490.634,926.783 493.365,909.347 496.765,871.565 498.856,801.012 \n",
       "  500.39,812.565 502.012,904.862 504.42,834.862 507.942,764.265 510.284,799.743 511.886,824.732 513.432,766.026 515.576,851.537 519.025,961.394 521.673,745.398 \n",
       "  523.379,848.011 524.884,920.166 526.817,937.82 530.001,911.381 533.011,781.117 534.861,790.706 536.359,954.325 538.128,752.085 540.946,921.098 544.338,891.448 \n",
       "  546.358,862.702 547.877,799.547 549.533,833.219 552.04,746.253 555.544,881.309 557.797,971.582 559.373,871.428 560.94,986.439 563.165,736.727 566.661,751.756 \n",
       "  569.2,781.671 570.868,757.123 572.383,864.582 574.38,753.06 577.669,949.572 580.556,859.312 582.354,849.162 583.851,1086.65 585.669,826.719 588.608,822.913 \n",
       "  591.854,788.219 593.825,809.963 595.336,819.98 597.018,798.848 599.603,787.486 603.08,827.51 605.272,769.097 606.83,777.325 608.416,911.13 610.704,886.286 \n",
       "  614.221,811.156 616.684,856.594 618.326,1000.77 619.851,884.642 621.898,771.786 625.255,814.99 628.053,858.576 629.815,891.003 631.313,809.879 633.171,900.044 \n",
       "  636.201,833.203 639.366,799 641.291,759.956 642.795,803.471 644.507,984.197 647.173,986.742 650.611,1348 652.744,853.547 654.288,761.829 655.893,862.152 \n",
       "  658.248,978.039 661.771,799.944 664.166,925.837 665.784,874.403 667.32,764.896 669.421,920.694 672.834,839.875 675.546,936.153 677.276,840.199 678.777,831.777 \n",
       "  680.676,839.094 683.795,795.285 686.92,834.915 688.787,740.595 690.285,771.615 692.04,768.064 694.821,788.337 698.188,783.569 700.248,829.521 701.775,865.458 \n",
       "  703.411,836.805 705.861,803.537 709.378,961.168 711.681,830.335 713.271,751.145 714.826,827.244 717.004,911.217 720.475,779.387 723.076,779.988 724.765,960.25 \n",
       "  726.274,993.205 728.234,907.59 731.465,799.355 734.422,955.509 736.249,788.55 737.746,799.905 739.535,825.776 742.405,862.116 745.708,747.602 747.716,804.742 \n",
       "  749.233,896.819 750.894,835.257 753.419,831.94 756.918,869.51 759.157,817.178 760.728,842.447 762.3,903.352 764.538,909.718 768.04,956.675 770.562,732.19 \n",
       "  772.223,768.845 773.741,852.549 775.749,772.736 779.054,964.975 781.921,787.265 783.711,847.953 785.207,755.287 787.034,806.895 789.994,943.966 793.223,778.419 \n",
       "  795.183,847.873 796.692,817.068 798.38,813.997 800.984,844.101 804.453,835.654 806.63,747.584 808.186,774.36 809.775,877.402 812.078,826.238 815.598,785.32 \n",
       "  818.045,824.953 819.682,790.868 821.209,879.224 823.268,832.465 826.639,780.197 829.417,816.615 831.172,867.415 832.67,875.639 834.537,773.11 837.588,879.733 \n",
       "  840.734,785.537 842.648,779.649 844.151,747.866 845.87,766.909 848.555,776.528 851.982,983.231 854.103,934.371 855.643,778.374 857.254,1090.29 859.624,788.74 \n",
       "  863.148,792.641 865.526,851.047 867.139,838.952 868.678,926.697 870.792,778.928 874.217,822.327 876.909,869.153 878.632,845.879 880.134,887.487 882.043,793.21 \n",
       "  885.183,894.13 888.241,845.432 890.112,855.902 891.611,834.989 893.362,795.235 896.133,828.024 899.507,791.745 901.573,833.443 903.101,929.496 904.735,856.797 \n",
       "  907.176,764.041 910.694,760.144 913.005,857.943 914.597,827.931 916.15,914.338 918.321,807.592 921.789,761.92 924.398,989.429 926.091,770.342 927.599,852.824 \n",
       "  929.553,781.521 932.776,822.62 935.743,779.077 937.575,920.52 939.072,964.573 940.857,778.538 943.716,774.565 947.027,977.383 949.041,835.489 950.559,830.455 \n",
       "  952.218,845.841 954.733,874.688 958.298,868.514 960.516,896.929 962.084,953.956 963.659,768.747 965.912,799.01 969.419,838.318 971.924,1062.05 973.579,883.687 \n",
       "  975.098,789.161 977.118,908.516 980.439,842.069 983.286,786.788 985.067,756.808 986.564,817.263 988.4,793.188 991.381,883.739 994.591,794.424 996.54,767.258 \n",
       "  998.047,934.348 999.743,789.742 1002.36,954.049 1005.82,815.629 1007.99,865.996 1009.54,766.568 1011.14,739.604 1013.45,873.349 1016.98,782.494 1019.41,916.045 \n",
       "  1021.04,841.405 1022.57,807.65 1024.64,883.198 1028.02,771.399 1030.82,956.888 1032.56,843.011 1034.06,1040.17 1035.95,766.873 1039.05,865.614 1042.15,772.002 \n",
       "  1044.04,1042.73 1045.54,894.754 1047.27,779.557 1050.01,783.502 1053.41,800.624 1055.49,832.022 1057.03,844.109 1058.65,810.815 1061.06,827.946 1064.58,1098.41 \n",
       "  1066.92,995.669 1068.52,834.402 1070.07,801.668 1072.22,801.395 1075.67,852.566 1078.31,828.265 1080.02,1013.96 1081.52,760.669 1083.46,780.473 1086.64,813.633 \n",
       "  1089.65,813.401 1091.5,829.311 1093,827.853 1094.77,755.087 1097.59,783.898 1100.93,804.322 1102.96,858.126 1104.49,806.9 1106.13,755.804 1108.62,840.536 \n",
       "  1112.13,783.726 1114.4,896.617 1115.98,778.275 1117.54,763.56 1119.75,839.047 1123.23,770.014 1125.8,752.681 1127.48,788.276 1128.99,793.655 1130.97,744.587 \n",
       "  1134.24,742.143 1137.15,874.731 1138.96,875.194 1140.46,856.251 1142.26,763.167 1145.17,823.87 1148.44,842.117 1150.43,783.557 1151.94,908.885 1153.62,884.126 \n",
       "  1156.18,795.861 1159.66,836.323 1161.87,863.115 1163.44,850.641 1165.02,894.296 1167.29,917.634 1170.8,833.584 1173.28,813.785 1174.93,873.324 1176.46,837.431 \n",
       "  1178.49,770.577 1181.82,806.794 1184.65,809.016 1186.42,799.252 1187.92,756.472 1189.76,795.731 1192.77,872.327 1195.96,810.269 1197.9,898.603 1199.4,875.993 \n",
       "  1201.1,808.707 1203.74,807.972 1207.2,872.297 1209.35,953.798 1210.9,808.896 1212.49,971.042 1214.83,1033.74 1218.35,905.444 1220.77,882.938 1222.39,883.636 \n",
       "  1223.92,848.541 1226.01,879.01 1229.4,824.555 1232.14,867.95 1233.88,841.105 1235.38,791.756 1237.27,760.206 1240.36,850.885 1243.47,826.067 1245.36,800.39 \n",
       "  1246.86,762.972 1248.59,810.863 1251.32,820.018 1254.72,784.907 1256.82,841.277 1258.35,851.291 1259.97,824.083 1262.38,736.284 1265.9,917.045 1268.25,762.242 \n",
       "  1269.85,872.155 1271.39,799.604 1273.53,921.065 1276.98,850.368 1279.63,756.042 1281.34,759.15 1282.85,835.216 1284.78,936.49 1287.95,1050.51 1290.97,799.302 \n",
       "  1292.82,895.539 1294.32,842.584 1296.09,839.735 1298.9,823.976 1302.3,782.512 1304.32,898.342 1305.84,847.096 1307.49,906.151 1309.99,758.971 1313.5,791.757 \n",
       "  1315.76,832.597 1317.34,825.823 1318.9,775.093 1321.12,853.124 1324.61,944.1 1327.16,824.214 1328.83,972.173 1330.34,921.18 1332.34,784.511 1335.62,858.514 \n",
       "  1338.52,893.421 1340.32,835.463 1341.81,786.174 1343.63,906.209 1346.56,942.064 1349.81,838.988 1351.79,844.194 1353.3,824.808 1354.98,836.401 1357.55,912.863 \n",
       "  1361.03,834.045 1363.23,845.742 1364.79,871.783 1366.38,817.044 1368.66,935.803 1372.17,822.335 1374.68,928.327 1376.32,816.388 1377.85,794.069 1379.91,910.536 \n",
       "  1383.28,834.159 1386.1,791.633 1387.84,816.151 1389.34,791.472 1391.22,920.015 1394.3,771.146 1397.42,844.272 1399.32,876.927 1400.82,754.438 1402.55,805.049 \n",
       "  1405.26,804.927 1408.67,832.639 1410.77,775.515 1412.31,926.588 1413.93,825.519 1416.32,800.022 1419.85,826.711 1422.2,882.178 1423.81,995.187 1425.35,883.388 \n",
       "  1427.48,801.904 1430.93,890.551 1433.59,960.801 1435.3,861.276 1436.8,838.072 1438.73,797.088 1441.9,979.052 1444.92,864.4 1446.78,820.347 1448.28,816.467 \n",
       "  1450.04,785.973 1452.84,831.294 1456.25,860.924 1458.28,835.3 1459.8,840.565 1461.45,841.774 1463.94,799.558 1467.45,906.607 1469.71,933.963 1471.29,794.54 \n",
       "  1472.86,787.59 1475.07,852.275 1478.56,931.827 1481.12,910.908 1482.79,814.482 1484.3,1040.79 1486.29,783.872 1489.57,992.87 1492.47,868.383 1494.27,799.18 \n",
       "  1495.77,794.058 1497.58,895.281 1500.51,836.896 1503.76,843.733 1505.74,867.232 1507.26,1003.91 1508.93,1241.29 1511.5,969.447 1514.99,777.549 1517.19,897.845 \n",
       "  1518.75,846.273 1520.33,892.765 1522.61,890.944 1526.12,756.983 1528.6,787.129 1530.25,801.523 1531.77,945.074 1533.81,911.037 1537.15,773.13 1539.97,792.623 \n",
       "  1541.73,930.995 1543.23,1076.02 1545.08,760.409 1548.1,899.214 1551.28,784.142 1553.21,893.527 1554.71,814.454 1556.42,838.077 1559.07,874.233 1562.52,798.139 \n",
       "  1564.66,782.498 1566.21,857.042 1567.81,800.961 1570.15,734.724 1573.68,785.686 1576.08,796.18 1577.7,845.678 1579.24,867.368 1581.33,856.138 1584.73,786.548 \n",
       "  1587.46,789.938 1589.19,751.705 1590.69,748.684 1592.59,764.233 1595.69,891.177 1598.78,827.504 1600.67,776.734 1602.17,1012.88 1603.91,808.21 1606.65,862.641 \n",
       "  1610.04,846.784 1612.13,998.957 1613.66,988.856 1615.29,969.755 1617.7,1045.08 1621.22,785.776 1623.56,997.666 1625.16,922.966 1626.71,793.295 1628.85,818.751 \n",
       "  1632.3,903.508 1634.95,835.411 1636.65,943.564 1638.16,861.491 1640.09,855.994 1643.28,983.729 1646.29,759.195 1648.14,802.969 1649.63,1005.52 1651.4,888.119 \n",
       "  1654.23,881.65 1657.56,774.127 1659.6,800.648 1661.12,832.996 1662.77,836.103 1665.25,863.765 1668.76,845.774 1671.04,886.059 1672.62,749.585 1674.18,934.238 \n",
       "  1676.38,881.446 1679.87,850.743 1682.44,817.177 1684.11,811.4 1685.62,914.682 1687.61,821.465 1690.87,923.467 1693.79,977.131 1695.6,816.81 1697.09,814.298 \n",
       "  1698.9,754.747 1701.81,772.393 1705.08,749.908 1707.07,885.804 1708.58,791.261 1710.25,743.731 1712.81,876.447 1716.3,788.048 1718.51,809.665 1720.07,782.078 \n",
       "  1721.65,790.749 1723.92,898.338 1727.43,826.826 1729.92,872.84 1731.57,968.925 1733.09,753.035 1735.12,758.714 1738.46,847.61 1741.29,820.629 1743.06,780.777 \n",
       "  1744.56,785.64 1746.4,1049.06 1749.4,768.396 1752.59,759.415 1754.53,844 1756.04,890.067 1757.74,781.184 1760.38,827.977 1763.83,794.403 1765.98,878.356 \n",
       "  1767.53,832.291 1769.13,855.654 1771.46,848.931 1774.99,792.551 1777.4,923.977 1779.03,767.645 1780.56,787.114 1782.64,814.057 1786.04,906.919 1788.78,832.734 \n",
       "  1790.52,820.667 1792.02,1406.2 1793.91,812.309 1797,784.635 1800.1,861.344 1802,810.295 1803.5,796.798 1805.23,803.68 1807.96,798.105 1811.36,845.794 \n",
       "  1813.45,821.613 1814.99,763.948 1816.61,802.686 1819.01,809.729 1822.54,833.833 1824.88,756.268 1826.49,779.863 1828.03,1025.22 1830.17,816.28 1833.62,852.845 \n",
       "  1836.27,797.015 1837.98,763.345 1839.48,790.566 1841.41,745.519 1844.59,886.787 1847.61,743.605 1849.46,917.997 1850.96,783.417 1852.72,806.776 1855.53,860.999 \n",
       "  1858.93,872.462 1860.96,822.278 1862.48,983.276 1864.13,765.907 1866.63,760.998 1870.14,787.464 1872.39,749.729 1873.97,774.091 1875.54,767.158 1877.76,871.884 \n",
       "  1881.25,753.081 1883.8,758.63 1885.47,957.609 1886.98,872.109 1888.97,893.447 1892.26,923.378 1895.15,858.504 1896.95,774.845 1898.45,798.703 1900.26,754.825 \n",
       "  1903.19,762.703 1906.45,918.537 1908.42,972.643 1909.93,765.42 1911.61,877.56 1914.19,831.195 1917.67,898.103 1919.87,903.453 1921.43,861.014 1923.01,841.394 \n",
       "  1925.29,833.352 1928.81,927.487 1931.28,924.748 1932.92,868.64 1934.45,796.78 1936.49,798.678 1939.84,846.909 1942.65,754.983 1944.41,972.231 1945.91,908.344 \n",
       "  1947.76,761.486 1950.79,1090.48 1953.96,1053.25 1955.89,847.794 1957.39,828.741 1959.1,817.318 1961.76,778.411 1965.2,798.457 1967.34,879.133 1968.89,775.837 \n",
       "  1970.49,787.673 1972.84,826.266 1976.36,850.659 1978.76,924.5 1980.38,747.716 1981.92,796.71 1984.01,774.209 1987.42,741.749 1990.14,777.287 1991.87,737.552 \n",
       "  1993.37,810.152 1995.27,772.019 1998.38,910.499 2001.51,804.755 2003.38,823.923 2004.88,824.127 2006.63,970.255 2009.41,1071.39 2012.78,944.75 2014.84,908.402 \n",
       "  2016.37,832.595 2018.01,793.838 2020.45,807.51 2023.97,832.43 2026.28,772.133 2027.87,781.738 2029.42,777.033 2031.59,855.12 2035.06,911.976 2037.67,811.004 \n",
       "  2039.36,897.587 2040.87,917.486 2042.83,811.176 2046.05,811.74 2049.02,818.249 2050.85,797.217 2052.34,992.618 2054.13,752.447 2056.99,792.586 2060.3,805.961 \n",
       "  2062.31,830.382 2063.83,915.565 2065.49,743.459 2068.01,812.598 2071.57,817.951 2073.79,950.891 2075.36,1016.83 2076.93,948.817 2079.19,821.154 2082.69,928.594 \n",
       "  2085.2,846.568 2086.85,821.251 2088.37,960.839 2090.39,807.554 2093.71,788.418 2096.56,952.457 2098.34,855.352 2099.84,832.635 2101.67,810.765 2104.66,803.378 \n",
       "  2107.86,839.279 2109.81,888.381 2111.32,823.676 2113.02,945.219 2115.64,867.587 2119.1,887.619 2121.26,777.827 2122.81,802.587 2124.41,790.263 2126.73,867.847 \n",
       "  2130.25,809.667 2132.68,945.466 2134.31,880.752 2135.84,860.858 2137.91,802.631 2141.3,962.418 2144.09,833.017 2145.83,818.654 2147.33,789.034 2149.22,883.519 \n",
       "  2152.33,859.201 2155.42,904.351 2157.31,780.249 2158.81,747.792 2160.55,843.008 2163.28,819.164 2166.68,859.445 2168.77,783.334 2170.3,817.241 2171.92,797.685 \n",
       "  2174.33,948.715 2177.86,1054.39 2180.19,901.687 2181.8,738.138 2183.34,805.383 2185.49,743.827 2188.94,767.402 2191.58,838.17 2193.29,775.184 2194.79,1028.55 \n",
       "  2196.73,823.989 2199.92,743.304 2202.92,799.748 2204.77,764.219 2206.27,850.713 2208.04,833.184 2210.86,742.98 2214.25,802.768 2216.27,784.12 2217.79,830.765 \n",
       "  2219.44,785.943 2221.95,799.012 2225.52,839.508 2227.74,813.866 2229.31,771.032 2230.88,928.43 2233.13,936.661 2236.64,793.712 2239.15,901.757 2240.81,821.227 \n",
       "  2242.32,901.028 2244.34,805.172 2247.66,767.423 2250.51,729.748 2252.29,935.391 2253.79,1016.31 2255.62,789.831 2258.6,1113.13 2261.81,847.048 2263.77,785.983 \n",
       "  2265.27,811.707 2266.97,758.54 2269.58,777.444 2273.05,833.055 2275.22,753.896 2276.77,809.422 2278.36,870.647 2280.67,820.017 2284.2,969.244 2286.63,880.368 \n",
       "  2288.26,773.23 2289.79,889.167 2291.86,823.156 2292.23,780.743 \n",
       "  \"/>\n",
       "<path clip-path=\"url(#clip540)\" d=\"\n",
       "M1680.08 375.855 L2281.46 375.855 L2281.46 168.495 L1680.08 168.495  Z\n",
       "  \" fill=\"#ffffff\" fill-rule=\"evenodd\" fill-opacity=\"1\"/>\n",
       "<polyline clip-path=\"url(#clip540)\" style=\"stroke:#000000; stroke-linecap:round; stroke-linejoin:round; stroke-width:4; stroke-opacity:1; fill:none\" points=\"\n",
       "  1680.08,375.855 2281.46,375.855 2281.46,168.495 1680.08,168.495 1680.08,375.855 \n",
       "  \"/>\n",
       "<polyline clip-path=\"url(#clip540)\" style=\"stroke:#009af9; stroke-linecap:round; stroke-linejoin:round; stroke-width:4; stroke-opacity:1; fill:none\" points=\"\n",
       "  1703.84,220.335 1846.42,220.335 \n",
       "  \"/>\n",
       "<path clip-path=\"url(#clip540)\" d=\"M1889.1 215.625 L1889.1 201.597 L1893.36 201.597 L1893.36 237.615 L1889.1 237.615 L1889.1 233.726 Q1887.76 236.041 1885.7 237.175 Q1883.66 238.287 1880.79 238.287 Q1876.09 238.287 1873.13 234.537 Q1870.19 230.787 1870.19 224.675 Q1870.19 218.564 1873.13 214.814 Q1876.09 211.064 1880.79 211.064 Q1883.66 211.064 1885.7 212.199 Q1887.76 213.31 1889.1 215.625 M1874.59 224.675 Q1874.59 229.375 1876.51 232.06 Q1878.45 234.722 1881.83 234.722 Q1885.21 234.722 1887.16 232.06 Q1889.1 229.375 1889.1 224.675 Q1889.1 219.976 1887.16 217.314 Q1885.21 214.629 1881.83 214.629 Q1878.45 214.629 1876.51 217.314 Q1874.59 219.976 1874.59 224.675 Z\" fill=\"#000000\" fill-rule=\"evenodd\" fill-opacity=\"1\" /><path clip-path=\"url(#clip540)\" d=\"M1906.35 204.328 L1906.35 211.689 L1915.12 211.689 L1915.12 215 L1906.35 215 L1906.35 229.074 Q1906.35 232.245 1907.2 233.148 Q1908.08 234.05 1910.74 234.05 L1915.12 234.05 L1915.12 237.615 L1910.74 237.615 Q1905.81 237.615 1903.94 235.787 Q1902.06 233.935 1902.06 229.074 L1902.06 215 L1898.94 215 L1898.94 211.689 L1902.06 211.689 L1902.06 204.328 L1906.35 204.328 Z\" fill=\"#000000\" fill-rule=\"evenodd\" fill-opacity=\"1\" /><path clip-path=\"url(#clip540)\" d=\"M1921.28 216.088 L1950.95 216.088 L1950.95 219.976 L1921.28 219.976 L1921.28 216.088 M1921.28 225.532 L1950.95 225.532 L1950.95 229.467 L1921.28 229.467 L1921.28 225.532 Z\" fill=\"#000000\" fill-rule=\"evenodd\" fill-opacity=\"1\" /><path clip-path=\"url(#clip540)\" d=\"M1975.21 218.981 Q1978.57 219.699 1980.44 221.967 Q1982.34 224.236 1982.34 227.569 Q1982.34 232.685 1978.82 235.486 Q1975.3 238.287 1968.82 238.287 Q1966.65 238.287 1964.33 237.847 Q1962.04 237.43 1959.59 236.574 L1959.59 232.06 Q1961.53 233.194 1963.85 233.773 Q1966.16 234.351 1968.68 234.351 Q1973.08 234.351 1975.37 232.615 Q1977.69 230.879 1977.69 227.569 Q1977.69 224.513 1975.53 222.8 Q1973.41 221.064 1969.59 221.064 L1965.56 221.064 L1965.56 217.222 L1969.77 217.222 Q1973.22 217.222 1975.05 215.856 Q1976.88 214.467 1976.88 211.875 Q1976.88 209.213 1974.98 207.801 Q1973.1 206.365 1969.59 206.365 Q1967.66 206.365 1965.47 206.782 Q1963.27 207.199 1960.63 208.078 L1960.63 203.912 Q1963.29 203.171 1965.6 202.801 Q1967.94 202.43 1970 202.43 Q1975.33 202.43 1978.43 204.861 Q1981.53 207.268 1981.53 211.388 Q1981.53 214.259 1979.89 216.25 Q1978.24 218.217 1975.21 218.981 Z\" fill=\"#000000\" fill-rule=\"evenodd\" fill-opacity=\"1\" /><path clip-path=\"url(#clip540)\" d=\"M2005.86 203.055 L2025.72 203.055 L2025.72 206.99 L2010.53 206.99 L2010.53 217.176 L2024.24 217.176 L2024.24 221.111 L2010.53 221.111 L2010.53 237.615 L2005.86 237.615 L2005.86 203.055 Z\" fill=\"#000000\" fill-rule=\"evenodd\" fill-opacity=\"1\" /><path clip-path=\"url(#clip540)\" d=\"M2029.49 211.689 L2033.75 211.689 L2033.75 237.615 L2029.49 237.615 L2029.49 211.689 M2029.49 201.597 L2033.75 201.597 L2033.75 206.99 L2029.49 206.99 L2029.49 201.597 Z\" fill=\"#000000\" fill-rule=\"evenodd\" fill-opacity=\"1\" /><path clip-path=\"url(#clip540)\" d=\"M2064.21 211.689 L2054.84 224.305 L2064.7 237.615 L2059.68 237.615 L2052.13 227.43 L2044.59 237.615 L2039.56 237.615 L2049.63 224.05 L2040.42 211.689 L2045.44 211.689 L2052.32 220.925 L2059.19 211.689 L2064.21 211.689 Z\" fill=\"#000000\" fill-rule=\"evenodd\" fill-opacity=\"1\" /><path clip-path=\"url(#clip540)\" d=\"M2068.57 222.731 L2081.04 222.731 L2081.04 226.527 L2068.57 226.527 L2068.57 222.731 Z\" fill=\"#000000\" fill-rule=\"evenodd\" fill-opacity=\"1\" /><path clip-path=\"url(#clip540)\" d=\"M2108.73 204.189 L2108.73 208.75 Q2106.07 207.476 2103.71 206.851 Q2101.34 206.226 2099.15 206.226 Q2095.33 206.226 2093.24 207.708 Q2091.18 209.189 2091.18 211.921 Q2091.18 214.213 2092.55 215.393 Q2093.94 216.551 2097.78 217.268 L2100.6 217.847 Q2105.84 218.842 2108.31 221.365 Q2110.81 223.865 2110.81 228.078 Q2110.81 233.101 2107.43 235.694 Q2104.08 238.287 2097.57 238.287 Q2095.12 238.287 2092.34 237.731 Q2089.59 237.175 2086.62 236.087 L2086.62 231.273 Q2089.47 232.87 2092.2 233.68 Q2094.93 234.49 2097.57 234.49 Q2101.58 234.49 2103.75 232.916 Q2105.93 231.342 2105.93 228.425 Q2105.93 225.879 2104.35 224.444 Q2102.8 223.009 2099.24 222.291 L2096.39 221.736 Q2091.16 220.694 2088.82 218.472 Q2086.48 216.25 2086.48 212.291 Q2086.48 207.708 2089.7 205.069 Q2092.94 202.43 2098.61 202.43 Q2101.04 202.43 2103.57 202.87 Q2106.09 203.31 2108.73 204.189 Z\" fill=\"#000000\" fill-rule=\"evenodd\" fill-opacity=\"1\" /><path clip-path=\"url(#clip540)\" d=\"M2122.13 204.328 L2122.13 211.689 L2130.9 211.689 L2130.9 215 L2122.13 215 L2122.13 229.074 Q2122.13 232.245 2122.99 233.148 Q2123.87 234.05 2126.53 234.05 L2130.9 234.05 L2130.9 237.615 L2126.53 237.615 Q2121.6 237.615 2119.72 235.787 Q2117.85 233.935 2117.85 229.074 L2117.85 215 L2114.72 215 L2114.72 211.689 L2117.85 211.689 L2117.85 204.328 L2122.13 204.328 Z\" fill=\"#000000\" fill-rule=\"evenodd\" fill-opacity=\"1\" /><path clip-path=\"url(#clip540)\" d=\"M2158.68 223.588 L2158.68 225.671 L2139.1 225.671 Q2139.38 230.069 2141.74 232.384 Q2144.12 234.675 2148.36 234.675 Q2150.81 234.675 2153.1 234.074 Q2155.42 233.472 2157.69 232.268 L2157.69 236.296 Q2155.4 237.268 2152.99 237.777 Q2150.58 238.287 2148.1 238.287 Q2141.9 238.287 2138.27 234.675 Q2134.65 231.064 2134.65 224.907 Q2134.65 218.541 2138.08 214.814 Q2141.53 211.064 2147.36 211.064 Q2152.59 211.064 2155.63 214.444 Q2158.68 217.801 2158.68 223.588 M2154.42 222.338 Q2154.38 218.842 2152.46 216.759 Q2150.56 214.676 2147.41 214.676 Q2143.84 214.676 2141.69 216.689 Q2139.56 218.703 2139.24 222.361 L2154.42 222.338 Z\" fill=\"#000000\" fill-rule=\"evenodd\" fill-opacity=\"1\" /><path clip-path=\"url(#clip540)\" d=\"M2169.79 233.726 L2169.79 247.476 L2165.51 247.476 L2165.51 211.689 L2169.79 211.689 L2169.79 215.625 Q2171.14 213.31 2173.17 212.199 Q2175.23 211.064 2178.08 211.064 Q2182.8 211.064 2185.74 214.814 Q2188.71 218.564 2188.71 224.675 Q2188.71 230.787 2185.74 234.537 Q2182.8 238.287 2178.08 238.287 Q2175.23 238.287 2173.17 237.175 Q2171.14 236.041 2169.79 233.726 M2184.28 224.675 Q2184.28 219.976 2182.34 217.314 Q2180.42 214.629 2177.04 214.629 Q2173.66 214.629 2171.71 217.314 Q2169.79 219.976 2169.79 224.675 Q2169.79 229.375 2171.71 232.06 Q2173.66 234.722 2177.04 234.722 Q2180.42 234.722 2182.34 232.06 Q2184.28 229.375 2184.28 224.675 Z\" fill=\"#000000\" fill-rule=\"evenodd\" fill-opacity=\"1\" /><polyline clip-path=\"url(#clip540)\" style=\"stroke:#e26f46; stroke-linecap:round; stroke-linejoin:round; stroke-width:4; stroke-opacity:1; fill:none\" points=\"\n",
       "  1703.84,272.175 1846.42,272.175 \n",
       "  \"/>\n",
       "<path clip-path=\"url(#clip540)\" d=\"M1889.1 267.465 L1889.1 253.437 L1893.36 253.437 L1893.36 289.455 L1889.1 289.455 L1889.1 285.566 Q1887.76 287.881 1885.7 289.015 Q1883.66 290.127 1880.79 290.127 Q1876.09 290.127 1873.13 286.377 Q1870.19 282.627 1870.19 276.515 Q1870.19 270.404 1873.13 266.654 Q1876.09 262.904 1880.79 262.904 Q1883.66 262.904 1885.7 264.039 Q1887.76 265.15 1889.1 267.465 M1874.59 276.515 Q1874.59 281.215 1876.51 283.9 Q1878.45 286.562 1881.83 286.562 Q1885.21 286.562 1887.16 283.9 Q1889.1 281.215 1889.1 276.515 Q1889.1 271.816 1887.16 269.154 Q1885.21 266.469 1881.83 266.469 Q1878.45 266.469 1876.51 269.154 Q1874.59 271.816 1874.59 276.515 Z\" fill=\"#000000\" fill-rule=\"evenodd\" fill-opacity=\"1\" /><path clip-path=\"url(#clip540)\" d=\"M1906.35 256.168 L1906.35 263.529 L1915.12 263.529 L1915.12 266.84 L1906.35 266.84 L1906.35 280.914 Q1906.35 284.085 1907.2 284.988 Q1908.08 285.89 1910.74 285.89 L1915.12 285.89 L1915.12 289.455 L1910.74 289.455 Q1905.81 289.455 1903.94 287.627 Q1902.06 285.775 1902.06 280.914 L1902.06 266.84 L1898.94 266.84 L1898.94 263.529 L1902.06 263.529 L1902.06 256.168 L1906.35 256.168 Z\" fill=\"#000000\" fill-rule=\"evenodd\" fill-opacity=\"1\" /><path clip-path=\"url(#clip540)\" d=\"M1921.28 267.928 L1950.95 267.928 L1950.95 271.816 L1921.28 271.816 L1921.28 267.928 M1921.28 277.372 L1950.95 277.372 L1950.95 281.307 L1921.28 281.307 L1921.28 277.372 Z\" fill=\"#000000\" fill-rule=\"evenodd\" fill-opacity=\"1\" /><path clip-path=\"url(#clip540)\" d=\"M1961.85 285.52 L1969.49 285.52 L1969.49 259.154 L1961.18 260.821 L1961.18 256.562 L1969.45 254.895 L1974.12 254.895 L1974.12 285.52 L1981.76 285.52 L1981.76 289.455 L1961.85 289.455 L1961.85 285.52 Z\" fill=\"#000000\" fill-rule=\"evenodd\" fill-opacity=\"1\" /><path clip-path=\"url(#clip540)\" d=\"M1991.21 283.576 L1996.09 283.576 L1996.09 289.455 L1991.21 289.455 L1991.21 283.576 Z\" fill=\"#000000\" fill-rule=\"evenodd\" fill-opacity=\"1\" /><path clip-path=\"url(#clip540)\" d=\"M2006.32 254.895 L2024.68 254.895 L2024.68 258.83 L2010.6 258.83 L2010.6 267.303 Q2011.62 266.955 2012.64 266.793 Q2013.66 266.608 2014.68 266.608 Q2020.47 266.608 2023.84 269.779 Q2027.22 272.951 2027.22 278.367 Q2027.22 283.946 2023.75 287.048 Q2020.28 290.127 2013.96 290.127 Q2011.78 290.127 2009.52 289.756 Q2007.27 289.386 2004.86 288.645 L2004.86 283.946 Q2006.95 285.08 2009.17 285.636 Q2011.39 286.191 2013.87 286.191 Q2017.87 286.191 2020.21 284.085 Q2022.55 281.978 2022.55 278.367 Q2022.55 274.756 2020.21 272.65 Q2017.87 270.543 2013.87 270.543 Q2011.99 270.543 2010.12 270.96 Q2008.27 271.377 2006.32 272.256 L2006.32 254.895 Z\" fill=\"#000000\" fill-rule=\"evenodd\" fill-opacity=\"1\" /><path clip-path=\"url(#clip540)\" d=\"M2051.09 254.895 L2070.95 254.895 L2070.95 258.83 L2055.77 258.83 L2055.77 269.016 L2069.47 269.016 L2069.47 272.951 L2055.77 272.951 L2055.77 289.455 L2051.09 289.455 L2051.09 254.895 Z\" fill=\"#000000\" fill-rule=\"evenodd\" fill-opacity=\"1\" /><path clip-path=\"url(#clip540)\" d=\"M2074.72 263.529 L2078.98 263.529 L2078.98 289.455 L2074.72 289.455 L2074.72 263.529 M2074.72 253.437 L2078.98 253.437 L2078.98 258.83 L2074.72 258.83 L2074.72 253.437 Z\" fill=\"#000000\" fill-rule=\"evenodd\" fill-opacity=\"1\" /><path clip-path=\"url(#clip540)\" d=\"M2109.45 263.529 L2100.07 276.145 L2109.93 289.455 L2104.91 289.455 L2097.36 279.27 L2089.82 289.455 L2084.79 289.455 L2094.86 275.89 L2085.65 263.529 L2090.67 263.529 L2097.55 272.765 L2104.42 263.529 L2109.45 263.529 Z\" fill=\"#000000\" fill-rule=\"evenodd\" fill-opacity=\"1\" /><path clip-path=\"url(#clip540)\" d=\"M2113.8 274.571 L2126.27 274.571 L2126.27 278.367 L2113.8 278.367 L2113.8 274.571 Z\" fill=\"#000000\" fill-rule=\"evenodd\" fill-opacity=\"1\" /><path clip-path=\"url(#clip540)\" d=\"M2153.96 256.029 L2153.96 260.59 Q2151.3 259.316 2148.94 258.691 Q2146.58 258.066 2144.38 258.066 Q2140.56 258.066 2138.47 259.548 Q2136.41 261.029 2136.41 263.761 Q2136.41 266.053 2137.78 267.233 Q2139.17 268.391 2143.01 269.108 L2145.83 269.687 Q2151.07 270.682 2153.54 273.205 Q2156.04 275.705 2156.04 279.918 Q2156.04 284.941 2152.66 287.534 Q2149.31 290.127 2142.8 290.127 Q2140.35 290.127 2137.57 289.571 Q2134.82 289.015 2131.85 287.927 L2131.85 283.113 Q2134.7 284.71 2137.43 285.52 Q2140.16 286.33 2142.8 286.33 Q2146.81 286.33 2148.98 284.756 Q2151.16 283.182 2151.16 280.265 Q2151.16 277.719 2149.58 276.284 Q2148.03 274.849 2144.47 274.131 L2141.62 273.576 Q2136.39 272.534 2134.05 270.312 Q2131.71 268.09 2131.71 264.131 Q2131.71 259.548 2134.93 256.909 Q2138.17 254.27 2143.84 254.27 Q2146.27 254.27 2148.8 254.71 Q2151.32 255.15 2153.96 256.029 Z\" fill=\"#000000\" fill-rule=\"evenodd\" fill-opacity=\"1\" /><path clip-path=\"url(#clip540)\" d=\"M2167.36 256.168 L2167.36 263.529 L2176.14 263.529 L2176.14 266.84 L2167.36 266.84 L2167.36 280.914 Q2167.36 284.085 2168.22 284.988 Q2169.1 285.89 2171.76 285.89 L2176.14 285.89 L2176.14 289.455 L2171.76 289.455 Q2166.83 289.455 2164.96 287.627 Q2163.08 285.775 2163.08 280.914 L2163.08 266.84 L2159.96 266.84 L2159.96 263.529 L2163.08 263.529 L2163.08 256.168 L2167.36 256.168 Z\" fill=\"#000000\" fill-rule=\"evenodd\" fill-opacity=\"1\" /><path clip-path=\"url(#clip540)\" d=\"M2203.91 275.428 L2203.91 277.511 L2184.33 277.511 Q2184.61 281.909 2186.97 284.224 Q2189.35 286.515 2193.59 286.515 Q2196.04 286.515 2198.33 285.914 Q2200.65 285.312 2202.92 284.108 L2202.92 288.136 Q2200.63 289.108 2198.22 289.617 Q2195.81 290.127 2193.33 290.127 Q2187.13 290.127 2183.5 286.515 Q2179.89 282.904 2179.89 276.747 Q2179.89 270.381 2183.31 266.654 Q2186.76 262.904 2192.59 262.904 Q2197.83 262.904 2200.86 266.284 Q2203.91 269.641 2203.91 275.428 M2199.65 274.178 Q2199.61 270.682 2197.69 268.599 Q2195.79 266.516 2192.64 266.516 Q2189.08 266.516 2186.92 268.529 Q2184.79 270.543 2184.47 274.201 L2199.65 274.178 Z\" fill=\"#000000\" fill-rule=\"evenodd\" fill-opacity=\"1\" /><path clip-path=\"url(#clip540)\" d=\"M2215.02 285.566 L2215.02 299.316 L2210.74 299.316 L2210.74 263.529 L2215.02 263.529 L2215.02 267.465 Q2216.37 265.15 2218.4 264.039 Q2220.46 262.904 2223.31 262.904 Q2228.03 262.904 2230.97 266.654 Q2233.94 270.404 2233.94 276.515 Q2233.94 282.627 2230.97 286.377 Q2228.03 290.127 2223.31 290.127 Q2220.46 290.127 2218.4 289.015 Q2216.37 287.881 2215.02 285.566 M2229.51 276.515 Q2229.51 271.816 2227.57 269.154 Q2225.65 266.469 2222.27 266.469 Q2218.89 266.469 2216.95 269.154 Q2215.02 271.816 2215.02 276.515 Q2215.02 281.215 2216.95 283.9 Q2218.89 286.562 2222.27 286.562 Q2225.65 286.562 2227.57 283.9 Q2229.51 281.215 2229.51 276.515 Z\" fill=\"#000000\" fill-rule=\"evenodd\" fill-opacity=\"1\" /><polyline clip-path=\"url(#clip540)\" style=\"stroke:#3da44d; stroke-linecap:round; stroke-linejoin:round; stroke-width:4; stroke-opacity:1; fill:none\" points=\"\n",
       "  1703.84,324.015 1846.42,324.015 \n",
       "  \"/>\n",
       "<path clip-path=\"url(#clip540)\" d=\"M1889.1 319.305 L1889.1 305.277 L1893.36 305.277 L1893.36 341.295 L1889.1 341.295 L1889.1 337.406 Q1887.76 339.721 1885.7 340.855 Q1883.66 341.967 1880.79 341.967 Q1876.09 341.967 1873.13 338.217 Q1870.19 334.467 1870.19 328.355 Q1870.19 322.244 1873.13 318.494 Q1876.09 314.744 1880.79 314.744 Q1883.66 314.744 1885.7 315.879 Q1887.76 316.99 1889.1 319.305 M1874.59 328.355 Q1874.59 333.055 1876.51 335.74 Q1878.45 338.402 1881.83 338.402 Q1885.21 338.402 1887.16 335.74 Q1889.1 333.055 1889.1 328.355 Q1889.1 323.656 1887.16 320.994 Q1885.21 318.309 1881.83 318.309 Q1878.45 318.309 1876.51 320.994 Q1874.59 323.656 1874.59 328.355 Z\" fill=\"#000000\" fill-rule=\"evenodd\" fill-opacity=\"1\" /><path clip-path=\"url(#clip540)\" d=\"M1906.35 308.008 L1906.35 315.369 L1915.12 315.369 L1915.12 318.68 L1906.35 318.68 L1906.35 332.754 Q1906.35 335.925 1907.2 336.828 Q1908.08 337.73 1910.74 337.73 L1915.12 337.73 L1915.12 341.295 L1910.74 341.295 Q1905.81 341.295 1903.94 339.467 Q1902.06 337.615 1902.06 332.754 L1902.06 318.68 L1898.94 318.68 L1898.94 315.369 L1902.06 315.369 L1902.06 308.008 L1906.35 308.008 Z\" fill=\"#000000\" fill-rule=\"evenodd\" fill-opacity=\"1\" /><path clip-path=\"url(#clip540)\" d=\"M1921.28 319.768 L1950.95 319.768 L1950.95 323.656 L1921.28 323.656 L1921.28 319.768 M1921.28 329.212 L1950.95 329.212 L1950.95 333.147 L1921.28 333.147 L1921.28 329.212 Z\" fill=\"#000000\" fill-rule=\"evenodd\" fill-opacity=\"1\" /><path clip-path=\"url(#clip540)\" d=\"M1975.21 322.661 Q1978.57 323.379 1980.44 325.647 Q1982.34 327.916 1982.34 331.249 Q1982.34 336.365 1978.82 339.166 Q1975.3 341.967 1968.82 341.967 Q1966.65 341.967 1964.33 341.527 Q1962.04 341.11 1959.59 340.254 L1959.59 335.74 Q1961.53 336.874 1963.85 337.453 Q1966.16 338.031 1968.68 338.031 Q1973.08 338.031 1975.37 336.295 Q1977.69 334.559 1977.69 331.249 Q1977.69 328.193 1975.53 326.48 Q1973.41 324.744 1969.59 324.744 L1965.56 324.744 L1965.56 320.902 L1969.77 320.902 Q1973.22 320.902 1975.05 319.536 Q1976.88 318.147 1976.88 315.555 Q1976.88 312.893 1974.98 311.481 Q1973.1 310.045 1969.59 310.045 Q1967.66 310.045 1965.47 310.462 Q1963.27 310.879 1960.63 311.758 L1960.63 307.592 Q1963.29 306.851 1965.6 306.481 Q1967.94 306.11 1970 306.11 Q1975.33 306.11 1978.43 308.541 Q1981.53 310.948 1981.53 315.068 Q1981.53 317.939 1979.89 319.93 Q1978.24 321.897 1975.21 322.661 Z\" fill=\"#000000\" fill-rule=\"evenodd\" fill-opacity=\"1\" /><path clip-path=\"url(#clip540)\" d=\"M2017.41 311.342 L2011.07 328.541 L2023.78 328.541 L2017.41 311.342 M2014.77 306.735 L2020.07 306.735 L2033.24 341.295 L2028.38 341.295 L2025.23 332.43 L2009.66 332.43 L2006.51 341.295 L2001.58 341.295 L2014.77 306.735 Z\" fill=\"#000000\" fill-rule=\"evenodd\" fill-opacity=\"1\" /><path clip-path=\"url(#clip540)\" d=\"M2054.33 319.305 L2054.33 305.277 L2058.59 305.277 L2058.59 341.295 L2054.33 341.295 L2054.33 337.406 Q2052.99 339.721 2050.93 340.855 Q2048.89 341.967 2046.02 341.967 Q2041.32 341.967 2038.36 338.217 Q2035.42 334.467 2035.42 328.355 Q2035.42 322.244 2038.36 318.494 Q2041.32 314.744 2046.02 314.744 Q2048.89 314.744 2050.93 315.879 Q2052.99 316.99 2054.33 319.305 M2039.82 328.355 Q2039.82 333.055 2041.74 335.74 Q2043.68 338.402 2047.06 338.402 Q2050.44 338.402 2052.39 335.74 Q2054.33 333.055 2054.33 328.355 Q2054.33 323.656 2052.39 320.994 Q2050.44 318.309 2047.06 318.309 Q2043.68 318.309 2041.74 320.994 Q2039.82 323.656 2039.82 328.355 Z\" fill=\"#000000\" fill-rule=\"evenodd\" fill-opacity=\"1\" /><path clip-path=\"url(#clip540)\" d=\"M2079.15 328.263 Q2073.98 328.263 2071.99 329.443 Q2070 330.624 2070 333.471 Q2070 335.74 2071.48 337.082 Q2072.99 338.402 2075.56 338.402 Q2079.1 338.402 2081.23 335.902 Q2083.38 333.379 2083.38 329.212 L2083.38 328.263 L2079.15 328.263 M2087.64 326.504 L2087.64 341.295 L2083.38 341.295 L2083.38 337.36 Q2081.92 339.721 2079.75 340.855 Q2077.57 341.967 2074.42 341.967 Q2070.44 341.967 2068.08 339.744 Q2065.74 337.499 2065.74 333.749 Q2065.74 329.374 2068.66 327.152 Q2071.6 324.93 2077.41 324.93 L2083.38 324.93 L2083.38 324.513 Q2083.38 321.573 2081.44 319.976 Q2079.52 318.356 2076.02 318.356 Q2073.8 318.356 2071.69 318.888 Q2069.59 319.42 2067.64 320.485 L2067.64 316.55 Q2069.98 315.647 2072.18 315.207 Q2074.38 314.744 2076.46 314.744 Q2082.09 314.744 2084.86 317.661 Q2087.64 320.578 2087.64 326.504 Z\" fill=\"#000000\" fill-rule=\"evenodd\" fill-opacity=\"1\" /><path clip-path=\"url(#clip540)\" d=\"M2100.53 337.406 L2100.53 351.156 L2096.25 351.156 L2096.25 315.369 L2100.53 315.369 L2100.53 319.305 Q2101.88 316.99 2103.91 315.879 Q2105.97 314.744 2108.82 314.744 Q2113.54 314.744 2116.48 318.494 Q2119.45 322.244 2119.45 328.355 Q2119.45 334.467 2116.48 338.217 Q2113.54 341.967 2108.82 341.967 Q2105.97 341.967 2103.91 340.855 Q2101.88 339.721 2100.53 337.406 M2115.02 328.355 Q2115.02 323.656 2113.08 320.994 Q2111.16 318.309 2107.78 318.309 Q2104.4 318.309 2102.46 320.994 Q2100.53 323.656 2100.53 328.355 Q2100.53 333.055 2102.46 335.74 Q2104.4 338.402 2107.78 338.402 Q2111.16 338.402 2113.08 335.74 Q2115.02 333.055 2115.02 328.355 Z\" fill=\"#000000\" fill-rule=\"evenodd\" fill-opacity=\"1\" /><path clip-path=\"url(#clip540)\" d=\"M2130.72 308.008 L2130.72 315.369 L2139.49 315.369 L2139.49 318.68 L2130.72 318.68 L2130.72 332.754 Q2130.72 335.925 2131.58 336.828 Q2132.46 337.73 2135.12 337.73 L2139.49 337.73 L2139.49 341.295 L2135.12 341.295 Q2130.19 341.295 2128.31 339.467 Q2126.44 337.615 2126.44 332.754 L2126.44 318.68 L2123.31 318.68 L2123.31 315.369 L2126.44 315.369 L2126.44 308.008 L2130.72 308.008 Z\" fill=\"#000000\" fill-rule=\"evenodd\" fill-opacity=\"1\" /><path clip-path=\"url(#clip540)\" d=\"M2145.09 315.369 L2149.35 315.369 L2149.35 341.295 L2145.09 341.295 L2145.09 315.369 M2145.09 305.277 L2149.35 305.277 L2149.35 310.67 L2145.09 310.67 L2145.09 305.277 Z\" fill=\"#000000\" fill-rule=\"evenodd\" fill-opacity=\"1\" /><path clip-path=\"url(#clip540)\" d=\"M2155.21 315.369 L2159.72 315.369 L2167.83 337.129 L2175.93 315.369 L2180.44 315.369 L2170.72 341.295 L2164.93 341.295 L2155.21 315.369 Z\" fill=\"#000000\" fill-rule=\"evenodd\" fill-opacity=\"1\" /><path clip-path=\"url(#clip540)\" d=\"M2208.5 327.268 L2208.5 329.351 L2188.91 329.351 Q2189.19 333.749 2191.55 336.064 Q2193.94 338.355 2198.17 338.355 Q2200.63 338.355 2202.92 337.754 Q2205.23 337.152 2207.5 335.948 L2207.5 339.976 Q2205.21 340.948 2202.8 341.457 Q2200.39 341.967 2197.92 341.967 Q2191.71 341.967 2188.08 338.355 Q2184.47 334.744 2184.47 328.587 Q2184.47 322.221 2187.89 318.494 Q2191.34 314.744 2197.18 314.744 Q2202.41 314.744 2205.44 318.124 Q2208.5 321.481 2208.5 327.268 M2204.24 326.018 Q2204.19 322.522 2202.27 320.439 Q2200.37 318.356 2197.22 318.356 Q2193.66 318.356 2191.51 320.369 Q2189.38 322.383 2189.05 326.041 L2204.24 326.018 Z\" fill=\"#000000\" fill-rule=\"evenodd\" fill-opacity=\"1\" /></svg>\n"
      ]
     },
     "execution_count": 22,
     "metadata": {},
     "output_type": "execute_result"
    }
   ],
   "source": [
    "yrange = (1e-20,1e-12)\n",
    "plot(title=\"Energy error: 15-body problem\",ylims=yrange, yscale=:log10 )#legend=false)\n",
    "pl1 = energy_plot(sol1, yrange,  label=\"dt=3 Fix-Step\")\n",
    "plot!(pl1)\n",
    "pl2 = energy_plot(sol2, yrange,  label=\"dt=1.5 Fix-Step\")\n",
    "plot!(pl2)\n",
    "pl3 = energy_plot(sol3, yrange,  label=\"dt=3 Adaptive\")\n",
    "plot!(pl3)\n"
   ]
  },
  {
   "cell_type": "markdown",
   "metadata": {},
   "source": [
    "### Errors in position"
   ]
  },
  {
   "cell_type": "markdown",
   "metadata": {},
   "source": [
    "#### Load exact solution (BigFloat)"
   ]
  },
  {
   "cell_type": "code",
   "execution_count": 23,
   "metadata": {},
   "outputs": [],
   "source": [
    "setprecision(BigFloat, 256)\n",
    "\n",
    "t0 = BigFloat(0.)\n",
    "dt = BigFloat(0.5)  \n",
    "tF=  BigFloat(1e6)\n",
    "tF = BigFloat(100*dt)\n",
    "tF=BigFloat(15000.)\n",
    "\n",
    "\n",
    "prob0 = ODEProblem(NbodyODE!, u0, (t0,tF), Gm);"
   ]
  },
  {
   "cell_type": "code",
   "execution_count": 32,
   "metadata": {},
   "outputs": [
    {
     "ename": "LoadError",
     "evalue": "KeyError: key \"sol0\" not found",
     "output_type": "error",
     "traceback": [
      "KeyError: key \"sol0\" not found",
      "",
      "Stacktrace:",
      " [1] getindex(g::JLD2.Group{JLD2.JLDFile{JLD2.MmapIO}}, name::String)",
      "   @ JLD2 ~/.julia/packages/JLD2/k9Gt0/src/groups.jl:101",
      " [2] read",
      "   @ ~/.julia/packages/JLD2/k9Gt0/src/JLD2.jl:389 [inlined]",
      " [3] (::var\"#22#23\")(f::JLD2.JLDFile{JLD2.MmapIO})",
      "   @ Main ~/.julia/packages/JLD2/k9Gt0/src/loadsave.jl:146",
      " [4] jldopen(f::Function, args::String; kws::Base.Iterators.Pairs{Union{}, Union{}, Tuple{}, NamedTuple{(), Tuple{}}})",
      "   @ JLD2 ~/.julia/packages/JLD2/k9Gt0/src/loadsave.jl:4",
      " [5] jldopen(f::Function, args::String)",
      "   @ JLD2 ~/.julia/packages/JLD2/k9Gt0/src/loadsave.jl:2",
      " [6] top-level scope",
      "   @ ~/.julia/packages/JLD2/k9Gt0/src/loadsave.jl:145",
      " [7] eval",
      "   @ ./boot.jl:360 [inlined]",
      " [8] include_string(mapexpr::typeof(REPL.softscope), mod::Module, code::String, filename::String)",
      "   @ Base ./loading.jl:1116"
     ]
    }
   ],
   "source": [
    "@load \"./Data/prob_15body_QT1.jld2\" prob0\n",
    "JLD2.@load \"./Data/sol_15body_QT1.jld2\" sol0"
   ]
  },
  {
   "cell_type": "code",
   "execution_count": 25,
   "metadata": {},
   "outputs": [
    {
     "ename": "LoadError",
     "evalue": "UndefVarError: sol0 not defined",
     "output_type": "error",
     "traceback": [
      "UndefVarError: sol0 not defined",
      "",
      "Stacktrace:",
      " [1] top-level scope",
      "   @ In[25]:3",
      " [2] eval",
      "   @ ./boot.jl:360 [inlined]",
      " [3] include_string(mapexpr::typeof(REPL.softscope), mod::Module, code::String, filename::String)",
      "   @ Base ./loading.jl:1116"
     ]
    }
   ],
   "source": [
    "yrange = (1e-45,1e-10)\n",
    "plot(title=\"Energy error: 15-body problem\",ylims=yrange, yscale=:log10 )\n",
    "pl1 = energy_plot(sol0, yrange,  label=\"h=0.5 BigFloat\")\n",
    "plot!(pl1)"
   ]
  },
  {
   "cell_type": "code",
   "execution_count": 26,
   "metadata": {},
   "outputs": [
    {
     "ename": "LoadError",
     "evalue": "UndefVarError: sol0 not defined",
     "output_type": "error",
     "traceback": [
      "UndefVarError: sol0 not defined",
      "",
      "Stacktrace:",
      " [1] top-level scope",
      "   @ In[26]:2",
      " [2] eval",
      "   @ ./boot.jl:360 [inlined]",
      " [3] include_string(mapexpr::typeof(REPL.softscope), mod::Module, code::String, filename::String)",
      "   @ Base ./loading.jl:1116"
     ]
    }
   ],
   "source": [
    "# Check: same initial condition\n",
    "norm(sol1.u[1]-sol0.u[1])"
   ]
  },
  {
   "cell_type": "code",
   "execution_count": 27,
   "metadata": {},
   "outputs": [
    {
     "ename": "LoadError",
     "evalue": "UndefVarError: sol0 not defined",
     "output_type": "error",
     "traceback": [
      "UndefVarError: sol0 not defined",
      "",
      "Stacktrace:",
      " [1] top-level scope",
      "   @ In[27]:2",
      " [2] eval",
      "   @ ./boot.jl:360 [inlined]",
      " [3] include_string(mapexpr::typeof(REPL.softscope), mod::Module, code::String, filename::String)",
      "   @ Base ./loading.jl:1116"
     ]
    }
   ],
   "source": [
    "k=2\n",
    "[sol0.t[k] sol1.t[k] sol2.t[k]]"
   ]
  },
  {
   "cell_type": "markdown",
   "metadata": {},
   "source": [
    "### Kokapen erroreak"
   ]
  },
  {
   "cell_type": "code",
   "execution_count": 28,
   "metadata": {},
   "outputs": [
    {
     "data": {
      "text/plain": [
       "15×2 Matrix{BigFloat}:\n",
       " #undef  #undef\n",
       " #undef  #undef\n",
       " #undef  #undef\n",
       " #undef  #undef\n",
       " #undef  #undef\n",
       " #undef  #undef\n",
       " #undef  #undef\n",
       " #undef  #undef\n",
       " #undef  #undef\n",
       " #undef  #undef\n",
       " #undef  #undef\n",
       " #undef  #undef\n",
       " #undef  #undef\n",
       " #undef  #undef\n",
       " #undef  #undef"
      ]
     },
     "execution_count": 28,
     "metadata": {},
     "output_type": "execute_result"
    }
   ],
   "source": [
    "error1=Array{BigFloat}(undef,N,2)"
   ]
  },
  {
   "cell_type": "code",
   "execution_count": 29,
   "metadata": {},
   "outputs": [
    {
     "data": {
      "text/plain": [
       "3×15×2 Array{Float64, 3}:\n",
       "[:, :, 1] =\n",
       " 0.0  0.0  0.0  0.0  0.0  0.0  0.0  0.0  0.0  0.0  0.0  0.0  0.0  0.0  0.0\n",
       " 0.0  0.0  0.0  0.0  0.0  0.0  0.0  0.0  0.0  0.0  0.0  0.0  0.0  0.0  0.0\n",
       " 0.0  0.0  0.0  0.0  0.0  0.0  0.0  0.0  0.0  0.0  0.0  0.0  0.0  0.0  0.0\n",
       "\n",
       "[:, :, 2] =\n",
       " 0.0  0.0  0.0  0.0  0.0  0.0  0.0  0.0  0.0  0.0  0.0  0.0  0.0  0.0  0.0\n",
       " 0.0  0.0  0.0  0.0  0.0  0.0  0.0  0.0  0.0  0.0  0.0  0.0  0.0  0.0  0.0\n",
       " 0.0  0.0  0.0  0.0  0.0  0.0  0.0  0.0  0.0  0.0  0.0  0.0  0.0  0.0  0.0"
      ]
     },
     "execution_count": 29,
     "metadata": {},
     "output_type": "execute_result"
    }
   ],
   "source": [
    "sol1.u[1,1,1]-sol2.u[1,1,1]"
   ]
  },
  {
   "cell_type": "code",
   "execution_count": 30,
   "metadata": {},
   "outputs": [
    {
     "data": {
      "text/plain": [
       "3×15×2 Array{Float64, 3}:\n",
       "[:, :, 1] =\n",
       " 0.00450251    0.361763   0.612752  …  0.186874   1.89698    1.40326\n",
       " 0.000767076  -0.090782  -0.348365     2.3874    -0.847648  -1.28671\n",
       " 0.000266058  -0.085715  -0.195278     0.924862  -0.156893  -0.668832\n",
       "\n",
       "[:, :, 2] =\n",
       " -3.51749e-7  0.00336749  0.0109521   …  -0.0101748   0.0027866   0.00716401\n",
       "  5.17763e-6  0.0248945   0.0156177       4.66558e-5  0.0113192   0.00922514\n",
       "  2.2291e-6   0.0129463   0.00633111      0.00134639  0.00497736  0.00686009"
      ]
     },
     "execution_count": 30,
     "metadata": {},
     "output_type": "execute_result"
    }
   ],
   "source": [
    "sol1.u[1]"
   ]
  },
  {
   "cell_type": "code",
   "execution_count": 31,
   "metadata": {},
   "outputs": [
    {
     "data": {
      "text/plain": [
       "1001-element Vector{Matrix{Float64}}:\n",
       " [0.004502508648774823 0.3617627164244162 … 1.8969777764390752 1.4032615728723166; 0.0007670763147285091 -0.09078197226912849 … -0.8476476717604114 -1.2867096526935966; 0.0002660579004068458 -0.0857149725801113 … -0.15689326114405774 -0.668832370760427]\n",
       " [0.004496466653717543 0.15654436822342746 … 1.9316007889944649 1.504749802064919; 0.0008444822529435725 0.2451146225014686 … -0.6748808134997979 -1.1431692335299735; 0.0002993902640734075 0.11498400367480541 … -0.08173581256714257 -0.5632911119815156]\n",
       " [0.004488908109974576 -0.2926603988189242 … 1.9511997071398917 1.593152005885878; 0.0009214896846228321 0.14658589868410138 … -0.4968585521839147 -0.9896726836048989; 0.00033257597413299247 0.10897766630474767 … -0.005944000142578985 -0.4528484531742555]\n",
       " [0.004479778578456848 -0.3704886440392062 … 1.9548309204194678 1.6667588937072184; 0.0009981659517789062 -0.19686597279576706 … -0.31476596751136143 -0.8269718231201433; 0.00036565374591471396 -0.0663938306491767 … 0.06989409982782703 -0.3381989143687345]\n",
       " [0.004469078787171829 -0.13369886741305212 … 1.9416685930200617 1.7239224663521586; 0.0010745435291484573 -0.39758376328008926 … -0.1299670289641627 -0.6561000589360373; 0.0003986353019888945 -0.1981871326171536 … 0.1451283771110556 -0.22021277931415054]\n",
       " [0.004456786565568035 0.19324415953902035 … 1.9110473980008513 1.7631381208201762; 0.001150679007786199 -0.34308442376587195 … 0.05600066412805841 -0.47838581017908377; 0.0004315467406747846 -0.2030242945134803 … 0.21905325658094868 -0.09993495570916125]\n",
       " [0.004442846645958171 0.36438090779525 … 1.8625072117541868 1.783136427715186; 0.0012266110970104549 -0.03892122910804057 … 0.24144112128689277 -0.29544609717684117; 0.0004644089790593159 -0.058340647619855183 … 0.29091860621449683 0.021430236070191885]\n",
       " [0.004427194350113931 0.09259717322639383 … 1.7958366653158313 1.782975786193972; 0.0013023726171900406 0.26497203679436887 … 0.42452672100939814 -0.10915527913744416; 0.0004972432225470575 0.13217403229162833 … 0.3599453047525988 0.14255054762467934]\n",
       " [0.004409675341602716 -0.329332289466886 … 1.7111116040398506 1.7621242063248979; 0.001377985925281954 0.1023941692886909 … 0.6033371286435009 0.07841304615386116; 0.0005300777523930305 0.0891264185142459 … 0.4253453255859466 0.26201342958660945]\n",
       " [0.0043901195964731205 -0.3518216439889194 … 1.6087240227022888 1.7205175349808646; 0.001453310590080467 -0.23621416709644585 … 0.7759096824609255 0.2650684078864445; 0.0005628589776635294 -0.08940319539725256 … 0.4863455917303596 0.37838659822615317]\n",
       " [0.004368507787596516 -0.08996974533057274 … 1.489397188343108 1.6585834959647079; 0.0015281757985635656 -0.40560767506758777 … 0.940298957473372 0.4486024572832276; 0.0005955041913976676 -0.20706809593917955 … 0.5422142112582421 0.4902853035338382]\n",
       " [0.004344883168004751 0.23183764267789442 … 1.3541835933890183 1.5772260020572373; 0.0016024501703964294 -0.3144946387671114 … 1.0946415950021255 0.6268929612866272; 0.0006279467776875399 -0.19181695831858298 … 0.5922871298602373 0.5964380718538209]\n",
       " [0.004319333586611724 0.35805131404210416 … 1.2044440717820362 1.4777711574991166; 0.0016760355903284677 0.013899156983566835 … 1.2372212149197557 0.7979996768558573; 0.0006601333794229989 -0.029528830595222853 … 0.6359928840552797 0.6957425623232404]\n",
       " ⋮\n",
       " [-0.0038540535061867874 -0.21964623153116178 … 1.9400452160249977 -0.7226664631859427; 0.002486305715286281 -0.36722361660742614 … -0.5774973801269766 2.0069962907417764; 0.0010855405297604116 -0.17403101708387167 … -0.038472806778788254 1.209561712214167]\n",
       " [-0.0038923752241767622 0.10525885547261978 … 1.9507434603176643 -0.8919925626587707; 0.002406895825674077 -0.38162740443881454 … -0.3974550268231441 2.0167931776019006; 0.001052093261673385 -0.2154077479994035 … 0.037011108888135504 1.195218289263858]\n",
       " [-0.003928387598033911 0.3442901651497901 … 1.9450795643619812 -1.0575610131997017; 0.0023267057614615038 -0.1331888926714905 … -0.21407928959909278 2.018050419097128; 0.0010182379378182867 -0.10747591088919584 … 0.112186955244189 1.1758114886399578]\n",
       " [-0.003962053761703936 0.19979126326020868 … 1.9223105369519304 -1.218953256262962; 0.0022458763345629524 0.22082042123192105 … -0.028818546869279146 2.0113054392753287; 0.0009840354554866405 0.09661579134275791 … 0.1863800156640303 1.1517400468672296]\n",
       " [-0.003993433755473201 -0.2613916614734538 … 1.881875050023646 -1.3758246393005025; 0.002164586465616085 0.18399137034379626 … 0.15671271817320762 1.9970750204829033; 0.0009495780232226733 0.12476552884372163 … 0.25886566413325074 1.1233803141714196]\n",
       " [-0.004022710490244122 -0.3907160800016659 … 1.823437622243921 -1.5278935087640304; 0.002082886382465827 -0.15792145252006146 … 0.34075451689043823 1.9758528385879637; 0.0009149042358391235 -0.04446202735484692 … 0.3288824158247493 1.0910859946369194]\n",
       " [-0.004049970089895531 -0.17958216592659831 … 1.74692985953482 -1.6749316803266072; 0.002000729759803615 -0.3851380399538207 … 0.5214338087213665 1.9481082127697824; 0.0008799947720551678 -0.18772125397860245 … 0.39564957394579603 1.0551885034112207]\n",
       " [-0.004075248516543097 0.14824794306027014 … 1.6525845635036567 -1.8167561903612859; 0.001918075163719247 -0.3632167863902578 … 0.6968088586265201 1.9142857395378556; 0.0008448322147191622 -0.20999575948261448 … 0.45838906131208706 1.0159977388787482]\n",
       " [-0.004098546751913977 0.35396008920404104 … 1.5409583122455954 -1.95322220515029; 0.0018348674153943374 -0.08404812456464884 … 0.8649240843371473 1.874805555430094; 0.0008093926766268518 -0.08219232791175102 … 0.5163503993975243 0.9738031191696325]\n",
       " [-0.004119807957772913 0.14115130481497887 … 1.412938610799133 -2.0842169560461805; 0.001751067802054917 0.24866986486248419 … 1.0238723424859664 1.8300640312334424; 0.0007736586727026141 0.11761013111881687 … 0.5688371728846021 0.9288747719432109]\n",
       " [-0.004139000135083606 -0.30574980762891385 … 1.269732985287146 -2.2096545742518434; 0.0016666879020155055 0.14250214104688608 … 1.1718601192218703 1.7804347509484995; 0.0007376440772716502 0.10724107513033909 … 0.6152328363440769 0.881464798871315]\n",
       " [-0.004156110758753513 -0.3771879405626293 … 1.112839347897845 -2.329471706203694; 0.0015816479805939102 -0.20095837118671242 … 1.3072701279789256 1.7262696694192685; 0.0007013157842784 -0.06881391127659298 … 0.6550235222801511 0.8318085606982172]"
      ]
     },
     "execution_count": 31,
     "metadata": {},
     "output_type": "execute_result"
    }
   ],
   "source": [
    "q1=[u[:,:,1] for u in sol1.u]"
   ]
  },
  {
   "cell_type": "code",
   "execution_count": null,
   "metadata": {},
   "outputs": [],
   "source": []
  }
 ],
 "metadata": {
  "@webio": {
   "lastCommId": null,
   "lastKernelId": null
  },
  "kernelspec": {
   "display_name": "Julia 1.6.6",
   "language": "julia",
   "name": "julia-1.6"
  },
  "language_info": {
   "file_extension": ".jl",
   "mimetype": "application/julia",
   "name": "julia",
   "version": "1.6.6"
  }
 },
 "nbformat": 4,
 "nbformat_minor": 2
}
