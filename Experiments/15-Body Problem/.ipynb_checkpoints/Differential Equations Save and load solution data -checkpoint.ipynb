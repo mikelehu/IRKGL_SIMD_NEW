{
 "cells": [
  {
   "cell_type": "markdown",
   "id": "ba7f168a",
   "metadata": {},
   "source": [
    "# I/O: Saving and Loading Solution Data\n",
    "https://docs.sciml.ai/DiffEqDocs/stable/features/io/"
   ]
  },
  {
   "cell_type": "code",
   "execution_count": 1,
   "id": "ddc8332a",
   "metadata": {},
   "outputs": [],
   "source": [
    "using OrdinaryDiffEq, JLD2"
   ]
  },
  {
   "cell_type": "code",
   "execution_count": 6,
   "id": "993f519f",
   "metadata": {},
   "outputs": [
    {
     "name": "stderr",
     "output_type": "stream",
     "text": [
      "┌ Warning: Backwards compatability support of the new return codes to Symbols will be deprecated with the Julia v1.9 release. Please see https://docs.sciml.ai/SciMLBase/stable/interfaces/Solutions/#retcodes for more information\n",
      "└ @ SciMLBase /home/mikel/.julia/packages/SciMLBase/VKnrY/src/retcodes.jl:360\n"
     ]
    }
   ],
   "source": [
    "f_2dlinear = (du,u,p,t) -> du.=1.01u;\n",
    "tspan = (0.0,1.0)\n",
    "prob = ODEProblem(f_2dlinear,rand(2,2),tspan);\n",
    "sol1 =solve(prob,Euler();dt=1//2^(4));"
   ]
  },
  {
   "cell_type": "code",
   "execution_count": 7,
   "id": "b5cbb158",
   "metadata": {},
   "outputs": [
    {
     "data": {
      "text/plain": [
       "17-element Vector{Matrix{Float64}}:\n",
       " [0.22213190019756857 0.8364985833289176; 0.7660215262620491 0.2640951535785254]\n",
       " [0.23615397639754007 0.8893025564015555; 0.8143766351073409 0.28076616014816985]\n",
       " [0.2510611961576348 0.9454397802744037; 0.8657841601984918 0.2984895240075231]\n",
       " [0.2669094341650855 1.0051206664042254; 0.9204367853110216 0.317331675210498]\n",
       " [0.2837580921967565 1.0685689084709922; 0.9785393573837798 0.3373632372081607]\n",
       " [0.3016703217666768 1.1360223208182236; 1.040309654318631 0.35865929155692583]\n",
       " [0.3207132608281983 1.207733729819874; 1.1059792012474945 0.38129965933645676]\n",
       " [0.3409582854179783 1.2839719215147536; 1.1757941383262427 0.4053692003320706]\n",
       " [0.3624812771849882 1.3650226490603723; 1.2500161433080867 0.43095813110303255]\n",
       " [0.38536290780729054 1.4511897037823083; 1.3289234123544098 0.45816236312891145]\n",
       " [0.40968894136262574 1.5427960538335665; 1.412811702759282 0.487083862301424]\n",
       " [0.4355505557861415 1.6401850547318104; 1.5019954414959615 0.5178310311092014]\n",
       " [0.4630446846201417 1.7437217363117559; 1.596808903740394 0.5505191149479697]\n",
       " [0.49227438033678816 1.8537941709164354; 1.6976074657890066 0.5852706340790602]\n",
       " [0.5233492005955479 1.9708149279555354; 1.8047689370669375 0.6222158428553008]\n",
       " [0.5563856188831419 2.0952226202827284; 1.918694976219288 0.6614932179355417]\n",
       " [0.5915074610751402 2.2274835481880757; 2.0398125965931304 0.7032499773177228]"
      ]
     },
     "execution_count": 7,
     "metadata": {},
     "output_type": "execute_result"
    }
   ],
   "source": [
    "sol1.u"
   ]
  },
  {
   "cell_type": "code",
   "execution_count": 4,
   "id": "39a7bd1e",
   "metadata": {},
   "outputs": [],
   "source": [
    "@save \"out.jld2\" sol1"
   ]
  },
  {
   "cell_type": "code",
   "execution_count": 2,
   "id": "76b789b2",
   "metadata": {},
   "outputs": [
    {
     "name": "stderr",
     "output_type": "stream",
     "text": [
      "┌ Warning: type JLD2.ReconstructedTypes.##ODEFunction{true,SciMLBase.AutoSpecialize,Main.#5#6,LinearAlgebra.UniformScaling{Bool},Nothing,Nothing,Nothing,Nothing,Nothing,Nothing,Nothing,Nothing,Nothing,Nothing,Nothing,Nothing,Nothing,typeof(SciMLBase.DEFAULT_OBSERVED),Nothing,Nothing}#275 does not exist in workspace; reconstructing\n",
      "└ @ JLD2 /home/mikel/.julia/packages/JLD2/k9Gt0/src/data/reconstructing_datatypes.jl:461\n"
     ]
    },
    {
     "data": {
      "text/plain": [
       "1-element Vector{Symbol}:\n",
       " :sol1"
      ]
     },
     "execution_count": 2,
     "metadata": {},
     "output_type": "execute_result"
    }
   ],
   "source": [
    "JLD2.@load \"out.jld2\" sol1"
   ]
  },
  {
   "cell_type": "code",
   "execution_count": 6,
   "id": "6a19aaac",
   "metadata": {},
   "outputs": [
    {
     "data": {
      "text/plain": [
       "17-element Vector{Matrix{Float64}}:\n",
       " [0.22213190019756857 0.8364985833289176; 0.7660215262620491 0.2640951535785254]\n",
       " [0.23615397639754007 0.8893025564015555; 0.8143766351073409 0.28076616014816985]\n",
       " [0.2510611961576348 0.9454397802744037; 0.8657841601984918 0.2984895240075231]\n",
       " [0.2669094341650855 1.0051206664042254; 0.9204367853110216 0.317331675210498]\n",
       " [0.2837580921967565 1.0685689084709922; 0.9785393573837798 0.3373632372081607]\n",
       " [0.3016703217666768 1.1360223208182236; 1.040309654318631 0.35865929155692583]\n",
       " [0.3207132608281983 1.207733729819874; 1.1059792012474945 0.38129965933645676]\n",
       " [0.3409582854179783 1.2839719215147536; 1.1757941383262427 0.4053692003320706]\n",
       " [0.3624812771849882 1.3650226490603723; 1.2500161433080867 0.43095813110303255]\n",
       " [0.38536290780729054 1.4511897037823083; 1.3289234123544098 0.45816236312891145]\n",
       " [0.40968894136262574 1.5427960538335665; 1.412811702759282 0.487083862301424]\n",
       " [0.4355505557861415 1.6401850547318104; 1.5019954414959615 0.5178310311092014]\n",
       " [0.4630446846201417 1.7437217363117559; 1.596808903740394 0.5505191149479697]\n",
       " [0.49227438033678816 1.8537941709164354; 1.6976074657890066 0.5852706340790602]\n",
       " [0.5233492005955479 1.9708149279555354; 1.8047689370669375 0.6222158428553008]\n",
       " [0.5563856188831419 2.0952226202827284; 1.918694976219288 0.6614932179355417]\n",
       " [0.5915074610751402 2.2274835481880757; 2.0398125965931304 0.7032499773177228]"
      ]
     },
     "execution_count": 6,
     "metadata": {},
     "output_type": "execute_result"
    }
   ],
   "source": [
    "sol1.u"
   ]
  },
  {
   "cell_type": "code",
   "execution_count": null,
   "id": "fbcf4b08",
   "metadata": {},
   "outputs": [],
   "source": []
  }
 ],
 "metadata": {
  "kernelspec": {
   "display_name": "Julia 1.6.6",
   "language": "julia",
   "name": "julia-1.6"
  },
  "language_info": {
   "file_extension": ".jl",
   "mimetype": "application/julia",
   "name": "julia",
   "version": "1.6.6"
  }
 },
 "nbformat": 4,
 "nbformat_minor": 5
}
