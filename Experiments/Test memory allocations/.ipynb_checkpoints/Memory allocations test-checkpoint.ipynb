{
 "cells": [
  {
   "cell_type": "markdown",
   "metadata": {},
   "source": [
    "# Memory allocations test"
   ]
  },
  {
   "cell_type": "markdown",
   "metadata": {},
   "source": [
    "## Loading packages and functions"
   ]
  },
  {
   "cell_type": "code",
   "execution_count": 1,
   "metadata": {},
   "outputs": [],
   "source": [
    "using LinearAlgebra\n",
    "using Plots"
   ]
  },
  {
   "cell_type": "code",
   "execution_count": 2,
   "metadata": {},
   "outputs": [],
   "source": [
    "PATH_SRC=\"../../src_simd/\"\n",
    "include(string(PATH_SRC,\"IRKGL_SIMD.jl\"))\n",
    "using .IRKGL_SIMD   \n",
    "\n",
    "\n",
    "PATH_SRC=\"../../src_seq/\"\n",
    "include(string(PATH_SRC,\"IRKGL_SEQ.jl\"))\n",
    "using .IRKGL_SEQ  "
   ]
  },
  {
   "cell_type": "markdown",
   "metadata": {},
   "source": [
    "\n",
    "\n",
    "## Definition of the N-body problem\n",
    "\n",
    "In Nbody.jl below, the following functions are defined: NbodyEnergy(u,Gm), NbodyODE!(du,u,Gm,t), and NbodyODE1!(du,u,Gm,t), where\n",
    "\n",
    "\\begin{equation*}\n",
    "u = \n",
    "\\left(\\begin{matrix}\n",
    "q_1  & v_1\\\\\n",
    "\\vdots & \\vdots \\\\\n",
    "q_N  & v_N\n",
    "\\end{matrix}\n",
    "\\right) \\in \\mathbb{R}^{2 \\times 3\\times N}, \\quad\n",
    "Gm = (G\\,  m_1, \\ldots,G\\,  m_N) \\in \\mathbb{R}^N.\n",
    "\\end{equation*}"
   ]
  },
  {
   "cell_type": "markdown",
   "metadata": {},
   "source": [
    "The energy, as a function of the positions $q_1,\\ldots,q_N \\in \\mathbb{R}^3$ and the velocities $v_1,\\ldots,v_N \\in \\mathbb{R}^3$ of the $N$ bodies is:\n",
    "\\begin{equation*}\n",
    "\\begin{split}\n",
    "\\mathrm{Energy}(q_1,\\ldots,q_N,v_1,\\ldots,v_N) = \n",
    "\\frac12 \\sum_{i=1}^{N} m_i \\, \\|v_i\\|^2\n",
    "- G \\sum_{1\\leq i < j \\leq N} \\frac{m_i m_j}{\\|q_i-q_j\\|}.\n",
    "\\end{split}\n",
    "\\end{equation*}\n",
    "\n",
    "\n",
    "The ODE system of the N-body problem,\n",
    "as a function of the positions $q_1,\\ldots,q_N \\in \\mathbb{R}^3$ and the velocities $v_1,\\ldots,v_N \\in \\mathbb{R}^3$ of the $N$ bodies is:\n",
    "\\begin{equation*}\n",
    "\\begin{split}\n",
    "\\frac{d}{dt} q_i &= v_i, \\\\\n",
    "\\frac{d}{dt} v_i &= G\\, \n",
    "\\sum_{j \\neq i} \\frac{m_j}{\\|q_j-q_i\\|^3}\\,\n",
    "(q_j-q_i).\n",
    "\\end{split}\n",
    "\\end{equation*}\n",
    "This system of ODEs can be writen in compact form as\n",
    "\\begin{equation*}\n",
    "\\frac{d u}{dt} = f(t,u,Gm)\n",
    "\\end{equation*}\n",
    "\n",
    "\n"
   ]
  },
  {
   "cell_type": "code",
   "execution_count": 3,
   "metadata": {},
   "outputs": [
    {
     "data": {
      "text/plain": [
       "NbodyODE! (generic function with 2 methods)"
      ]
     },
     "execution_count": 3,
     "metadata": {},
     "output_type": "execute_result"
    }
   ],
   "source": [
    "PATH_ODES=\"../../ODEProblems/\"\n",
    "\n",
    "include(string(PATH_ODES,\"Initial5Body.jl\"))\n",
    "include(string(PATH_ODES,\"Nbody.jl\"))"
   ]
  },
  {
   "cell_type": "markdown",
   "metadata": {},
   "source": [
    "##### <a href=\"#top\">Back to the top</a>\n",
    "\n",
    "## Initial value problem: 5-body problem (outer solar system)\n",
    "\n",
    "We consider $N=5$ bodies of the outer solar system: the Sun, Jupiter, Saturn, Uranus, and Neptune.\n",
    "The initial values $u_{00}$ are taken from DE430, Julian day (TDB) 2440400.5 (June 28, 1969). "
   ]
  },
  {
   "cell_type": "code",
   "execution_count": 4,
   "metadata": {},
   "outputs": [
    {
     "name": "stdout",
     "output_type": "stream",
     "text": [
      "[\"Sun\" \"Jupiter\" \"Saturn\" \"Uranus\" \"Neptune\"]"
     ]
    },
    {
     "data": {
      "text/plain": [
       "-9.522696242724855e-12"
      ]
     },
     "execution_count": 4,
     "metadata": {},
     "output_type": "execute_result"
    }
   ],
   "source": [
    "u0, Gm, bodylist = Initial5Body(Float64)\n",
    "u0_B, Gm_B, bodylist = Initial5Body(BigFloat)\n",
    "q0=u0[:,:,1]\n",
    "v0=u0[:,:,2]\n",
    "dim=length(size(u0))\n",
    "\n",
    "N = length(Gm)\n",
    "\n",
    "show(bodylist)\n",
    "E0=NbodyEnergy(u0,Gm)"
   ]
  },
  {
   "cell_type": "markdown",
   "metadata": {},
   "source": [
    "##### <a href=\"#top\">Back to the top</a>\n",
    "\n",
    "## Memory allocations"
   ]
  },
  {
   "cell_type": "code",
   "execution_count": 5,
   "metadata": {},
   "outputs": [],
   "source": [
    "t0 = 0.\n",
    "dt = 500.  # 500.\n",
    "\n",
    "tF = 100*dt\n",
    "tF2 = 2*tF\n",
    "tF4 = 4*tF\n",
    "\n",
    "prob = ODEProblem(NbodyODE!, u0, (t0,tF), Gm)\n",
    "prob2 = ODEProblem(NbodyODE!, u0, (t0,tF2), Gm)\n",
    "prob4 = ODEProblem(NbodyODE!, u0, (t0,tF4), Gm);"
   ]
  },
  {
   "cell_type": "markdown",
   "metadata": {},
   "source": [
    "### Sequential version"
   ]
  },
  {
   "cell_type": "code",
   "execution_count": 6,
   "metadata": {},
   "outputs": [],
   "source": [
    "alg_seq=IRKGL_Seq(s=8)\n",
    "\n",
    "solx=solve(prob,alg_seq,dt=dt, save_everystep=false);\n",
    "solx2=solve(prob2,alg_seq,dt=dt, save_everystep=false)\n",
    "solx4=solve(prob4,alg_seq,dt=dt, save_everystep=false);\n"
   ]
  },
  {
   "cell_type": "code",
   "execution_count": 7,
   "metadata": {},
   "outputs": [
    {
     "name": "stdout",
     "output_type": "stream",
     "text": [
      "Success,tspan=(0.0, 50000.0),length(solx.t)=2\n",
      "  0.004375 seconds (540 allocations: 48.086 KiB)\n"
     ]
    }
   ],
   "source": [
    "println(solx.retcode,\",tspan=\",prob.tspan,\",length(solx.t)=\",length(solx.t))\n",
    "@time solve(prob,alg_seq,dt=dt, save_everystep=false);"
   ]
  },
  {
   "cell_type": "code",
   "execution_count": 8,
   "metadata": {},
   "outputs": [
    {
     "name": "stdout",
     "output_type": "stream",
     "text": [
      "Success,tspan=(0.0, 100000.0),length(solx2.t)=2\n",
      "  0.008759 seconds (540 allocations: 48.086 KiB)\n"
     ]
    }
   ],
   "source": [
    "println(solx2.retcode,\",tspan=\",prob2.tspan,\",length(solx2.t)=\",length(solx2.t))\n",
    "@time solve(prob2,alg_seq,dt=dt, save_everystep=false);"
   ]
  },
  {
   "cell_type": "code",
   "execution_count": 9,
   "metadata": {},
   "outputs": [
    {
     "name": "stdout",
     "output_type": "stream",
     "text": [
      "Success,tspan=(0.0, 200000.0),length(solx4.t)=2\n",
      "  0.017696 seconds (540 allocations: 48.086 KiB)\n"
     ]
    }
   ],
   "source": [
    "println(solx4.retcode,\",tspan=\",prob4.tspan,\",length(solx4.t)=\",length(solx4.t))\n",
    "@time solve(prob4,alg_seq,dt=dt, save_everystep=false);"
   ]
  },
  {
   "cell_type": "markdown",
   "metadata": {},
   "source": [
    "### Simd version"
   ]
  },
  {
   "cell_type": "code",
   "execution_count": 10,
   "metadata": {},
   "outputs": [],
   "source": [
    "alg_simd=IRKGL_simd(s=8)\n",
    "\n",
    "\n",
    "solx=solve(prob,alg_simd,dt=dt, save_everystep=false)\n",
    "solx2=solve(prob2,alg_simd,dt=dt, save_everystep=false)\n",
    "solx4=solve(prob4,alg_simd,dt=dt, save_everystep=false);\n"
   ]
  },
  {
   "cell_type": "code",
   "execution_count": 11,
   "metadata": {},
   "outputs": [
    {
     "name": "stdout",
     "output_type": "stream",
     "text": [
      "Success,tspan=(0.0, 50000.0),length(solx.t)=2\n",
      "  0.000817 seconds (507 allocations: 44.055 KiB)\n"
     ]
    }
   ],
   "source": [
    "println(solx.retcode,\",tspan=\",prob.tspan,\",length(solx.t)=\",length(solx.t))\n",
    "@time solve(prob,alg_simd,dt=dt, save_everystep=false);"
   ]
  },
  {
   "cell_type": "code",
   "execution_count": 12,
   "metadata": {},
   "outputs": [
    {
     "name": "stdout",
     "output_type": "stream",
     "text": [
      "Success,tspan=(0.0, 100000.0),length(solx2.t)=2\n",
      "  0.001577 seconds (507 allocations: 44.055 KiB)\n"
     ]
    }
   ],
   "source": [
    "println(solx2.retcode,\",tspan=\",prob2.tspan,\",length(solx2.t)=\",length(solx2.t))\n",
    "@time solve(prob2,alg_simd,dt=dt, save_everystep=false);"
   ]
  },
  {
   "cell_type": "code",
   "execution_count": 13,
   "metadata": {},
   "outputs": [
    {
     "name": "stdout",
     "output_type": "stream",
     "text": [
      "Success,tspan=(0.0, 200000.0),length(solx4.t)=2\n",
      "  0.003351 seconds (507 allocations: 44.055 KiB)\n"
     ]
    }
   ],
   "source": [
    "println(solx4.retcode,\",tspan=\",prob4.tspan,\",length(solx4.t)=\",length(solx4.t))\n",
    "@time solve(prob4,alg_simd,dt=dt, save_everystep=false);"
   ]
  },
  {
   "cell_type": "markdown",
   "metadata": {},
   "source": [
    "### Errors in Energy"
   ]
  },
  {
   "cell_type": "code",
   "execution_count": 14,
   "metadata": {},
   "outputs": [
    {
     "name": "stdout",
     "output_type": "stream",
     "text": [
      "Success,length(sol1.t)=201\n"
     ]
    }
   ],
   "source": [
    "sol1=solve(prob,alg_seq,dt=dt/2, adaptive=false)\n",
    "println(sol1.retcode,\",length(sol1.t)=\",length(sol1.t))\n",
    "\n",
    "sol2=solve(prob,alg_simd,dt=dt/2, adaptive=false)\n",
    "println(sol2.retcode,\",length(sol2.t)=\",length(sol2.t))"
   ]
  },
  {
   "cell_type": "code",
   "execution_count": 16,
   "metadata": {},
   "outputs": [
    {
     "data": {
      "image/svg+xml": [
       "<?xml version=\"1.0\" encoding=\"utf-8\"?>\n",
       "<svg xmlns=\"http://www.w3.org/2000/svg\" xmlns:xlink=\"http://www.w3.org/1999/xlink\" width=\"600\" height=\"400\" viewBox=\"0 0 2400 1600\">\n",
       "<defs>\n",
       "  <clipPath id=\"clip430\">\n",
       "    <rect x=\"0\" y=\"0\" width=\"2400\" height=\"1600\"/>\n",
       "  </clipPath>\n",
       "</defs>\n",
       "<path clip-path=\"url(#clip430)\" d=\"M0 1600 L2400 1600 L2400 0 L0 0  Z\" fill=\"#ffffff\" fill-rule=\"evenodd\" fill-opacity=\"1\"/>\n",
       "<defs>\n",
       "  <clipPath id=\"clip431\">\n",
       "    <rect x=\"480\" y=\"0\" width=\"1681\" height=\"1600\"/>\n",
       "  </clipPath>\n",
       "</defs>\n",
       "<path clip-path=\"url(#clip430)\" d=\"M277.27 1423.18 L2352.76 1423.18 L2352.76 123.472 L277.27 123.472  Z\" fill=\"#ffffff\" fill-rule=\"evenodd\" fill-opacity=\"1\"/>\n",
       "<defs>\n",
       "  <clipPath id=\"clip432\">\n",
       "    <rect x=\"277\" y=\"123\" width=\"2076\" height=\"1301\"/>\n",
       "  </clipPath>\n",
       "</defs>\n",
       "<polyline clip-path=\"url(#clip432)\" style=\"stroke:#000000; stroke-linecap:round; stroke-linejoin:round; stroke-width:2; stroke-opacity:0.1; fill:none\" points=\"336.011,1423.18 336.011,123.472 \"/>\n",
       "<polyline clip-path=\"url(#clip432)\" style=\"stroke:#000000; stroke-linecap:round; stroke-linejoin:round; stroke-width:2; stroke-opacity:0.1; fill:none\" points=\"693.591,1423.18 693.591,123.472 \"/>\n",
       "<polyline clip-path=\"url(#clip432)\" style=\"stroke:#000000; stroke-linecap:round; stroke-linejoin:round; stroke-width:2; stroke-opacity:0.1; fill:none\" points=\"1051.17,1423.18 1051.17,123.472 \"/>\n",
       "<polyline clip-path=\"url(#clip432)\" style=\"stroke:#000000; stroke-linecap:round; stroke-linejoin:round; stroke-width:2; stroke-opacity:0.1; fill:none\" points=\"1408.75,1423.18 1408.75,123.472 \"/>\n",
       "<polyline clip-path=\"url(#clip432)\" style=\"stroke:#000000; stroke-linecap:round; stroke-linejoin:round; stroke-width:2; stroke-opacity:0.1; fill:none\" points=\"1766.33,1423.18 1766.33,123.472 \"/>\n",
       "<polyline clip-path=\"url(#clip432)\" style=\"stroke:#000000; stroke-linecap:round; stroke-linejoin:round; stroke-width:2; stroke-opacity:0.1; fill:none\" points=\"2123.91,1423.18 2123.91,123.472 \"/>\n",
       "<polyline clip-path=\"url(#clip430)\" style=\"stroke:#000000; stroke-linecap:round; stroke-linejoin:round; stroke-width:4; stroke-opacity:1; fill:none\" points=\"277.27,1423.18 2352.76,1423.18 \"/>\n",
       "<polyline clip-path=\"url(#clip430)\" style=\"stroke:#000000; stroke-linecap:round; stroke-linejoin:round; stroke-width:4; stroke-opacity:1; fill:none\" points=\"336.011,1423.18 336.011,1404.28 \"/>\n",
       "<polyline clip-path=\"url(#clip430)\" style=\"stroke:#000000; stroke-linecap:round; stroke-linejoin:round; stroke-width:4; stroke-opacity:1; fill:none\" points=\"693.591,1423.18 693.591,1404.28 \"/>\n",
       "<polyline clip-path=\"url(#clip430)\" style=\"stroke:#000000; stroke-linecap:round; stroke-linejoin:round; stroke-width:4; stroke-opacity:1; fill:none\" points=\"1051.17,1423.18 1051.17,1404.28 \"/>\n",
       "<polyline clip-path=\"url(#clip430)\" style=\"stroke:#000000; stroke-linecap:round; stroke-linejoin:round; stroke-width:4; stroke-opacity:1; fill:none\" points=\"1408.75,1423.18 1408.75,1404.28 \"/>\n",
       "<polyline clip-path=\"url(#clip430)\" style=\"stroke:#000000; stroke-linecap:round; stroke-linejoin:round; stroke-width:4; stroke-opacity:1; fill:none\" points=\"1766.33,1423.18 1766.33,1404.28 \"/>\n",
       "<polyline clip-path=\"url(#clip430)\" style=\"stroke:#000000; stroke-linecap:round; stroke-linejoin:round; stroke-width:4; stroke-opacity:1; fill:none\" points=\"2123.91,1423.18 2123.91,1404.28 \"/>\n",
       "<path clip-path=\"url(#clip430)\" d=\"M336.011 1454.1 Q332.4 1454.1 330.571 1457.66 Q328.765 1461.2 328.765 1468.33 Q328.765 1475.44 330.571 1479.01 Q332.4 1482.55 336.011 1482.55 Q339.645 1482.55 341.45 1479.01 Q343.279 1475.44 343.279 1468.33 Q343.279 1461.2 341.45 1457.66 Q339.645 1454.1 336.011 1454.1 M336.011 1450.39 Q341.821 1450.39 344.876 1455 Q347.955 1459.58 347.955 1468.33 Q347.955 1477.06 344.876 1481.67 Q341.821 1486.25 336.011 1486.25 Q330.2 1486.25 327.122 1481.67 Q324.066 1477.06 324.066 1468.33 Q324.066 1459.58 327.122 1455 Q330.2 1450.39 336.011 1450.39 Z\" fill=\"#000000\" fill-rule=\"nonzero\" fill-opacity=\"1\" /><path clip-path=\"url(#clip430)\" d=\"M672.862 1481.64 L689.182 1481.64 L689.182 1485.58 L667.237 1485.58 L667.237 1481.64 Q669.899 1478.89 674.483 1474.26 Q679.089 1469.61 680.27 1468.27 Q682.515 1465.74 683.395 1464.01 Q684.297 1462.25 684.297 1460.56 Q684.297 1457.8 682.353 1456.07 Q680.432 1454.33 677.33 1454.33 Q675.131 1454.33 672.677 1455.09 Q670.247 1455.86 667.469 1457.41 L667.469 1452.69 Q670.293 1451.55 672.747 1450.97 Q675.2 1450.39 677.237 1450.39 Q682.608 1450.39 685.802 1453.08 Q688.996 1455.77 688.996 1460.26 Q688.996 1462.39 688.186 1464.31 Q687.399 1466.2 685.293 1468.8 Q684.714 1469.47 681.612 1472.69 Q678.51 1475.88 672.862 1481.64 Z\" fill=\"#000000\" fill-rule=\"nonzero\" fill-opacity=\"1\" /><path clip-path=\"url(#clip430)\" d=\"M699.043 1451.02 L717.399 1451.02 L717.399 1454.96 L703.325 1454.96 L703.325 1463.43 Q704.344 1463.08 705.362 1462.92 Q706.381 1462.73 707.399 1462.73 Q713.186 1462.73 716.566 1465.9 Q719.945 1469.08 719.945 1474.49 Q719.945 1480.07 716.473 1483.17 Q713.001 1486.25 706.682 1486.25 Q704.506 1486.25 702.237 1485.88 Q699.992 1485.51 697.584 1484.77 L697.584 1480.07 Q699.668 1481.2 701.89 1481.76 Q704.112 1482.32 706.589 1482.32 Q710.594 1482.32 712.931 1480.21 Q715.269 1478.1 715.269 1474.49 Q715.269 1470.88 712.931 1468.77 Q710.594 1466.67 706.589 1466.67 Q704.714 1466.67 702.839 1467.08 Q700.987 1467.5 699.043 1468.38 L699.043 1451.02 Z\" fill=\"#000000\" fill-rule=\"nonzero\" fill-opacity=\"1\" /><path clip-path=\"url(#clip430)\" d=\"M1025.87 1451.02 L1044.23 1451.02 L1044.23 1454.96 L1030.15 1454.96 L1030.15 1463.43 Q1031.17 1463.08 1032.19 1462.92 Q1033.21 1462.73 1034.23 1462.73 Q1040.01 1462.73 1043.39 1465.9 Q1046.77 1469.08 1046.77 1474.49 Q1046.77 1480.07 1043.3 1483.17 Q1039.83 1486.25 1033.51 1486.25 Q1031.33 1486.25 1029.07 1485.88 Q1026.82 1485.51 1024.41 1484.77 L1024.41 1480.07 Q1026.5 1481.2 1028.72 1481.76 Q1030.94 1482.32 1033.42 1482.32 Q1037.42 1482.32 1039.76 1480.21 Q1042.1 1478.1 1042.1 1474.49 Q1042.1 1470.88 1039.76 1468.77 Q1037.42 1466.67 1033.42 1466.67 Q1031.54 1466.67 1029.67 1467.08 Q1027.82 1467.5 1025.87 1468.38 L1025.87 1451.02 Z\" fill=\"#000000\" fill-rule=\"nonzero\" fill-opacity=\"1\" /><path clip-path=\"url(#clip430)\" d=\"M1065.99 1454.1 Q1062.38 1454.1 1060.55 1457.66 Q1058.74 1461.2 1058.74 1468.33 Q1058.74 1475.44 1060.55 1479.01 Q1062.38 1482.55 1065.99 1482.55 Q1069.62 1482.55 1071.43 1479.01 Q1073.26 1475.44 1073.26 1468.33 Q1073.26 1461.2 1071.43 1457.66 Q1069.62 1454.1 1065.99 1454.1 M1065.99 1450.39 Q1071.8 1450.39 1074.85 1455 Q1077.93 1459.58 1077.93 1468.33 Q1077.93 1477.06 1074.85 1481.67 Q1071.8 1486.25 1065.99 1486.25 Q1060.18 1486.25 1057.1 1481.67 Q1054.04 1477.06 1054.04 1468.33 Q1054.04 1459.58 1057.1 1455 Q1060.18 1450.39 1065.99 1450.39 Z\" fill=\"#000000\" fill-rule=\"nonzero\" fill-opacity=\"1\" /><path clip-path=\"url(#clip430)\" d=\"M1382.61 1451.02 L1404.83 1451.02 L1404.83 1453.01 L1392.28 1485.58 L1387.4 1485.58 L1399.2 1454.96 L1382.61 1454.96 L1382.61 1451.02 Z\" fill=\"#000000\" fill-rule=\"nonzero\" fill-opacity=\"1\" /><path clip-path=\"url(#clip430)\" d=\"M1414 1451.02 L1432.35 1451.02 L1432.35 1454.96 L1418.28 1454.96 L1418.28 1463.43 Q1419.3 1463.08 1420.32 1462.92 Q1421.33 1462.73 1422.35 1462.73 Q1428.14 1462.73 1431.52 1465.9 Q1434.9 1469.08 1434.9 1474.49 Q1434.9 1480.07 1431.43 1483.17 Q1427.95 1486.25 1421.63 1486.25 Q1419.46 1486.25 1417.19 1485.88 Q1414.94 1485.51 1412.54 1484.77 L1412.54 1480.07 Q1414.62 1481.2 1416.84 1481.76 Q1419.07 1482.32 1421.54 1482.32 Q1425.55 1482.32 1427.88 1480.21 Q1430.22 1478.1 1430.22 1474.49 Q1430.22 1470.88 1427.88 1468.77 Q1425.55 1466.67 1421.54 1466.67 Q1419.67 1466.67 1417.79 1467.08 Q1415.94 1467.5 1414 1468.38 L1414 1451.02 Z\" fill=\"#000000\" fill-rule=\"nonzero\" fill-opacity=\"1\" /><path clip-path=\"url(#clip430)\" d=\"M1725.94 1481.64 L1733.58 1481.64 L1733.58 1455.28 L1725.27 1456.95 L1725.27 1452.69 L1733.53 1451.02 L1738.21 1451.02 L1738.21 1481.64 L1745.85 1481.64 L1745.85 1485.58 L1725.94 1485.58 L1725.94 1481.64 Z\" fill=\"#000000\" fill-rule=\"nonzero\" fill-opacity=\"1\" /><path clip-path=\"url(#clip430)\" d=\"M1765.29 1454.1 Q1761.68 1454.1 1759.85 1457.66 Q1758.05 1461.2 1758.05 1468.33 Q1758.05 1475.44 1759.85 1479.01 Q1761.68 1482.55 1765.29 1482.55 Q1768.93 1482.55 1770.73 1479.01 Q1772.56 1475.44 1772.56 1468.33 Q1772.56 1461.2 1770.73 1457.66 Q1768.93 1454.1 1765.29 1454.1 M1765.29 1450.39 Q1771.1 1450.39 1774.16 1455 Q1777.24 1459.58 1777.24 1468.33 Q1777.24 1477.06 1774.16 1481.67 Q1771.1 1486.25 1765.29 1486.25 Q1759.48 1486.25 1756.4 1481.67 Q1753.35 1477.06 1753.35 1468.33 Q1753.35 1459.58 1756.4 1455 Q1759.48 1450.39 1765.29 1450.39 Z\" fill=\"#000000\" fill-rule=\"nonzero\" fill-opacity=\"1\" /><path clip-path=\"url(#clip430)\" d=\"M1795.45 1454.1 Q1791.84 1454.1 1790.01 1457.66 Q1788.21 1461.2 1788.21 1468.33 Q1788.21 1475.44 1790.01 1479.01 Q1791.84 1482.55 1795.45 1482.55 Q1799.09 1482.55 1800.89 1479.01 Q1802.72 1475.44 1802.72 1468.33 Q1802.72 1461.2 1800.89 1457.66 Q1799.09 1454.1 1795.45 1454.1 M1795.45 1450.39 Q1801.26 1450.39 1804.32 1455 Q1807.4 1459.58 1807.4 1468.33 Q1807.4 1477.06 1804.32 1481.67 Q1801.26 1486.25 1795.45 1486.25 Q1789.64 1486.25 1786.56 1481.67 Q1783.51 1477.06 1783.51 1468.33 Q1783.51 1459.58 1786.56 1455 Q1789.64 1450.39 1795.45 1450.39 Z\" fill=\"#000000\" fill-rule=\"nonzero\" fill-opacity=\"1\" /><path clip-path=\"url(#clip430)\" d=\"M2084.02 1481.64 L2091.66 1481.64 L2091.66 1455.28 L2083.35 1456.95 L2083.35 1452.69 L2091.61 1451.02 L2096.29 1451.02 L2096.29 1481.64 L2103.93 1481.64 L2103.93 1485.58 L2084.02 1485.58 L2084.02 1481.64 Z\" fill=\"#000000\" fill-rule=\"nonzero\" fill-opacity=\"1\" /><path clip-path=\"url(#clip430)\" d=\"M2117.4 1481.64 L2133.72 1481.64 L2133.72 1485.58 L2111.77 1485.58 L2111.77 1481.64 Q2114.43 1478.89 2119.02 1474.26 Q2123.62 1469.61 2124.81 1468.27 Q2127.05 1465.74 2127.93 1464.01 Q2128.83 1462.25 2128.83 1460.56 Q2128.83 1457.8 2126.89 1456.07 Q2124.97 1454.33 2121.87 1454.33 Q2119.67 1454.33 2117.21 1455.09 Q2114.78 1455.86 2112 1457.41 L2112 1452.69 Q2114.83 1451.55 2117.28 1450.97 Q2119.74 1450.39 2121.77 1450.39 Q2127.14 1450.39 2130.34 1453.08 Q2133.53 1455.77 2133.53 1460.26 Q2133.53 1462.39 2132.72 1464.31 Q2131.93 1466.2 2129.83 1468.8 Q2129.25 1469.47 2126.15 1472.69 Q2123.05 1475.88 2117.4 1481.64 Z\" fill=\"#000000\" fill-rule=\"nonzero\" fill-opacity=\"1\" /><path clip-path=\"url(#clip430)\" d=\"M2143.58 1451.02 L2161.93 1451.02 L2161.93 1454.96 L2147.86 1454.96 L2147.86 1463.43 Q2148.88 1463.08 2149.9 1462.92 Q2150.92 1462.73 2151.93 1462.73 Q2157.72 1462.73 2161.1 1465.9 Q2164.48 1469.08 2164.48 1474.49 Q2164.48 1480.07 2161.01 1483.17 Q2157.54 1486.25 2151.22 1486.25 Q2149.04 1486.25 2146.77 1485.88 Q2144.53 1485.51 2142.12 1484.77 L2142.12 1480.07 Q2144.2 1481.2 2146.43 1481.76 Q2148.65 1482.32 2151.12 1482.32 Q2155.13 1482.32 2157.47 1480.21 Q2159.81 1478.1 2159.81 1474.49 Q2159.81 1470.88 2157.47 1468.77 Q2155.13 1466.67 2151.12 1466.67 Q2149.25 1466.67 2147.37 1467.08 Q2145.52 1467.5 2143.58 1468.38 L2143.58 1451.02 Z\" fill=\"#000000\" fill-rule=\"nonzero\" fill-opacity=\"1\" /><path clip-path=\"url(#clip430)\" d=\"M1190.61 1522.27 L1190.61 1532.4 L1202.67 1532.4 L1202.67 1536.95 L1190.61 1536.95 L1190.61 1556.3 Q1190.61 1560.66 1191.79 1561.9 Q1193 1563.14 1196.66 1563.14 L1202.67 1563.14 L1202.67 1568.04 L1196.66 1568.04 Q1189.88 1568.04 1187.3 1565.53 Q1184.72 1562.98 1184.72 1556.3 L1184.72 1536.95 L1180.43 1536.95 L1180.43 1532.4 L1184.72 1532.4 L1184.72 1522.27 L1190.61 1522.27 Z\" fill=\"#000000\" fill-rule=\"nonzero\" fill-opacity=\"1\" /><path clip-path=\"url(#clip430)\" d=\"M1245.17 1518.58 Q1240.9 1525.9 1238.83 1533.06 Q1236.76 1540.23 1236.76 1547.58 Q1236.76 1554.93 1238.83 1562.16 Q1240.93 1569.35 1245.17 1576.64 L1240.07 1576.64 Q1235.3 1569.16 1232.91 1561.93 Q1230.56 1554.71 1230.56 1547.58 Q1230.56 1540.48 1232.91 1533.29 Q1235.27 1526.09 1240.07 1518.58 L1245.17 1518.58 Z\" fill=\"#000000\" fill-rule=\"nonzero\" fill-opacity=\"1\" /><path clip-path=\"url(#clip430)\" d=\"M1271.36 1571.35 Q1268.88 1577.72 1266.52 1579.66 Q1264.17 1581.6 1260.22 1581.6 L1255.54 1581.6 L1255.54 1576.7 L1258.98 1576.7 Q1261.4 1576.7 1262.73 1575.56 Q1264.07 1574.41 1265.69 1570.14 L1266.75 1567.47 L1252.33 1532.4 L1258.53 1532.4 L1269.67 1560.28 L1280.81 1532.4 L1287.02 1532.4 L1271.36 1571.35 Z\" fill=\"#000000\" fill-rule=\"nonzero\" fill-opacity=\"1\" /><path clip-path=\"url(#clip430)\" d=\"M1325.6 1548.76 L1325.6 1551.62 L1298.67 1551.62 Q1299.05 1557.67 1302.3 1560.85 Q1305.58 1564 1311.4 1564 Q1314.77 1564 1317.93 1563.17 Q1321.11 1562.35 1324.23 1560.69 L1324.23 1566.23 Q1321.08 1567.57 1317.77 1568.27 Q1314.46 1568.97 1311.05 1568.97 Q1302.52 1568.97 1297.52 1564 Q1292.56 1559.04 1292.56 1550.57 Q1292.56 1541.82 1297.27 1536.69 Q1302.01 1531.54 1310.03 1531.54 Q1317.23 1531.54 1321.39 1536.18 Q1325.6 1540.8 1325.6 1548.76 M1319.74 1547.04 Q1319.68 1542.23 1317.03 1539.37 Q1314.42 1536.5 1310.1 1536.5 Q1305.19 1536.5 1302.23 1539.27 Q1299.31 1542.04 1298.86 1547.07 L1319.74 1547.04 Z\" fill=\"#000000\" fill-rule=\"nonzero\" fill-opacity=\"1\" /><path clip-path=\"url(#clip430)\" d=\"M1351.41 1550.12 Q1344.31 1550.12 1341.57 1551.75 Q1338.84 1553.37 1338.84 1557.29 Q1338.84 1560.4 1340.87 1562.25 Q1342.94 1564.07 1346.48 1564.07 Q1351.35 1564.07 1354.27 1560.63 Q1357.23 1557.16 1357.23 1551.43 L1357.23 1550.12 L1351.41 1550.12 M1363.09 1547.71 L1363.09 1568.04 L1357.23 1568.04 L1357.23 1562.63 Q1355.23 1565.88 1352.24 1567.44 Q1349.24 1568.97 1344.92 1568.97 Q1339.44 1568.97 1336.2 1565.91 Q1332.98 1562.82 1332.98 1557.67 Q1332.98 1551.65 1336.99 1548.6 Q1341.03 1545.54 1349.02 1545.54 L1357.23 1545.54 L1357.23 1544.97 Q1357.23 1540.93 1354.56 1538.73 Q1351.92 1536.5 1347.11 1536.5 Q1344.06 1536.5 1341.16 1537.23 Q1338.26 1537.97 1335.59 1539.43 L1335.59 1534.02 Q1338.81 1532.78 1341.83 1532.17 Q1344.85 1531.54 1347.72 1531.54 Q1355.45 1531.54 1359.27 1535.55 Q1363.09 1539.56 1363.09 1547.71 Z\" fill=\"#000000\" fill-rule=\"nonzero\" fill-opacity=\"1\" /><path clip-path=\"url(#clip430)\" d=\"M1395.81 1537.87 Q1394.82 1537.3 1393.65 1537.04 Q1392.5 1536.76 1391.1 1536.76 Q1386.13 1536.76 1383.46 1540 Q1380.82 1543.22 1380.82 1549.27 L1380.82 1568.04 L1374.93 1568.04 L1374.93 1532.4 L1380.82 1532.4 L1380.82 1537.93 Q1382.66 1534.69 1385.62 1533.13 Q1388.58 1531.54 1392.82 1531.54 Q1393.42 1531.54 1394.15 1531.63 Q1394.89 1531.7 1395.78 1531.85 L1395.81 1537.87 Z\" fill=\"#000000\" fill-rule=\"nonzero\" fill-opacity=\"1\" /><path clip-path=\"url(#clip430)\" d=\"M1424.68 1533.45 L1424.68 1538.98 Q1422.2 1537.71 1419.52 1537.07 Q1416.85 1536.44 1413.98 1536.44 Q1409.62 1536.44 1407.43 1537.77 Q1405.26 1539.11 1405.26 1541.79 Q1405.26 1543.82 1406.82 1545 Q1408.38 1546.15 1413.09 1547.2 L1415.1 1547.64 Q1421.34 1548.98 1423.95 1551.43 Q1426.59 1553.85 1426.59 1558.21 Q1426.59 1563.17 1422.64 1566.07 Q1418.73 1568.97 1411.85 1568.97 Q1408.99 1568.97 1405.87 1568.39 Q1402.78 1567.85 1399.34 1566.74 L1399.34 1560.69 Q1402.59 1562.38 1405.74 1563.24 Q1408.89 1564.07 1411.98 1564.07 Q1416.12 1564.07 1418.34 1562.66 Q1420.57 1561.23 1420.57 1558.65 Q1420.57 1556.27 1418.95 1554.99 Q1417.36 1553.72 1411.92 1552.54 L1409.88 1552.07 Q1404.44 1550.92 1402.02 1548.56 Q1399.6 1546.18 1399.6 1542.04 Q1399.6 1537.01 1403.16 1534.27 Q1406.73 1531.54 1413.28 1531.54 Q1416.53 1531.54 1419.39 1532.01 Q1422.26 1532.49 1424.68 1533.45 Z\" fill=\"#000000\" fill-rule=\"nonzero\" fill-opacity=\"1\" /><path clip-path=\"url(#clip430)\" d=\"M1434.99 1518.58 L1440.08 1518.58 Q1444.86 1526.09 1447.21 1533.29 Q1449.6 1540.48 1449.6 1547.58 Q1449.6 1554.71 1447.21 1561.93 Q1444.86 1569.16 1440.08 1576.64 L1434.99 1576.64 Q1439.22 1569.35 1441.29 1562.16 Q1443.39 1554.93 1443.39 1547.58 Q1443.39 1540.23 1441.29 1533.06 Q1439.22 1525.9 1434.99 1518.58 Z\" fill=\"#000000\" fill-rule=\"nonzero\" fill-opacity=\"1\" /><polyline clip-path=\"url(#clip432)\" style=\"stroke:#000000; stroke-linecap:round; stroke-linejoin:round; stroke-width:2; stroke-opacity:0.1; fill:none\" points=\"277.27,1423.18 2352.76,1423.18 \"/>\n",
       "<polyline clip-path=\"url(#clip432)\" style=\"stroke:#000000; stroke-linecap:round; stroke-linejoin:round; stroke-width:2; stroke-opacity:0.1; fill:none\" points=\"277.27,1098.25 2352.76,1098.25 \"/>\n",
       "<polyline clip-path=\"url(#clip432)\" style=\"stroke:#000000; stroke-linecap:round; stroke-linejoin:round; stroke-width:2; stroke-opacity:0.1; fill:none\" points=\"277.27,773.326 2352.76,773.326 \"/>\n",
       "<polyline clip-path=\"url(#clip432)\" style=\"stroke:#000000; stroke-linecap:round; stroke-linejoin:round; stroke-width:2; stroke-opacity:0.1; fill:none\" points=\"277.27,448.399 2352.76,448.399 \"/>\n",
       "<polyline clip-path=\"url(#clip432)\" style=\"stroke:#000000; stroke-linecap:round; stroke-linejoin:round; stroke-width:2; stroke-opacity:0.1; fill:none\" points=\"277.27,123.472 2352.76,123.472 \"/>\n",
       "<polyline clip-path=\"url(#clip430)\" style=\"stroke:#000000; stroke-linecap:round; stroke-linejoin:round; stroke-width:4; stroke-opacity:1; fill:none\" points=\"277.27,1423.18 277.27,123.472 \"/>\n",
       "<polyline clip-path=\"url(#clip430)\" style=\"stroke:#000000; stroke-linecap:round; stroke-linejoin:round; stroke-width:4; stroke-opacity:1; fill:none\" points=\"277.27,1423.18 296.168,1423.18 \"/>\n",
       "<polyline clip-path=\"url(#clip430)\" style=\"stroke:#000000; stroke-linecap:round; stroke-linejoin:round; stroke-width:4; stroke-opacity:1; fill:none\" points=\"277.27,1098.25 296.168,1098.25 \"/>\n",
       "<polyline clip-path=\"url(#clip430)\" style=\"stroke:#000000; stroke-linecap:round; stroke-linejoin:round; stroke-width:4; stroke-opacity:1; fill:none\" points=\"277.27,773.326 296.168,773.326 \"/>\n",
       "<polyline clip-path=\"url(#clip430)\" style=\"stroke:#000000; stroke-linecap:round; stroke-linejoin:round; stroke-width:4; stroke-opacity:1; fill:none\" points=\"277.27,448.399 296.168,448.399 \"/>\n",
       "<polyline clip-path=\"url(#clip430)\" style=\"stroke:#000000; stroke-linecap:round; stroke-linejoin:round; stroke-width:4; stroke-opacity:1; fill:none\" points=\"277.27,123.472 296.168,123.472 \"/>\n",
       "<path clip-path=\"url(#clip430)\" d=\"M115.402 1442.97 L123.04 1442.97 L123.04 1416.61 L114.73 1418.27 L114.73 1414.01 L122.994 1412.35 L127.67 1412.35 L127.67 1442.97 L135.309 1442.97 L135.309 1446.91 L115.402 1446.91 L115.402 1442.97 Z\" fill=\"#000000\" fill-rule=\"nonzero\" fill-opacity=\"1\" /><path clip-path=\"url(#clip430)\" d=\"M154.753 1415.43 Q151.142 1415.43 149.313 1418.99 Q147.508 1422.53 147.508 1429.66 Q147.508 1436.77 149.313 1440.33 Q151.142 1443.88 154.753 1443.88 Q158.388 1443.88 160.193 1440.33 Q162.022 1436.77 162.022 1429.66 Q162.022 1422.53 160.193 1418.99 Q158.388 1415.43 154.753 1415.43 M154.753 1411.72 Q160.563 1411.72 163.619 1416.33 Q166.698 1420.91 166.698 1429.66 Q166.698 1438.39 163.619 1443 Q160.563 1447.58 154.753 1447.58 Q148.943 1447.58 145.864 1443 Q142.809 1438.39 142.809 1429.66 Q142.809 1420.91 145.864 1416.33 Q148.943 1411.72 154.753 1411.72 Z\" fill=\"#000000\" fill-rule=\"nonzero\" fill-opacity=\"1\" /><path clip-path=\"url(#clip430)\" d=\"M166.698 1405.82 L190.809 1405.82 L190.809 1409.02 L166.698 1409.02 L166.698 1405.82 Z\" fill=\"#000000\" fill-rule=\"nonzero\" fill-opacity=\"1\" /><path clip-path=\"url(#clip430)\" d=\"M199.668 1416.3 L205.874 1416.3 L205.874 1394.88 L199.122 1396.23 L199.122 1392.77 L205.837 1391.42 L209.636 1391.42 L209.636 1416.3 L215.842 1416.3 L215.842 1419.5 L199.668 1419.5 L199.668 1416.3 Z\" fill=\"#000000\" fill-rule=\"nonzero\" fill-opacity=\"1\" /><path clip-path=\"url(#clip430)\" d=\"M231.641 1406.16 Q228.933 1406.16 227.372 1407.61 Q225.829 1409.06 225.829 1411.6 Q225.829 1414.14 227.372 1415.59 Q228.933 1417.03 231.641 1417.03 Q234.349 1417.03 235.91 1415.59 Q237.471 1414.12 237.471 1411.6 Q237.471 1409.06 235.91 1407.61 Q234.368 1406.16 231.641 1406.16 M227.842 1404.54 Q225.397 1403.94 224.024 1402.27 Q222.67 1400.6 222.67 1398.19 Q222.67 1394.82 225.058 1392.87 Q227.466 1390.91 231.641 1390.91 Q235.835 1390.91 238.224 1392.87 Q240.612 1394.82 240.612 1398.19 Q240.612 1400.6 239.239 1402.27 Q237.885 1403.94 235.459 1404.54 Q238.205 1405.18 239.728 1407.05 Q241.27 1408.91 241.27 1411.6 Q241.27 1415.68 238.769 1417.86 Q236.286 1420.04 231.641 1420.04 Q226.995 1420.04 224.494 1417.86 Q222.011 1415.68 222.011 1411.6 Q222.011 1408.91 223.554 1407.05 Q225.096 1405.18 227.842 1404.54 M226.45 1398.55 Q226.45 1400.73 227.804 1401.95 Q229.177 1403.17 231.641 1403.17 Q234.086 1403.17 235.459 1401.95 Q236.851 1400.73 236.851 1398.55 Q236.851 1396.36 235.459 1395.14 Q234.086 1393.92 231.641 1393.92 Q229.177 1393.92 227.804 1395.14 Q226.45 1396.36 226.45 1398.55 Z\" fill=\"#000000\" fill-rule=\"nonzero\" fill-opacity=\"1\" /><path clip-path=\"url(#clip430)\" d=\"M116.06 1118.05 L123.699 1118.05 L123.699 1091.68 L115.389 1093.35 L115.389 1089.09 L123.652 1087.42 L128.328 1087.42 L128.328 1118.05 L135.967 1118.05 L135.967 1121.98 L116.06 1121.98 L116.06 1118.05 Z\" fill=\"#000000\" fill-rule=\"nonzero\" fill-opacity=\"1\" /><path clip-path=\"url(#clip430)\" d=\"M155.412 1090.5 Q151.8 1090.5 149.972 1094.06 Q148.166 1097.61 148.166 1104.74 Q148.166 1111.84 149.972 1115.41 Q151.8 1118.95 155.412 1118.95 Q159.046 1118.95 160.851 1115.41 Q162.68 1111.84 162.68 1104.74 Q162.68 1097.61 160.851 1094.06 Q159.046 1090.5 155.412 1090.5 M155.412 1086.8 Q161.222 1086.8 164.277 1091.4 Q167.356 1095.99 167.356 1104.74 Q167.356 1113.46 164.277 1118.07 Q161.222 1122.65 155.412 1122.65 Q149.601 1122.65 146.523 1118.07 Q143.467 1113.46 143.467 1104.74 Q143.467 1095.99 146.523 1091.4 Q149.601 1086.8 155.412 1086.8 Z\" fill=\"#000000\" fill-rule=\"nonzero\" fill-opacity=\"1\" /><path clip-path=\"url(#clip430)\" d=\"M167.356 1080.9 L191.467 1080.9 L191.467 1084.09 L167.356 1084.09 L167.356 1080.9 Z\" fill=\"#000000\" fill-rule=\"nonzero\" fill-opacity=\"1\" /><path clip-path=\"url(#clip430)\" d=\"M200.326 1091.37 L206.533 1091.37 L206.533 1069.95 L199.781 1071.3 L199.781 1067.84 L206.495 1066.49 L210.294 1066.49 L210.294 1091.37 L216.501 1091.37 L216.501 1094.57 L200.326 1094.57 L200.326 1091.37 Z\" fill=\"#000000\" fill-rule=\"nonzero\" fill-opacity=\"1\" /><path clip-path=\"url(#clip430)\" d=\"M223.215 1066.49 L241.27 1066.49 L241.27 1068.11 L231.077 1094.57 L227.108 1094.57 L236.7 1069.69 L223.215 1069.69 L223.215 1066.49 Z\" fill=\"#000000\" fill-rule=\"nonzero\" fill-opacity=\"1\" /><path clip-path=\"url(#clip430)\" d=\"M115.195 793.118 L122.834 793.118 L122.834 766.753 L114.523 768.419 L114.523 764.16 L122.787 762.494 L127.463 762.494 L127.463 793.118 L135.102 793.118 L135.102 797.054 L115.195 797.054 L115.195 793.118 Z\" fill=\"#000000\" fill-rule=\"nonzero\" fill-opacity=\"1\" /><path clip-path=\"url(#clip430)\" d=\"M154.546 765.572 Q150.935 765.572 149.107 769.137 Q147.301 772.679 147.301 779.808 Q147.301 786.915 149.107 790.48 Q150.935 794.021 154.546 794.021 Q158.181 794.021 159.986 790.48 Q161.815 786.915 161.815 779.808 Q161.815 772.679 159.986 769.137 Q158.181 765.572 154.546 765.572 M154.546 761.869 Q160.357 761.869 163.412 766.475 Q166.491 771.058 166.491 779.808 Q166.491 788.535 163.412 793.142 Q160.357 797.725 154.546 797.725 Q148.736 797.725 145.658 793.142 Q142.602 788.535 142.602 779.808 Q142.602 771.058 145.658 766.475 Q148.736 761.869 154.546 761.869 Z\" fill=\"#000000\" fill-rule=\"nonzero\" fill-opacity=\"1\" /><path clip-path=\"url(#clip430)\" d=\"M166.491 755.97 L190.602 755.97 L190.602 759.167 L166.491 759.167 L166.491 755.97 Z\" fill=\"#000000\" fill-rule=\"nonzero\" fill-opacity=\"1\" /><path clip-path=\"url(#clip430)\" d=\"M199.461 766.446 L205.667 766.446 L205.667 745.024 L198.915 746.378 L198.915 742.917 L205.63 741.563 L209.429 741.563 L209.429 766.446 L215.635 766.446 L215.635 769.643 L199.461 769.643 L199.461 766.446 Z\" fill=\"#000000\" fill-rule=\"nonzero\" fill-opacity=\"1\" /><path clip-path=\"url(#clip430)\" d=\"M231.904 754.089 Q229.346 754.089 227.842 755.838 Q226.356 757.587 226.356 760.634 Q226.356 763.662 227.842 765.43 Q229.346 767.179 231.904 767.179 Q234.462 767.179 235.948 765.43 Q237.452 763.662 237.452 760.634 Q237.452 757.587 235.948 755.838 Q234.462 754.089 231.904 754.089 M239.446 742.184 L239.446 745.644 Q238.017 744.967 236.55 744.61 Q235.102 744.253 233.672 744.253 Q229.911 744.253 227.917 746.792 Q225.942 749.331 225.66 754.465 Q226.77 752.829 228.444 751.964 Q230.117 751.08 232.13 751.08 Q236.362 751.08 238.807 753.657 Q241.27 756.214 241.27 760.634 Q241.27 764.96 238.713 767.574 Q236.155 770.189 231.904 770.189 Q227.033 770.189 224.456 766.465 Q221.88 762.722 221.88 755.631 Q221.88 748.973 225.039 745.024 Q228.199 741.055 233.522 741.055 Q234.951 741.055 236.399 741.337 Q237.866 741.62 239.446 742.184 Z\" fill=\"#000000\" fill-rule=\"nonzero\" fill-opacity=\"1\" /><path clip-path=\"url(#clip430)\" d=\"M116.135 468.191 L123.774 468.191 L123.774 441.826 L115.464 443.493 L115.464 439.233 L123.728 437.567 L128.404 437.567 L128.404 468.191 L136.042 468.191 L136.042 472.127 L116.135 472.127 L116.135 468.191 Z\" fill=\"#000000\" fill-rule=\"nonzero\" fill-opacity=\"1\" /><path clip-path=\"url(#clip430)\" d=\"M155.487 440.645 Q151.876 440.645 150.047 444.21 Q148.241 447.752 148.241 454.881 Q148.241 461.988 150.047 465.553 Q151.876 469.094 155.487 469.094 Q159.121 469.094 160.927 465.553 Q162.755 461.988 162.755 454.881 Q162.755 447.752 160.927 444.21 Q159.121 440.645 155.487 440.645 M155.487 436.942 Q161.297 436.942 164.352 441.548 Q167.431 446.131 167.431 454.881 Q167.431 463.608 164.352 468.215 Q161.297 472.798 155.487 472.798 Q149.677 472.798 146.598 468.215 Q143.542 463.608 143.542 454.881 Q143.542 446.131 146.598 441.548 Q149.677 436.942 155.487 436.942 Z\" fill=\"#000000\" fill-rule=\"nonzero\" fill-opacity=\"1\" /><path clip-path=\"url(#clip430)\" d=\"M167.431 431.043 L191.543 431.043 L191.543 434.24 L167.431 434.24 L167.431 431.043 Z\" fill=\"#000000\" fill-rule=\"nonzero\" fill-opacity=\"1\" /><path clip-path=\"url(#clip430)\" d=\"M200.401 441.519 L206.608 441.519 L206.608 420.097 L199.856 421.451 L199.856 417.99 L206.57 416.636 L210.369 416.636 L210.369 441.519 L216.576 441.519 L216.576 444.716 L200.401 444.716 L200.401 441.519 Z\" fill=\"#000000\" fill-rule=\"nonzero\" fill-opacity=\"1\" /><path clip-path=\"url(#clip430)\" d=\"M224.287 416.636 L239.202 416.636 L239.202 419.834 L227.766 419.834 L227.766 426.717 Q228.594 426.435 229.422 426.303 Q230.249 426.153 231.077 426.153 Q235.779 426.153 238.525 428.73 Q241.27 431.306 241.27 435.707 Q241.27 440.24 238.449 442.76 Q235.628 445.262 230.494 445.262 Q228.726 445.262 226.883 444.961 Q225.058 444.66 223.102 444.058 L223.102 440.24 Q224.795 441.162 226.6 441.613 Q228.406 442.064 230.418 442.064 Q233.672 442.064 235.572 440.353 Q237.471 438.641 237.471 435.707 Q237.471 432.773 235.572 431.062 Q233.672 429.35 230.418 429.35 Q228.895 429.35 227.372 429.689 Q225.867 430.027 224.287 430.742 L224.287 416.636 Z\" fill=\"#000000\" fill-rule=\"nonzero\" fill-opacity=\"1\" /><path clip-path=\"url(#clip430)\" d=\"M114.931 143.265 L122.57 143.265 L122.57 116.899 L114.26 118.566 L114.26 114.306 L122.524 112.64 L127.2 112.64 L127.2 143.265 L134.839 143.265 L134.839 147.2 L114.931 147.2 L114.931 143.265 Z\" fill=\"#000000\" fill-rule=\"nonzero\" fill-opacity=\"1\" /><path clip-path=\"url(#clip430)\" d=\"M154.283 115.718 Q150.672 115.718 148.843 119.283 Q147.038 122.825 147.038 129.954 Q147.038 137.061 148.843 140.626 Q150.672 144.167 154.283 144.167 Q157.917 144.167 159.723 140.626 Q161.552 137.061 161.552 129.954 Q161.552 122.825 159.723 119.283 Q157.917 115.718 154.283 115.718 M154.283 112.015 Q160.093 112.015 163.149 116.621 Q166.227 121.204 166.227 129.954 Q166.227 138.681 163.149 143.288 Q160.093 147.871 154.283 147.871 Q148.473 147.871 145.394 143.288 Q142.339 138.681 142.339 129.954 Q142.339 121.204 145.394 116.621 Q148.473 112.015 154.283 112.015 Z\" fill=\"#000000\" fill-rule=\"nonzero\" fill-opacity=\"1\" /><path clip-path=\"url(#clip430)\" d=\"M166.227 106.116 L190.339 106.116 L190.339 109.313 L166.227 109.313 L166.227 106.116 Z\" fill=\"#000000\" fill-rule=\"nonzero\" fill-opacity=\"1\" /><path clip-path=\"url(#clip430)\" d=\"M199.197 116.592 L205.404 116.592 L205.404 95.17 L198.652 96.5241 L198.652 93.0635 L205.366 91.7093 L209.166 91.7093 L209.166 116.592 L215.372 116.592 L215.372 119.789 L199.197 119.789 L199.197 116.592 Z\" fill=\"#000000\" fill-rule=\"nonzero\" fill-opacity=\"1\" /><path clip-path=\"url(#clip430)\" d=\"M233.484 95.0195 L223.892 110.009 L233.484 110.009 L233.484 95.0195 M232.487 91.7093 L237.264 91.7093 L237.264 110.009 L241.27 110.009 L241.27 113.169 L237.264 113.169 L237.264 119.789 L233.484 119.789 L233.484 113.169 L220.808 113.169 L220.808 109.501 L232.487 91.7093 Z\" fill=\"#000000\" fill-rule=\"nonzero\" fill-opacity=\"1\" /><path clip-path=\"url(#clip430)\" d=\"M14.479 979.241 L14.479 973.384 L64.0042 973.384 L64.0042 979.241 L14.479 979.241 Z\" fill=\"#000000\" fill-rule=\"nonzero\" fill-opacity=\"1\" /><path clip-path=\"url(#clip430)\" d=\"M32.4621 947.317 Q32.4621 952.027 36.1542 954.765 Q39.8145 957.502 46.212 957.502 Q52.6095 957.502 56.3017 954.796 Q59.9619 952.059 59.9619 947.317 Q59.9619 942.638 56.2698 939.901 Q52.5777 937.163 46.212 937.163 Q39.8781 937.163 36.186 939.901 Q32.4621 942.638 32.4621 947.317 M27.4968 947.317 Q27.4968 939.678 32.4621 935.317 Q37.4273 930.957 46.212 930.957 Q54.9649 930.957 59.9619 935.317 Q64.9272 939.678 64.9272 947.317 Q64.9272 954.987 59.9619 959.348 Q54.9649 963.677 46.212 963.677 Q37.4273 963.677 32.4621 959.348 Q27.4968 954.987 27.4968 947.317 Z\" fill=\"#000000\" fill-rule=\"nonzero\" fill-opacity=\"1\" /><path clip-path=\"url(#clip430)\" d=\"M45.7664 897.791 Q39.4007 897.791 35.8996 900.433 Q32.3984 903.043 32.3984 907.786 Q32.3984 912.496 35.8996 915.138 Q39.4007 917.748 45.7664 917.748 Q52.1003 917.748 55.6014 915.138 Q59.1026 912.496 59.1026 907.786 Q59.1026 903.043 55.6014 900.433 Q52.1003 897.791 45.7664 897.791 M59.58 891.935 Q68.683 891.935 73.1071 895.977 Q77.5631 900.019 77.5631 908.359 Q77.5631 911.446 77.0857 914.183 Q76.6401 916.92 75.6852 919.499 L69.9879 919.499 Q71.3884 916.92 72.0568 914.406 Q72.7252 911.892 72.7252 909.282 Q72.7252 903.521 69.7015 900.656 Q66.7096 897.791 60.6303 897.791 L57.7339 897.791 Q60.885 899.606 62.4446 902.438 Q64.0042 905.271 64.0042 909.218 Q64.0042 915.775 59.0071 919.785 Q54.01 923.795 45.7664 923.795 Q37.491 923.795 32.4939 919.785 Q27.4968 915.775 27.4968 909.218 Q27.4968 905.271 29.0564 902.438 Q30.616 899.606 33.7671 897.791 L28.3562 897.791 L28.3562 891.935 L59.58 891.935 Z\" fill=\"#000000\" fill-rule=\"nonzero\" fill-opacity=\"1\" /><path clip-path=\"url(#clip430)\" d=\"M58.5933 877.93 L58.5933 867.427 L22.3406 867.427 L24.6323 878.853 L18.7758 878.853 L16.4842 867.491 L16.4842 861.061 L58.5933 861.061 L58.5933 850.558 L64.0042 850.558 L64.0042 877.93 L58.5933 877.93 Z\" fill=\"#000000\" fill-rule=\"nonzero\" fill-opacity=\"1\" /><path clip-path=\"url(#clip430)\" d=\"M20.7174 823.822 Q20.7174 828.787 25.6189 831.302 Q30.4887 833.784 40.2919 833.784 Q50.0633 833.784 54.9649 831.302 Q59.8346 828.787 59.8346 823.822 Q59.8346 818.825 54.9649 816.342 Q50.0633 813.828 40.2919 813.828 Q30.4887 813.828 25.6189 816.342 Q20.7174 818.825 20.7174 823.822 M15.6248 823.822 Q15.6248 815.833 21.9587 811.632 Q28.2607 807.398 40.2919 807.398 Q52.2913 807.398 58.6251 811.632 Q64.9272 815.833 64.9272 823.822 Q64.9272 831.811 58.6251 836.044 Q52.2913 840.245 40.2919 840.245 Q28.2607 840.245 21.9587 836.044 Q15.6248 831.811 15.6248 823.822 Z\" fill=\"#000000\" fill-rule=\"nonzero\" fill-opacity=\"1\" /><path clip-path=\"url(#clip430)\" d=\"M14.5426 782.859 Q21.8632 787.124 29.0246 789.193 Q36.186 791.261 43.5384 791.261 Q50.8908 791.261 58.1159 789.193 Q65.3091 787.092 72.5979 782.859 L72.5979 787.951 Q65.1182 792.725 57.8931 795.113 Q50.668 797.468 43.5384 797.468 Q36.4406 797.468 29.2474 795.113 Q22.0542 792.757 14.5426 787.951 L14.5426 782.859 Z\" fill=\"#000000\" fill-rule=\"nonzero\" fill-opacity=\"1\" /><path clip-path=\"url(#clip430)\" d=\"M22.818 755.359 L58.657 768.408 L58.657 742.277 L22.818 755.359 M64.0042 777.129 L16.4842 758.987 L16.4842 751.698 L64.0042 733.588 L64.0042 777.129 Z\" fill=\"#000000\" fill-rule=\"nonzero\" fill-opacity=\"1\" /><path clip-path=\"url(#clip430)\" d=\"M16.4842 726.649 L16.4842 696.603 L21.895 696.603 L21.895 720.22 L35.9632 720.22 L35.9632 697.59 L41.3741 697.59 L41.3741 720.22 L58.5933 720.22 L58.5933 696.03 L64.0042 696.03 L64.0042 726.649 L16.4842 726.649 Z\" fill=\"#000000\" fill-rule=\"nonzero\" fill-opacity=\"1\" /><path clip-path=\"url(#clip430)\" d=\"M16.4842 675.31 L16.4842 669.899 L70.0516 686.45 L70.0516 691.861 L16.4842 675.31 Z\" fill=\"#000000\" fill-rule=\"nonzero\" fill-opacity=\"1\" /><path clip-path=\"url(#clip430)\" d=\"M16.4842 663.502 L16.4842 633.455 L21.895 633.455 L21.895 657.072 L35.9632 657.072 L35.9632 634.442 L41.3741 634.442 L41.3741 657.072 L58.5933 657.072 L58.5933 632.883 L64.0042 632.883 L64.0042 663.502 L16.4842 663.502 Z\" fill=\"#000000\" fill-rule=\"nonzero\" fill-opacity=\"1\" /><path clip-path=\"url(#clip430)\" d=\"M20.7174 607.993 Q20.7174 612.958 25.6189 615.472 Q30.4887 617.955 40.2919 617.955 Q50.0633 617.955 54.9649 615.472 Q59.8346 612.958 59.8346 607.993 Q59.8346 602.996 54.9649 600.513 Q50.0633 597.999 40.2919 597.999 Q30.4887 597.999 25.6189 600.513 Q20.7174 602.996 20.7174 607.993 M15.6248 607.993 Q15.6248 600.004 21.9587 595.802 Q28.2607 591.569 40.2919 591.569 Q52.2913 591.569 58.6251 595.802 Q64.9272 600.004 64.9272 607.993 Q64.9272 615.982 58.6251 620.215 Q52.2913 624.416 40.2919 624.416 Q28.2607 624.416 21.9587 620.215 Q15.6248 615.982 15.6248 607.993 Z\" fill=\"#000000\" fill-rule=\"nonzero\" fill-opacity=\"1\" /><path clip-path=\"url(#clip430)\" d=\"M14.5426 582.021 L14.5426 576.928 Q22.0542 572.154 29.2474 569.798 Q36.4406 567.411 43.5384 567.411 Q50.668 567.411 57.8931 569.798 Q65.1182 572.154 72.5979 576.928 L72.5979 582.021 Q65.3091 577.787 58.1159 575.719 Q50.8908 573.618 43.5384 573.618 Q36.186 573.618 29.0246 575.719 Q21.8632 577.787 14.5426 582.021 Z\" fill=\"#000000\" fill-rule=\"nonzero\" fill-opacity=\"1\" /><path clip-path=\"url(#clip430)\" d=\"M1059.56 12.096 L1097.8 12.096 L1097.8 18.9825 L1067.75 18.9825 L1067.75 36.8875 L1096.55 36.8875 L1096.55 43.7741 L1067.75 43.7741 L1067.75 65.6895 L1098.53 65.6895 L1098.53 72.576 L1059.56 72.576 L1059.56 12.096 Z\" fill=\"#000000\" fill-rule=\"nonzero\" fill-opacity=\"1\" /><path clip-path=\"url(#clip430)\" d=\"M1149.37 45.1919 L1149.37 72.576 L1141.92 72.576 L1141.92 45.4349 Q1141.92 38.994 1139.41 35.7938 Q1136.89 32.5936 1131.87 32.5936 Q1125.84 32.5936 1122.35 36.4419 Q1118.87 40.2903 1118.87 46.9338 L1118.87 72.576 L1111.37 72.576 L1111.37 27.2059 L1118.87 27.2059 L1118.87 34.2544 Q1121.54 30.163 1125.15 28.1376 Q1128.79 26.1121 1133.53 26.1121 Q1141.35 26.1121 1145.36 30.9732 Q1149.37 35.7938 1149.37 45.1919 Z\" fill=\"#000000\" fill-rule=\"nonzero\" fill-opacity=\"1\" /><path clip-path=\"url(#clip430)\" d=\"M1203.05 48.0275 L1203.05 51.6733 L1168.78 51.6733 Q1169.26 59.3701 1173.39 63.421 Q1177.57 67.4314 1184.98 67.4314 Q1189.27 67.4314 1193.28 66.3781 Q1197.33 65.3249 1201.3 63.2184 L1201.3 70.267 Q1197.29 71.9684 1193.08 72.8596 Q1188.87 73.7508 1184.53 73.7508 Q1173.68 73.7508 1167.32 67.4314 Q1161 61.1119 1161 50.3365 Q1161 39.1965 1166.99 32.6746 Q1173.03 26.1121 1183.24 26.1121 Q1192.39 26.1121 1197.7 32.0264 Q1203.05 37.9003 1203.05 48.0275 M1195.59 45.84 Q1195.51 39.7232 1192.15 36.0774 Q1188.83 32.4315 1183.32 32.4315 Q1177.08 32.4315 1173.31 35.9558 Q1169.59 39.4801 1169.02 45.8805 L1195.59 45.84 Z\" fill=\"#000000\" fill-rule=\"nonzero\" fill-opacity=\"1\" /><path clip-path=\"url(#clip430)\" d=\"M1241.57 34.1734 Q1240.31 33.4443 1238.82 33.1202 Q1237.36 32.7556 1235.57 32.7556 Q1229.26 32.7556 1225.85 36.8875 Q1222.49 40.9789 1222.49 48.6757 L1222.49 72.576 L1215 72.576 L1215 27.2059 L1222.49 27.2059 L1222.49 34.2544 Q1224.84 30.1225 1228.61 28.1376 Q1232.37 26.1121 1237.76 26.1121 Q1238.53 26.1121 1239.46 26.2337 Q1240.4 26.3147 1241.53 26.5172 L1241.57 34.1734 Z\" fill=\"#000000\" fill-rule=\"nonzero\" fill-opacity=\"1\" /><path clip-path=\"url(#clip430)\" d=\"M1277.79 49.3643 Q1277.79 41.2625 1274.42 36.8065 Q1271.1 32.3505 1265.07 32.3505 Q1259.07 32.3505 1255.71 36.8065 Q1252.39 41.2625 1252.39 49.3643 Q1252.39 57.4256 1255.71 61.8816 Q1259.07 66.3376 1265.07 66.3376 Q1271.1 66.3376 1274.42 61.8816 Q1277.79 57.4256 1277.79 49.3643 M1285.24 66.9452 Q1285.24 78.5308 1280.09 84.1616 Q1274.95 89.8329 1264.34 89.8329 Q1260.41 89.8329 1256.92 89.2252 Q1253.44 88.6581 1250.16 87.4428 L1250.16 80.1917 Q1253.44 81.9741 1256.64 82.8248 Q1259.84 83.6755 1263.16 83.6755 Q1270.49 83.6755 1274.14 79.8271 Q1277.79 76.0193 1277.79 68.282 L1277.79 64.5957 Q1275.48 68.6061 1271.87 70.5911 Q1268.27 72.576 1263.24 72.576 Q1254.9 72.576 1249.79 66.2161 Q1244.69 59.8562 1244.69 49.3643 Q1244.69 38.832 1249.79 32.472 Q1254.9 26.1121 1263.24 26.1121 Q1268.27 26.1121 1271.87 28.0971 Q1275.48 30.082 1277.79 34.0924 L1277.79 27.2059 L1285.24 27.2059 L1285.24 66.9452 Z\" fill=\"#000000\" fill-rule=\"nonzero\" fill-opacity=\"1\" /><path clip-path=\"url(#clip430)\" d=\"M1319.47 76.7889 Q1316.31 84.8907 1313.31 87.3618 Q1310.31 89.8329 1305.29 89.8329 L1299.34 89.8329 L1299.34 83.5945 L1303.71 83.5945 Q1306.79 83.5945 1308.49 82.1361 Q1310.19 80.6778 1312.26 75.2496 L1313.6 71.8468 L1295.24 27.2059 L1303.14 27.2059 L1317.32 62.6918 L1331.5 27.2059 L1339.4 27.2059 L1319.47 76.7889 Z\" fill=\"#000000\" fill-rule=\"nonzero\" fill-opacity=\"1\" /><path clip-path=\"url(#clip430)\" d=\"M1376.38 12.096 L1414.62 12.096 L1414.62 18.9825 L1384.57 18.9825 L1384.57 36.8875 L1413.37 36.8875 L1413.37 43.7741 L1384.57 43.7741 L1384.57 65.6895 L1415.35 65.6895 L1415.35 72.576 L1376.38 72.576 L1376.38 12.096 Z\" fill=\"#000000\" fill-rule=\"nonzero\" fill-opacity=\"1\" /><path clip-path=\"url(#clip430)\" d=\"M1454.77 34.1734 Q1453.51 33.4443 1452.01 33.1202 Q1450.56 32.7556 1448.77 32.7556 Q1442.45 32.7556 1439.05 36.8875 Q1435.69 40.9789 1435.69 48.6757 L1435.69 72.576 L1428.2 72.576 L1428.2 27.2059 L1435.69 27.2059 L1435.69 34.2544 Q1438.04 30.1225 1441.81 28.1376 Q1445.57 26.1121 1450.96 26.1121 Q1451.73 26.1121 1452.66 26.2337 Q1453.59 26.3147 1454.73 26.5172 L1454.77 34.1734 Z\" fill=\"#000000\" fill-rule=\"nonzero\" fill-opacity=\"1\" /><path clip-path=\"url(#clip430)\" d=\"M1487.42 34.1734 Q1486.16 33.4443 1484.67 33.1202 Q1483.21 32.7556 1481.42 32.7556 Q1475.1 32.7556 1471.7 36.8875 Q1468.34 40.9789 1468.34 48.6757 L1468.34 72.576 L1460.85 72.576 L1460.85 27.2059 L1468.34 27.2059 L1468.34 34.2544 Q1470.69 30.1225 1474.46 28.1376 Q1478.22 26.1121 1483.61 26.1121 Q1484.38 26.1121 1485.31 26.2337 Q1486.24 26.3147 1487.38 26.5172 L1487.42 34.1734 Z\" fill=\"#000000\" fill-rule=\"nonzero\" fill-opacity=\"1\" /><path clip-path=\"url(#clip430)\" d=\"M1511 32.4315 Q1505 32.4315 1501.52 37.1306 Q1498.03 41.7891 1498.03 49.9314 Q1498.03 58.0738 1501.48 62.7728 Q1504.96 67.4314 1511 67.4314 Q1516.95 67.4314 1520.43 62.7323 Q1523.92 58.0333 1523.92 49.9314 Q1523.92 41.8701 1520.43 37.1711 Q1516.95 32.4315 1511 32.4315 M1511 26.1121 Q1520.72 26.1121 1526.27 32.4315 Q1531.82 38.7509 1531.82 49.9314 Q1531.82 61.0714 1526.27 67.4314 Q1520.72 73.7508 1511 73.7508 Q1501.23 73.7508 1495.68 67.4314 Q1490.17 61.0714 1490.17 49.9314 Q1490.17 38.7509 1495.68 32.4315 Q1501.23 26.1121 1511 26.1121 Z\" fill=\"#000000\" fill-rule=\"nonzero\" fill-opacity=\"1\" /><path clip-path=\"url(#clip430)\" d=\"M1570.46 34.1734 Q1569.21 33.4443 1567.71 33.1202 Q1566.25 32.7556 1564.47 32.7556 Q1558.15 32.7556 1554.75 36.8875 Q1551.38 40.9789 1551.38 48.6757 L1551.38 72.576 L1543.89 72.576 L1543.89 27.2059 L1551.38 27.2059 L1551.38 34.2544 Q1553.73 30.1225 1557.5 28.1376 Q1561.27 26.1121 1566.66 26.1121 Q1567.43 26.1121 1568.36 26.2337 Q1569.29 26.3147 1570.42 26.5172 L1570.46 34.1734 Z\" fill=\"#000000\" fill-rule=\"nonzero\" fill-opacity=\"1\" /><polyline clip-path=\"url(#clip432)\" style=\"stroke:#ffa500; stroke-linecap:round; stroke-linejoin:round; stroke-width:4; stroke-opacity:1; fill:none\" points=\"336.011,797.053 345.801,996.135 355.591,747.136 365.381,915.024 375.171,743.044 384.961,1027.23 394.751,799.405 404.541,780.767 414.331,687.49 424.121,751.663 433.911,1092.9 443.701,796.666 453.491,983.573 463.281,816.431 473.071,769.332 482.861,1083.12 492.651,894.638 502.441,1153.3 512.231,702.754 522.021,778.23 531.811,1167.06 541.601,1090.51 551.391,775.758 561.181,902.981 570.971,633.751 580.761,691.327 590.551,861.287 600.341,907.954 610.131,706.159 619.921,940.489 629.711,870.287 639.501,1096.09 649.291,876.743 659.081,735.52 668.871,1221.12 678.662,1181.31 688.452,776.361 698.242,1111.67 708.032,718.996 717.822,1053.22 727.612,786.492 737.402,765.577 747.192,1186.78 756.982,724.065 766.772,943.831 776.562,836.569 786.352,778.056 796.142,772.423 805.932,701.563 815.722,749.303 825.512,716.202 835.302,588.934 845.092,779.845 854.882,629.716 864.672,691.558 874.462,601.886 884.252,690.144 894.042,696.697 903.832,667.588 913.622,566.101 923.412,536.123 933.202,565.799 942.992,608.685 952.782,893.815 962.572,629.693 972.362,664.091 982.152,674.024 991.942,776.273 1001.73,1293.76 1011.52,756.851 1021.31,694.383 1031.1,988.367 1040.89,772.837 1050.68,720.182 1060.47,1169.54 1070.26,912.621 1080.05,971.574 1089.84,1018.14 1099.63,949.668 1109.42,767.477 1119.21,807.672 1129,1089.31 1138.79,1232.58 1148.58,1012.9 1158.37,757.86 1168.16,910.191 1177.95,844.719 1187.74,948.576 1197.53,843.458 1207.32,616.383 1217.11,681.443 1226.9,747.466 1236.69,764.285 1246.48,743.289 1256.27,753.797 1266.06,560.139 1275.85,609.41 1285.64,671.448 1295.43,659.03 1305.22,678.163 1315.01,672.75 1324.8,803.631 1334.59,706.493 1344.38,606.164 1354.17,676.02 1363.96,638.936 1373.75,599.051 1383.54,635.932 1393.33,656.011 1403.12,668.965 1412.91,636.896 1422.7,761.595 1432.49,633.854 1442.28,542.058 1452.07,595.932 1461.86,571.59 1471.65,593.455 1481.44,607.004 1491.23,602.037 1501.02,520.768 1510.81,485.357 1520.6,487.544 1530.39,535.884 1540.18,509.131 1549.97,492.076 1559.76,499.825 1569.55,515.744 1579.34,498.192 1589.13,548.349 1598.92,499.732 1608.71,479.257 1618.5,494.806 1628.29,520.286 1638.08,490.769 1647.87,509.54 1657.66,504.099 1667.45,490.48 1677.24,501.764 1687.03,511.986 1696.82,520.764 1706.61,479.425 1716.4,482.092 1726.19,535.097 1735.98,517.021 1745.77,505.813 1755.56,500.251 1765.35,563.105 1775.14,539.439 1784.93,563.627 1794.72,538.726 1804.51,520.622 1814.3,513.225 1824.09,491.257 1833.88,493.723 1843.67,464.707 1853.46,474.938 1863.25,487.47 1873.04,489.34 1882.83,503.273 1892.62,481.143 1902.41,456.091 1912.2,454.528 1921.99,445.434 1931.78,447.986 1941.57,451.848 1951.36,445.131 1961.15,473.049 1970.94,467.084 1980.73,477.505 1990.52,468.804 2000.31,512.396 2010.11,519.761 2019.9,493.288 2029.69,526.471 2039.48,502.748 2049.27,508.342 2059.06,528.484 2068.85,534.491 2078.64,525.46 2088.43,519.107 2098.22,494.212 2108.01,549.441 2117.8,536.038 2127.59,569.842 2137.38,576.546 2147.17,571.071 2156.96,579.848 2166.75,570.344 2176.54,604.692 2186.33,555.352 2196.12,546.194 2205.91,629.97 2215.7,613.391 2225.49,561.634 2235.28,571.484 2245.07,572.597 2254.86,555.518 2264.65,619.408 2274.44,594.432 2284.23,633.847 2294.02,610.7 \"/>\n",
       "<polyline clip-path=\"url(#clip432)\" style=\"stroke:#ff0000; stroke-linecap:round; stroke-linejoin:round; stroke-width:4; stroke-opacity:1; fill:none\" points=\"336.011,797.053 345.801,995.896 355.591,781.146 365.381,901.046 375.171,845.224 384.961,691.707 394.751,754.448 404.541,705.78 414.331,869.753 424.121,734.426 433.911,783.788 443.701,746.454 453.491,649.534 463.281,898.776 473.071,716.242 482.861,616.36 492.651,782.29 502.441,775.996 512.231,817.947 522.021,676.826 531.811,655.241 541.601,742.672 551.391,722.049 561.181,894.389 570.971,651.71 580.761,633.254 590.551,650.853 600.341,632.333 610.131,684.371 619.921,618.471 629.711,680.961 639.501,756.065 649.291,738.732 659.081,930.542 668.871,984.677 678.662,664.663 688.452,1059.31 698.242,867.287 708.032,1033.37 717.822,672.508 727.612,721.274 737.402,780.804 747.192,919.377 756.982,800.184 766.772,823.631 776.562,849.409 786.352,903.8 796.142,659.823 805.932,746.848 815.722,789.138 825.512,1325.06 835.302,695.378 845.092,796.853 854.882,836.863 864.672,939.788 874.462,722.012 884.252,928.561 894.042,737.119 903.832,706.683 913.622,764.704 923.412,643.287 933.202,759.05 942.992,719.299 952.782,886.191 962.572,879.939 972.362,877.913 982.152,1076.13 991.942,791.575 1001.73,1077.67 1011.52,1041.79 1021.31,1497.69 1031.1,1167.38 1040.89,797.568 1050.68,738.918 1060.47,741.647 1070.26,872.046 1080.05,1557.79 1089.84,793.769 1099.63,770.994 1109.42,707.459 1119.21,722.945 1129,824.709 1138.79,676.228 1148.58,649.317 1158.37,668.743 1168.16,679.543 1177.95,680.389 1187.74,724.147 1197.53,849.744 1207.32,647.839 1217.11,762.192 1226.9,767.873 1236.69,628.049 1246.48,757.564 1256.27,713.267 1266.06,658.791 1275.85,660.886 1285.64,719.572 1295.43,654.043 1305.22,817.2 1315.01,812.978 1324.8,666.153 1334.59,660.971 1344.38,690.806 1354.17,618.973 1363.96,664.796 1373.75,805.769 1383.54,918.624 1393.33,724.186 1403.12,699.154 1412.91,852.704 1422.7,895.669 1432.49,704.885 1442.28,889.124 1452.07,985.495 1461.86,907.463 1471.65,744.261 1481.44,651.451 1491.23,809.72 1501.02,654.304 1510.81,920.655 1520.6,739.786 1530.39,752.151 1540.18,685.744 1549.97,681.604 1559.76,695.988 1569.55,824.559 1579.34,827.257 1589.13,781.708 1598.92,758.823 1608.71,907.443 1618.5,723.89 1628.29,702.581 1638.08,683.588 1647.87,795.215 1657.66,842.319 1667.45,1038.54 1677.24,736.662 1687.03,805.178 1696.82,1408.79 1706.61,679.996 1716.4,895.844 1726.19,1131.44 1735.98,1128.25 1745.77,888.434 1755.56,748.732 1765.35,996.986 1775.14,792.997 1784.93,777.699 1794.72,922.757 1804.51,715.923 1814.3,859.136 1824.09,798.642 1833.88,729.161 1843.67,1016.42 1853.46,698.114 1863.25,761.204 1873.04,951.897 1882.83,899.576 1892.62,1019.61 1902.41,825.114 1912.2,651.555 1921.99,998.784 1931.78,683.797 1941.57,724.577 1951.36,650.731 1961.15,707.504 1970.94,671.417 1980.73,999.015 1990.52,827.988 2000.31,1272.1 2010.11,960.045 2019.9,991.562 2029.69,944.219 2039.48,798.702 2049.27,761.669 2059.06,707.61 2068.85,685.038 2078.64,862.222 2088.43,994.186 2098.22,644.333 2108.01,628.582 2117.8,859.836 2127.59,727.257 2137.38,631.885 2147.17,536.748 2156.96,605.757 2166.75,640.197 2176.54,603.283 2186.33,565.238 2196.12,604.817 2205.91,564.26 2215.7,586.656 2225.49,533.854 2235.28,603.582 2245.07,568.112 2254.86,610.108 2264.65,652.434 2274.44,736.292 2284.23,590.395 2294.02,726.155 \"/>\n",
       "<path clip-path=\"url(#clip430)\" d=\"M1076.22 1379.86 L1553.81 1379.86 L1553.81 1224.34 L1076.22 1224.34  Z\" fill=\"#ffffff\" fill-rule=\"evenodd\" fill-opacity=\"1\"/>\n",
       "<polyline clip-path=\"url(#clip430)\" style=\"stroke:#000000; stroke-linecap:round; stroke-linejoin:round; stroke-width:4; stroke-opacity:1; fill:none\" points=\"1076.22,1379.86 1553.81,1379.86 1553.81,1224.34 1076.22,1224.34 1076.22,1379.86 \"/>\n",
       "<polyline clip-path=\"url(#clip430)\" style=\"stroke:#ffa500; stroke-linecap:round; stroke-linejoin:round; stroke-width:4; stroke-opacity:1; fill:none\" points=\"1099.28,1276.18 1237.64,1276.18 \"/>\n",
       "<path clip-path=\"url(#clip430)\" d=\"M1260.7 1258.9 L1265.38 1258.9 L1265.38 1293.46 L1260.7 1293.46 L1260.7 1258.9 Z\" fill=\"#000000\" fill-rule=\"nonzero\" fill-opacity=\"1\" /><path clip-path=\"url(#clip430)\" d=\"M1291.07 1277.25 Q1292.58 1277.76 1293.99 1279.43 Q1295.43 1281.1 1296.86 1284.01 L1301.61 1293.46 L1296.58 1293.46 L1292.16 1284.59 Q1290.45 1281.12 1288.83 1279.98 Q1287.23 1278.85 1284.45 1278.85 L1279.36 1278.85 L1279.36 1293.46 L1274.69 1293.46 L1274.69 1258.9 L1285.24 1258.9 Q1291.17 1258.9 1294.08 1261.37 Q1297 1263.85 1297 1268.85 Q1297 1272.11 1295.47 1274.27 Q1293.97 1276.42 1291.07 1277.25 M1279.36 1262.74 L1279.36 1275.01 L1285.24 1275.01 Q1288.62 1275.01 1290.33 1273.46 Q1292.07 1271.88 1292.07 1268.85 Q1292.07 1265.82 1290.33 1264.29 Q1288.62 1262.74 1285.24 1262.74 L1279.36 1262.74 Z\" fill=\"#000000\" fill-rule=\"nonzero\" fill-opacity=\"1\" /><path clip-path=\"url(#clip430)\" d=\"M1307.63 1258.9 L1312.3 1258.9 L1312.3 1273.5 L1327.81 1258.9 L1333.83 1258.9 L1316.68 1275.01 L1335.06 1293.46 L1328.9 1293.46 L1312.3 1276.81 L1312.3 1293.46 L1307.63 1293.46 L1307.63 1258.9 Z\" fill=\"#000000\" fill-rule=\"nonzero\" fill-opacity=\"1\" /><path clip-path=\"url(#clip430)\" d=\"M1362.28 1288.53 L1362.28 1279.24 L1354.64 1279.24 L1354.64 1275.4 L1366.91 1275.4 L1366.91 1290.24 Q1364.2 1292.16 1360.94 1293.16 Q1357.67 1294.13 1353.97 1294.13 Q1345.87 1294.13 1341.28 1289.41 Q1336.72 1284.66 1336.72 1276.21 Q1336.72 1267.74 1341.28 1263.02 Q1345.87 1258.27 1353.97 1258.27 Q1357.35 1258.27 1360.38 1259.1 Q1363.44 1259.94 1366 1261.56 L1366 1266.54 Q1363.41 1264.34 1360.5 1263.22 Q1357.58 1262.11 1354.36 1262.11 Q1348.02 1262.11 1344.82 1265.66 Q1341.65 1269.2 1341.65 1276.21 Q1341.65 1283.2 1344.82 1286.74 Q1348.02 1290.28 1354.36 1290.28 Q1356.84 1290.28 1358.78 1289.87 Q1360.73 1289.43 1362.28 1288.53 Z\" fill=\"#000000\" fill-rule=\"nonzero\" fill-opacity=\"1\" /><path clip-path=\"url(#clip430)\" d=\"M1375.45 1258.9 L1380.12 1258.9 L1380.12 1289.52 L1396.95 1289.52 L1396.95 1293.46 L1375.45 1293.46 L1375.45 1258.9 Z\" fill=\"#000000\" fill-rule=\"nonzero\" fill-opacity=\"1\" /><path clip-path=\"url(#clip430)\" d=\"M1421.37 1301.33 L1421.37 1304.64 L1396.75 1304.64 L1396.75 1301.33 L1421.37 1301.33 Z\" fill=\"#000000\" fill-rule=\"nonzero\" fill-opacity=\"1\" /><path clip-path=\"url(#clip430)\" d=\"M1441.91 1268.29 L1441.91 1272.32 Q1440.1 1271.4 1438.16 1270.93 Q1436.21 1270.47 1434.13 1270.47 Q1430.96 1270.47 1429.36 1271.44 Q1427.79 1272.41 1427.79 1274.36 Q1427.79 1275.84 1428.92 1276.7 Q1430.06 1277.53 1433.48 1278.29 L1434.94 1278.62 Q1439.48 1279.59 1441.37 1281.37 Q1443.3 1283.13 1443.3 1286.3 Q1443.3 1289.91 1440.43 1292.02 Q1437.58 1294.13 1432.58 1294.13 Q1430.49 1294.13 1428.23 1293.71 Q1425.98 1293.32 1423.48 1292.51 L1423.48 1288.11 Q1425.84 1289.34 1428.13 1289.96 Q1430.43 1290.56 1432.67 1290.56 Q1435.68 1290.56 1437.3 1289.54 Q1438.92 1288.5 1438.92 1286.63 Q1438.92 1284.89 1437.74 1283.97 Q1436.58 1283.04 1432.62 1282.18 L1431.14 1281.84 Q1427.18 1281 1425.43 1279.29 Q1423.67 1277.55 1423.67 1274.54 Q1423.67 1270.89 1426.26 1268.9 Q1428.85 1266.91 1433.62 1266.91 Q1435.98 1266.91 1438.06 1267.25 Q1440.15 1267.6 1441.91 1268.29 Z\" fill=\"#000000\" fill-rule=\"nonzero\" fill-opacity=\"1\" /><path clip-path=\"url(#clip430)\" d=\"M1472.25 1279.43 L1472.25 1281.51 L1452.67 1281.51 Q1452.95 1285.91 1455.31 1288.22 Q1457.69 1290.52 1461.93 1290.52 Q1464.38 1290.52 1466.68 1289.91 Q1468.99 1289.31 1471.26 1288.11 L1471.26 1292.14 Q1468.97 1293.11 1466.56 1293.62 Q1464.15 1294.13 1461.68 1294.13 Q1455.47 1294.13 1451.84 1290.52 Q1448.23 1286.91 1448.23 1280.75 Q1448.23 1274.38 1451.65 1270.66 Q1455.1 1266.91 1460.93 1266.91 Q1466.17 1266.91 1469.2 1270.29 Q1472.25 1273.64 1472.25 1279.43 M1467.99 1278.18 Q1467.95 1274.68 1466.03 1272.6 Q1464.13 1270.52 1460.98 1270.52 Q1457.42 1270.52 1455.26 1272.53 Q1453.13 1274.54 1452.81 1278.2 L1467.99 1278.18 Z\" fill=\"#000000\" fill-rule=\"nonzero\" fill-opacity=\"1\" /><path clip-path=\"url(#clip430)\" d=\"M1481.79 1280.52 Q1481.79 1285.22 1483.71 1287.9 Q1485.66 1290.56 1489.04 1290.56 Q1492.42 1290.56 1494.36 1287.9 Q1496.3 1285.22 1496.3 1280.52 Q1496.3 1275.82 1494.36 1273.16 Q1492.42 1270.47 1489.04 1270.47 Q1485.66 1270.47 1483.71 1273.16 Q1481.79 1275.82 1481.79 1280.52 M1496.3 1289.57 Q1494.96 1291.88 1492.9 1293.02 Q1490.86 1294.13 1487.99 1294.13 Q1483.3 1294.13 1480.33 1290.38 Q1477.39 1286.63 1477.39 1280.52 Q1477.39 1274.41 1480.33 1270.66 Q1483.3 1266.91 1487.99 1266.91 Q1490.86 1266.91 1492.9 1268.04 Q1494.96 1269.15 1496.3 1271.47 L1496.3 1267.53 L1500.56 1267.53 L1500.56 1303.32 L1496.3 1303.32 L1496.3 1289.57 Z\" fill=\"#000000\" fill-rule=\"nonzero\" fill-opacity=\"1\" /><polyline clip-path=\"url(#clip430)\" style=\"stroke:#ff0000; stroke-linecap:round; stroke-linejoin:round; stroke-width:4; stroke-opacity:1; fill:none\" points=\"1099.28,1328.02 1237.64,1328.02 \"/>\n",
       "<path clip-path=\"url(#clip430)\" d=\"M1260.7 1310.74 L1265.38 1310.74 L1265.38 1345.3 L1260.7 1345.3 L1260.7 1310.74 Z\" fill=\"#000000\" fill-rule=\"nonzero\" fill-opacity=\"1\" /><path clip-path=\"url(#clip430)\" d=\"M1291.07 1329.09 Q1292.58 1329.6 1293.99 1331.27 Q1295.43 1332.94 1296.86 1335.85 L1301.61 1345.3 L1296.58 1345.3 L1292.16 1336.43 Q1290.45 1332.96 1288.83 1331.82 Q1287.23 1330.69 1284.45 1330.69 L1279.36 1330.69 L1279.36 1345.3 L1274.69 1345.3 L1274.69 1310.74 L1285.24 1310.74 Q1291.17 1310.74 1294.08 1313.21 Q1297 1315.69 1297 1320.69 Q1297 1323.95 1295.47 1326.11 Q1293.97 1328.26 1291.07 1329.09 M1279.36 1314.58 L1279.36 1326.85 L1285.24 1326.85 Q1288.62 1326.85 1290.33 1325.3 Q1292.07 1323.72 1292.07 1320.69 Q1292.07 1317.66 1290.33 1316.13 Q1288.62 1314.58 1285.24 1314.58 L1279.36 1314.58 Z\" fill=\"#000000\" fill-rule=\"nonzero\" fill-opacity=\"1\" /><path clip-path=\"url(#clip430)\" d=\"M1307.63 1310.74 L1312.3 1310.74 L1312.3 1325.34 L1327.81 1310.74 L1333.83 1310.74 L1316.68 1326.85 L1335.06 1345.3 L1328.9 1345.3 L1312.3 1328.65 L1312.3 1345.3 L1307.63 1345.3 L1307.63 1310.74 Z\" fill=\"#000000\" fill-rule=\"nonzero\" fill-opacity=\"1\" /><path clip-path=\"url(#clip430)\" d=\"M1362.28 1340.37 L1362.28 1331.08 L1354.64 1331.08 L1354.64 1327.24 L1366.91 1327.24 L1366.91 1342.08 Q1364.2 1344 1360.94 1345 Q1357.67 1345.97 1353.97 1345.97 Q1345.87 1345.97 1341.28 1341.25 Q1336.72 1336.5 1336.72 1328.05 Q1336.72 1319.58 1341.28 1314.86 Q1345.87 1310.11 1353.97 1310.11 Q1357.35 1310.11 1360.38 1310.94 Q1363.44 1311.78 1366 1313.4 L1366 1318.38 Q1363.41 1316.18 1360.5 1315.06 Q1357.58 1313.95 1354.36 1313.95 Q1348.02 1313.95 1344.82 1317.5 Q1341.65 1321.04 1341.65 1328.05 Q1341.65 1335.04 1344.82 1338.58 Q1348.02 1342.12 1354.36 1342.12 Q1356.84 1342.12 1358.78 1341.71 Q1360.73 1341.27 1362.28 1340.37 Z\" fill=\"#000000\" fill-rule=\"nonzero\" fill-opacity=\"1\" /><path clip-path=\"url(#clip430)\" d=\"M1375.45 1310.74 L1380.12 1310.74 L1380.12 1341.36 L1396.95 1341.36 L1396.95 1345.3 L1375.45 1345.3 L1375.45 1310.74 Z\" fill=\"#000000\" fill-rule=\"nonzero\" fill-opacity=\"1\" /><path clip-path=\"url(#clip430)\" d=\"M1421.37 1353.17 L1421.37 1356.48 L1396.75 1356.48 L1396.75 1353.17 L1421.37 1353.17 Z\" fill=\"#000000\" fill-rule=\"nonzero\" fill-opacity=\"1\" /><path clip-path=\"url(#clip430)\" d=\"M1441.91 1320.13 L1441.91 1324.16 Q1440.1 1323.24 1438.16 1322.77 Q1436.21 1322.31 1434.13 1322.31 Q1430.96 1322.31 1429.36 1323.28 Q1427.79 1324.25 1427.79 1326.2 Q1427.79 1327.68 1428.92 1328.54 Q1430.06 1329.37 1433.48 1330.13 L1434.94 1330.46 Q1439.48 1331.43 1441.37 1333.21 Q1443.3 1334.97 1443.3 1338.14 Q1443.3 1341.75 1440.43 1343.86 Q1437.58 1345.97 1432.58 1345.97 Q1430.49 1345.97 1428.23 1345.55 Q1425.98 1345.16 1423.48 1344.35 L1423.48 1339.95 Q1425.84 1341.18 1428.13 1341.8 Q1430.43 1342.4 1432.67 1342.4 Q1435.68 1342.4 1437.3 1341.38 Q1438.92 1340.34 1438.92 1338.47 Q1438.92 1336.73 1437.74 1335.81 Q1436.58 1334.88 1432.62 1334.02 L1431.14 1333.68 Q1427.18 1332.84 1425.43 1331.13 Q1423.67 1329.39 1423.67 1326.38 Q1423.67 1322.73 1426.26 1320.74 Q1428.85 1318.75 1433.62 1318.75 Q1435.98 1318.75 1438.06 1319.09 Q1440.15 1319.44 1441.91 1320.13 Z\" fill=\"#000000\" fill-rule=\"nonzero\" fill-opacity=\"1\" /><path clip-path=\"url(#clip430)\" d=\"M1450.08 1319.37 L1454.34 1319.37 L1454.34 1345.3 L1450.08 1345.3 L1450.08 1319.37 M1450.08 1309.28 L1454.34 1309.28 L1454.34 1314.67 L1450.08 1314.67 L1450.08 1309.28 Z\" fill=\"#000000\" fill-rule=\"nonzero\" fill-opacity=\"1\" /><path clip-path=\"url(#clip430)\" d=\"M1483.43 1324.35 Q1485.03 1321.48 1487.25 1320.11 Q1489.48 1318.75 1492.49 1318.75 Q1496.54 1318.75 1498.74 1321.59 Q1500.93 1324.42 1500.93 1329.65 L1500.93 1345.3 L1496.65 1345.3 L1496.65 1329.79 Q1496.65 1326.06 1495.33 1324.25 Q1494.01 1322.45 1491.3 1322.45 Q1487.99 1322.45 1486.07 1324.65 Q1484.15 1326.85 1484.15 1330.64 L1484.15 1345.3 L1479.87 1345.3 L1479.87 1329.79 Q1479.87 1326.04 1478.55 1324.25 Q1477.23 1322.45 1474.48 1322.45 Q1471.21 1322.45 1469.29 1324.67 Q1467.37 1326.87 1467.37 1330.64 L1467.37 1345.3 L1463.09 1345.3 L1463.09 1319.37 L1467.37 1319.37 L1467.37 1323.4 Q1468.83 1321.01 1470.86 1319.88 Q1472.9 1318.75 1475.7 1318.75 Q1478.53 1318.75 1480.49 1320.18 Q1482.49 1321.62 1483.43 1324.35 Z\" fill=\"#000000\" fill-rule=\"nonzero\" fill-opacity=\"1\" /><path clip-path=\"url(#clip430)\" d=\"M1526.49 1323.31 L1526.49 1309.28 L1530.75 1309.28 L1530.75 1345.3 L1526.49 1345.3 L1526.49 1341.41 Q1525.15 1343.72 1523.09 1344.86 Q1521.05 1345.97 1518.18 1345.97 Q1513.48 1345.97 1510.52 1342.22 Q1507.58 1338.47 1507.58 1332.36 Q1507.58 1326.25 1510.52 1322.5 Q1513.48 1318.75 1518.18 1318.75 Q1521.05 1318.75 1523.09 1319.88 Q1525.15 1320.99 1526.49 1323.31 M1511.98 1332.36 Q1511.98 1337.06 1513.9 1339.74 Q1515.84 1342.4 1519.22 1342.4 Q1522.6 1342.4 1524.55 1339.74 Q1526.49 1337.06 1526.49 1332.36 Q1526.49 1327.66 1524.55 1325 Q1522.6 1322.31 1519.22 1322.31 Q1515.84 1322.31 1513.9 1325 Q1511.98 1327.66 1511.98 1332.36 Z\" fill=\"#000000\" fill-rule=\"nonzero\" fill-opacity=\"1\" /></svg>\n"
      ]
     },
     "execution_count": 16,
     "metadata": {},
     "output_type": "execute_result"
    }
   ],
   "source": [
    "E0=NbodyEnergy(u0_B, Gm_B)\n",
    "year=365.25\n",
    "yrange=(1e-18,1e-14)\n",
    "ΔE1 = map(x->NbodyEnergy(BigFloat.(x),Gm_B), sol1.u)./E0.-1\n",
    "ΔE2 = map(x->NbodyEnergy(BigFloat.(x),Gm_B), sol2.u)./E0.-1\n",
    "plot(title=\"Energy Error\",xlabel=\"t (years)\", ylabel=\"log10(ΔE/E0)\", \n",
    "     yscale=:log10, ylims=yrange, legend=:bottom)\n",
    "plot!(sol1.t./year,abs.(ΔE1),label=\"IRKGL_seq\", color=\"orange\")\n",
    "plot!(sol2.t./year,abs.(ΔE2),label=\"IRKGL_simd\", color=\"red\")"
   ]
  },
  {
   "cell_type": "code",
   "execution_count": null,
   "metadata": {},
   "outputs": [],
   "source": []
  }
 ],
 "metadata": {
  "@webio": {
   "lastCommId": null,
   "lastKernelId": null
  },
  "kernelspec": {
   "display_name": "Julia 1.6.6",
   "language": "julia",
   "name": "julia-1.6"
  },
  "language_info": {
   "file_extension": ".jl",
   "mimetype": "application/julia",
   "name": "julia",
   "version": "1.6.6"
  }
 },
 "nbformat": 4,
 "nbformat_minor": 2
}
